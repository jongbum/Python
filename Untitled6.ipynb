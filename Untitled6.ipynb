{
 "metadata": {
  "name": "",
  "signature": "sha256:3966333b48adb117a6703150ba7ea6520bf1515310a318ac4e362e03ad05c872"
 },
 "nbformat": 3,
 "nbformat_minor": 0,
 "worksheets": [
  {
   "cells": [
    {
     "cell_type": "code",
     "collapsed": false,
     "input": [
      "num = int(raw_input('num : '))"
     ],
     "language": "python",
     "metadata": {},
     "outputs": [
      {
       "name": "stdout",
       "output_type": "stream",
       "stream": "stdout",
       "text": [
        "num : 100\n"
       ]
      }
     ],
     "prompt_number": 1
    },
    {
     "cell_type": "markdown",
     "metadata": {},
     "source": [
      "int\ud0c0\uc785\uc758 input \uc744 \ubc1b\uc2b5\ub2c8\ub2e4. \ubc1b\uc740 \uc218\ub97c num\uc5d0 \uc800\uc7a5\ud569\ub2c8\ub2e4."
     ]
    },
    {
     "cell_type": "code",
     "collapsed": false,
     "input": [
      "for x in range(1,num+1):\n",
      "    for k in range(2,num):\n",
      "        if x%k==0:\n",
      "            if x==k:\n",
      "                print x\n",
      "                break\n",
      "            break"
     ],
     "language": "python",
     "metadata": {},
     "outputs": [
      {
       "output_type": "stream",
       "stream": "stdout",
       "text": [
        "2\n",
        "3\n",
        "5\n",
        "7\n",
        "11\n",
        "13\n",
        "17\n",
        "19\n",
        "23\n",
        "29\n",
        "31\n",
        "37\n",
        "41\n",
        "43\n",
        "47\n",
        "53\n",
        "59\n",
        "61\n",
        "67\n",
        "71\n",
        "73\n",
        "79\n",
        "83\n",
        "89\n",
        "97\n"
       ]
      }
     ],
     "prompt_number": 2
    },
    {
     "cell_type": "markdown",
     "metadata": {},
     "source": [
      "for x in range(1,num+1)\uc740 1\ubd80\ud130 \uc785\ub825\ub41c \uac12\uae4c\uc9c0 \ubc18\ubcf5\ud574\uc90d\ub2c8\ub2e4."
     ]
    },
    {
     "cell_type": "markdown",
     "metadata": {},
     "source": [
      " for k in range(2,num)\uc740 2\ubd80\ud130 \uc785\ub825\ub41c \uac12\uc758 -1 \uae4c\uc9c0 \ubc18\ubcf5\ud574\uc90d\ub2c8\ub2e4."
     ]
    },
    {
     "cell_type": "markdown",
     "metadata": {},
     "source": [
      "if x%k==0\ub294 x\uc640 k\ub97c \ub098\ub220\uc11c \ub098\uba38\uc9c0\uac00 0\uc778 \uac83\uc744 \uace8\ub77c \uc90d\ub2c8\ub2e4."
     ]
    },
    {
     "cell_type": "markdown",
     "metadata": {},
     "source": [
      "if x==k \ub098\uba38\uc9c0\uac00 0\uc778 \uac83\uc911 x\uc640 k\uac00 \uac19\uc740 \uc218\ub97c \uace8\ub77c \uc90d\ub2c8\ub2e4. "
     ]
    },
    {
     "cell_type": "markdown",
     "metadata": {},
     "source": [
      "\uc989 \ub098\ub220\uc11c \ub098\uba38\uc9c0\uac00 0 \uc774\uace0 \uac19\uc740\uac83 1\uacfc \uc790\uae30\uc790\uc2e0\uc73c\ub85c\ub9cc \ub098\ub204\uc5b4\uc9c0\ub294 \uc18c\uc218\ub97c \ucc3e\uc544\uc8fc\ub294 \ud504\ub85c\uadf8\ub7a8\uc785\ub2c8\ub2e4. "
     ]
    }
   ],
   "metadata": {}
  }
 ]
}