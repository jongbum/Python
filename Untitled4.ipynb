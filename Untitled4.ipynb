{
 "metadata": {
  "name": "",
  "signature": "sha256:e5fd4415b8366152c422ac46f3190d7eb67a70542d7a60b36787c114773e7c63"
 },
 "nbformat": 3,
 "nbformat_minor": 0,
 "worksheets": [
  {
   "cells": [
    {
     "cell_type": "code",
     "collapsed": false,
     "input": [
      "for x in range(1,100):\n",
      "    if x%2 == 1:\n",
      "        print x\n",
      "        "
     ],
     "language": "python",
     "metadata": {},
     "outputs": [
      {
       "output_type": "stream",
       "stream": "stdout",
       "text": [
        "1\n",
        "3\n",
        "5\n",
        "7\n",
        "9\n",
        "11\n",
        "13\n",
        "15\n",
        "17\n",
        "19\n",
        "21\n",
        "23\n",
        "25\n",
        "27\n",
        "29\n",
        "31\n",
        "33\n",
        "35\n",
        "37\n",
        "39\n",
        "41\n",
        "43\n",
        "45\n",
        "47\n",
        "49\n",
        "51\n",
        "53\n",
        "55\n",
        "57\n",
        "59\n",
        "61\n",
        "63\n",
        "65\n",
        "67\n",
        "69\n",
        "71\n",
        "73\n",
        "75\n",
        "77\n",
        "79\n",
        "81\n",
        "83\n",
        "85\n",
        "87\n",
        "89\n",
        "91\n",
        "93\n",
        "95\n",
        "97\n",
        "99\n"
       ]
      }
     ],
     "prompt_number": 1
    },
    {
     "cell_type": "markdown",
     "metadata": {},
     "source": [
      "for x in range(1,101) \uc774\uac83\uc740 x\uc5d0 1\ubd80\ud130 100\uae4c\uc9c0 \uc785\ub825\ud558\uace0  "
     ]
    },
    {
     "cell_type": "markdown",
     "metadata": {},
     "source": [
      "if x%2 == 1 \uc740 2\ub85c \ub098\ub204\uc5b4 \ub098\uba38\uc9c0\uac00 1\uc774\ub418\ub294 \uc989 \ud640\uc218\ub97c \ucc3e\ub294 if\ubb38\uc744 \ub123\uc5b4\uc11c "
     ]
    },
    {
     "cell_type": "markdown",
     "metadata": {},
     "source": [
      "\uadf8\uc5d0 \ud574\ub2f9\ub418\ub294 x\ub9cc \ucd9c\ub825 \ud558\uac8c \ub418\ub294 \uac83\uc785\ub2c8\ub2e4. "
     ]
    }
   ],
   "metadata": {}
  }
 ]
}