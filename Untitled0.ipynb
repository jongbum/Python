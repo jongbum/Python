{
 "metadata": {
  "name": "",
  "signature": "sha256:967f3db97fe91c3a145c34bb630cfa2c39c62e4c141c07164056e4634568efd1"
 },
 "nbformat": 3,
 "nbformat_minor": 0,
 "worksheets": [
  {
   "cells": [
    {
     "cell_type": "code",
     "collapsed": false,
     "input": [
      "a=\"Hello Python\""
     ],
     "language": "python",
     "metadata": {},
     "outputs": [],
     "prompt_number": 1
    },
    {
     "cell_type": "markdown",
     "metadata": {},
     "source": [
      "a\uc5d0 Hello Python \uc744 \uc785\ub825\ud569\ub2c8\ub2e4. "
     ]
    },
    {
     "cell_type": "code",
     "collapsed": false,
     "input": [
      "a = a[6:] +a[5]+ a[0:5]"
     ],
     "language": "python",
     "metadata": {},
     "outputs": [],
     "prompt_number": 2
    },
    {
     "cell_type": "markdown",
     "metadata": {},
     "source": [
      "a[6:]\uc740 6\ubc88\ubd80\ud130 \ub05d\uae4c\uc9c0\ub97c \uc758\ubbf8\ud569\ub2c8\ub2e4."
     ]
    },
    {
     "cell_type": "markdown",
     "metadata": {},
     "source": [
      "a[5]\ub294 \ub744\uc5b4 \uc4f0\uae30\ub97c \uc758\ubbf8\ud569\ub2c8\ub2e4."
     ]
    },
    {
     "cell_type": "markdown",
     "metadata": {},
     "source": [
      "a[0:5]\ub294 \uccab\ubc88\uc9f8 H\ubd80\ud130 5\ubc88\uc9f8\uc778 \ub744\uc5b4\uc4f0\uae30 \uc804\uae4c\uc9c0\ub97c \uc758\ubbf8\ud569\ub2c8\ub2e4. "
     ]
    },
    {
     "cell_type": "code",
     "collapsed": false,
     "input": [
      "print a"
     ],
     "language": "python",
     "metadata": {},
     "outputs": [
      {
       "output_type": "stream",
       "stream": "stdout",
       "text": [
        "Python Hello\n"
       ]
      }
     ],
     "prompt_number": 3
    }
   ],
   "metadata": {}
  }
 ]
}