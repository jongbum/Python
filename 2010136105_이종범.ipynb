{
 "metadata": {
  "name": "",
  "signature": "sha256:0e22fc3384bde1d31f5babae5074419c91eda90ada1af3541efd78dbef1f3861"
 },
 "nbformat": 3,
 "nbformat_minor": 0,
 "worksheets": [
  {
   "cells": [
    {
     "cell_type": "markdown",
     "metadata": {},
     "source": [
      "\ubb38\uc81c 1\ubc88."
     ]
    },
    {
     "cell_type": "code",
     "collapsed": false,
     "input": [
      "a=\"Hello Python\""
     ],
     "language": "python",
     "metadata": {},
     "outputs": [],
     "prompt_number": 1
    },
    {
     "cell_type": "markdown",
     "metadata": {},
     "source": [
      "a\uc5d0 Hello Python \uc744 \uc785\ub825\ud569\ub2c8\ub2e4. "
     ]
    },
    {
     "cell_type": "code",
     "collapsed": false,
     "input": [
      "a = a[6:] +a[5]+ a[0:5]"
     ],
     "language": "python",
     "metadata": {},
     "outputs": [],
     "prompt_number": 2
    },
    {
     "cell_type": "markdown",
     "metadata": {},
     "source": [
      "a[6:]\uc740 6\ubc88\ubd80\ud130 \ub05d\uae4c\uc9c0\ub97c \uc758\ubbf8\ud569\ub2c8\ub2e4."
     ]
    },
    {
     "cell_type": "markdown",
     "metadata": {},
     "source": [
      "a[5]\ub294 \ub744\uc5b4 \uc4f0\uae30\ub97c \uc758\ubbf8\ud569\ub2c8\ub2e4."
     ]
    },
    {
     "cell_type": "markdown",
     "metadata": {},
     "source": [
      "a[0:5]\ub294 \uccab\ubc88\uc9f8 H\ubd80\ud130 5\ubc88\uc9f8\uc778 \ub744\uc5b4\uc4f0\uae30 \uc804\uae4c\uc9c0\ub97c \uc758\ubbf8\ud569\ub2c8\ub2e4. "
     ]
    },
    {
     "cell_type": "code",
     "collapsed": false,
     "input": [
      "print a"
     ],
     "language": "python",
     "metadata": {},
     "outputs": [
      {
       "output_type": "stream",
       "stream": "stdout",
       "text": [
        "Python Hello\n"
       ]
      }
     ],
     "prompt_number": 3
    },
    {
     "cell_type": "markdown",
     "metadata": {},
     "source": [
      "\ubb38\uc81c 2\ubc88."
     ]
    },
    {
     "cell_type": "code",
     "collapsed": false,
     "input": [
      "b=\"Hello Python World\""
     ],
     "language": "python",
     "metadata": {},
     "outputs": [],
     "prompt_number": 4
    },
    {
     "cell_type": "markdown",
     "metadata": {},
     "source": [
      "b\uc5d0 Hello Python World\ub97c \uc785\ub825\ud569\ub2c8\ub2e4."
     ]
    },
    {
     "cell_type": "code",
     "collapsed": false,
     "input": [
      "b = b[13:] + b[5] + b[6:12] + b[5] + b[:5]"
     ],
     "language": "python",
     "metadata": {},
     "outputs": [],
     "prompt_number": 5
    },
    {
     "cell_type": "markdown",
     "metadata": {},
     "source": [
      "b[13:]\uc740 13\ubc88\uc9f8 w\ubd80\ud130 \ub05d\uae4c\uc9c0\ub97c \uc758\ubbf8\ud569\ub2c8\ub2e4."
     ]
    },
    {
     "cell_type": "markdown",
     "metadata": {},
     "source": [
      "b[6:12]\ub294 6\ubc88\uc9f8 P\ubd80\ud130 12\ubc88\uc9f8 n\uae4c\uc9c0\ub97c \uc758\ubbf8\ud569\ub2c8\ub2e4."
     ]
    },
    {
     "cell_type": "markdown",
     "metadata": {},
     "source": [
      "b[:5]\ub294 \ucc98\uc74c\ubd80\ud130 5\ubc88\uc9f8 o\uae4c\uc9c0\ub97c \uc758\ubbf8\ud569\ub2c8\ub2e4."
     ]
    },
    {
     "cell_type": "code",
     "collapsed": false,
     "input": [
      "print b"
     ],
     "language": "python",
     "metadata": {},
     "outputs": [
      {
       "output_type": "stream",
       "stream": "stdout",
       "text": [
        "World Python Hello\n"
       ]
      }
     ],
     "prompt_number": 6
    },
    {
     "cell_type": "markdown",
     "metadata": {},
     "source": [
      "\ubb38\uc81c 3\ubc88."
     ]
    },
    {
     "cell_type": "code",
     "collapsed": false,
     "input": [
      "c = \"Hello\""
     ],
     "language": "python",
     "metadata": {},
     "outputs": [],
     "prompt_number": 7
    },
    {
     "cell_type": "markdown",
     "metadata": {},
     "source": [
      "c \uc5d0 Hello\ub97c \uc785\ub825\ud569\ub2c8\ub2e4."
     ]
    },
    {
     "cell_type": "code",
     "collapsed": false,
     "input": [
      "c = c[::-1]"
     ],
     "language": "python",
     "metadata": {},
     "outputs": [],
     "prompt_number": 8
    },
    {
     "cell_type": "markdown",
     "metadata": {},
     "source": [
      "c[::-1]\uc740 \ub4a4\uc5d0\uc11c\ubd80\ud130 \uc5ed\uc73c\ub85c \uc2dc\uc791\ud569\ub2c8\ub2e4. "
     ]
    },
    {
     "cell_type": "code",
     "collapsed": false,
     "input": [
      "print c"
     ],
     "language": "python",
     "metadata": {},
     "outputs": [
      {
       "output_type": "stream",
       "stream": "stdout",
       "text": [
        "olleH\n"
       ]
      }
     ],
     "prompt_number": 9
    },
    {
     "cell_type": "markdown",
     "metadata": {},
     "source": [
      "\n",
      "\ubb38\uc81c 4\ubc88."
     ]
    },
    {
     "cell_type": "code",
     "collapsed": false,
     "input": [
      "s = \"python\""
     ],
     "language": "python",
     "metadata": {},
     "outputs": [],
     "prompt_number": 10
    },
    {
     "cell_type": "code",
     "collapsed": false,
     "input": [
      "s[0],s[0][0],s[0][0][0]"
     ],
     "language": "python",
     "metadata": {},
     "outputs": [
      {
       "metadata": {},
       "output_type": "pyout",
       "prompt_number": 11,
       "text": [
        "('p', 'p', 'p')"
       ]
      }
     ],
     "prompt_number": 11
    },
    {
     "cell_type": "markdown",
     "metadata": {},
     "source": [
      "s[0]\uc740 1\ucc28\uc6d0 \ubc30\uc5f4\uc5d0 \uccab\ubc88\uc9f8 \uc6d0\uc18c\ub97c \ub9d0\ud558\ub294 \uac83\uc774\uace0 "
     ]
    },
    {
     "cell_type": "markdown",
     "metadata": {},
     "source": [
      "s[0][0]\ub294 2\ucc28\uc6d0 \ubc30\uc5f4\uc5d0\uc11c 1\ucc28\uc6d0 \ubc30\uc5f4\uc758 \uccab\ubc88\uc9f8 \uc6d0\uc18c\ub97c \ub9d0\ud558\ub294 \uac83\uc774\uace0 "
     ]
    },
    {
     "cell_type": "markdown",
     "metadata": {},
     "source": [
      "s[0][0][0]\ub294 3\ucc28\uc6d0 \ubc30\uc5f4\uc5d0\uc11c 1\ucc28\uc6d0 \ubc30\uc5f4\uc758 1\ucc28\uc6d0 \ubc30\uc5f4\uc758 \ucc98\ubc88\uc9f8 \uc6d0\uc18c\ub97c \ub9d0\ud558\ub294 \uac83\uc785\ub2c8\ub2e4. "
     ]
    },
    {
     "cell_type": "markdown",
     "metadata": {},
     "source": [
      "\ubaa8\ub450 \uccab\ubc88\uc9f8 \uc6d0\uc18c\ub97c \ub9d0\ud558\ub294 \uac83\uc774\ub2c8 p\ub97c \ucd9c\ub825\ud558\uac8c \ub429\ub2c8\ub2e4. "
     ]
    },
    {
     "cell_type": "code",
     "collapsed": false,
     "input": [
      "s[-100], s[100]"
     ],
     "language": "python",
     "metadata": {},
     "outputs": [
      {
       "ename": "IndexError",
       "evalue": "string index out of range",
       "output_type": "pyerr",
       "traceback": [
        "\u001b[1;31m---------------------------------------------------------------------------\u001b[0m\n\u001b[1;31mIndexError\u001b[0m                                Traceback (most recent call last)",
        "\u001b[1;32m<ipython-input-12-b4e334910beb>\u001b[0m in \u001b[0;36m<module>\u001b[1;34m()\u001b[0m\n\u001b[1;32m----> 1\u001b[1;33m \u001b[0ms\u001b[0m\u001b[1;33m[\u001b[0m\u001b[1;33m-\u001b[0m\u001b[1;36m100\u001b[0m\u001b[1;33m]\u001b[0m\u001b[1;33m,\u001b[0m \u001b[0ms\u001b[0m\u001b[1;33m[\u001b[0m\u001b[1;36m100\u001b[0m\u001b[1;33m]\u001b[0m\u001b[1;33m\u001b[0m\u001b[0m\n\u001b[0m",
        "\u001b[1;31mIndexError\u001b[0m: string index out of range"
       ]
      }
     ],
     "prompt_number": 12
    },
    {
     "cell_type": "markdown",
     "metadata": {},
     "source": [
      "s[-1]\uc774\ub77c \ud558\uba74 n\uc774 \ucd9c\ub825\ub429\ub2c8\ub2e4. -\ub294 \ub4a4\uc5d0\uc11c \ubd80\ud130 \ucd9c\ub825 \ud558\ub294 \uac83\uc778\ub370 "
     ]
    },
    {
     "cell_type": "markdown",
     "metadata": {},
     "source": [
      "\uc6d0\uc18c\uac00 6\uac1c\ub85c \uc774\ub8e8\uc5b4 \uc838\uc788\ub294\ub370 100\uc744 \uc785\ub825\ud558\uc5ec \ud06c\uae30\uac00 \ub9de\uc9c0 \uc54a\uc544 \uc5d0\ub7ec\uac00 \ub098\uc624\uac8c \ub429\ub2c8\ub2e4."
     ]
    },
    {
     "cell_type": "markdown",
     "metadata": {},
     "source": [
      "\uc704\uc640 \uac19\uc774 \uc6d0\uc18c\uac00 6\uac1c\uc778\ub370 s[100]\uc744 \uc785\ub825\ud558\uc5ec \uc5d0\ub7ec\uac00 \ub098\uc624\uac8c \ub429\ub2c8\ub2e4. "
     ]
    },
    {
     "cell_type": "code",
     "collapsed": false,
     "input": [
      "s[-100,100]"
     ],
     "language": "python",
     "metadata": {},
     "outputs": [
      {
       "ename": "TypeError",
       "evalue": "string indices must be integers, not tuple",
       "output_type": "pyerr",
       "traceback": [
        "\u001b[1;31m---------------------------------------------------------------------------\u001b[0m\n\u001b[1;31mTypeError\u001b[0m                                 Traceback (most recent call last)",
        "\u001b[1;32m<ipython-input-13-bf32d1c70cf0>\u001b[0m in \u001b[0;36m<module>\u001b[1;34m()\u001b[0m\n\u001b[1;32m----> 1\u001b[1;33m \u001b[0ms\u001b[0m\u001b[1;33m[\u001b[0m\u001b[1;33m-\u001b[0m\u001b[1;36m100\u001b[0m\u001b[1;33m,\u001b[0m\u001b[1;36m100\u001b[0m\u001b[1;33m]\u001b[0m\u001b[1;33m\u001b[0m\u001b[0m\n\u001b[0m",
        "\u001b[1;31mTypeError\u001b[0m: string indices must be integers, not tuple"
       ]
      }
     ],
     "prompt_number": 13
    },
    {
     "cell_type": "markdown",
     "metadata": {},
     "source": [
      "\ubc30\uc5f4\uc758 \uc778\ub371\uc2a4\ub294 \uc815\uc218\uac00 \uc640\uc57c\ud558\ub294\ub370 \ud29c\ud50c \uac1c\ub150\uc774 \ub4e4\uc5b4\uc640 \uc5d0\ub7ec\uac00 \ub098\ub294 \uac83\uc785\ub2c8\ub2e4. "
     ]
    },
    {
     "cell_type": "code",
     "collapsed": false,
     "input": [
      "s[1:-1]"
     ],
     "language": "python",
     "metadata": {},
     "outputs": [
      {
       "metadata": {},
       "output_type": "pyout",
       "prompt_number": 14,
       "text": [
        "'ytho'"
       ]
      }
     ],
     "prompt_number": 14
    },
    {
     "cell_type": "markdown",
     "metadata": {},
     "source": [
      "s[1:-1]\uc5d0\uc11c \uc55e\uc5d0 1\uc740 s[1]\uc744 \uc758\ubbf8\ud558\uc5ec python\uc5d0\uc11c y\ub97c \uc758\ubbf8\ud558\uace0 "
     ]
    },
    {
     "cell_type": "markdown",
     "metadata": {},
     "source": [
      "s[:-1]\uc740 python\uc5d0\uc11c \ub9c8\uc9c0\ub9c9 \ubd80\ubd84\uc744 \ube7c\ub294 \uac83\uc744 \uc758\ubbf8\ud569\ub2c8\ub2e4. \ub530\ub77c\uc11c "
     ]
    },
    {
     "cell_type": "markdown",
     "metadata": {},
     "source": [
      "s[1:-1]\uc740 s[1]\uc758 y\ubd80\ud130 \ub9c8\uc9c0\ub9c9 \ubd80\ubd84 n\uc744 \ube80 ython\uac00 \ucd9c\ub825 \ub418\uac8c \ub429\ub2c8\ub2e4. "
     ]
    },
    {
     "cell_type": "code",
     "collapsed": false,
     "input": [
      "s[3:-3]"
     ],
     "language": "python",
     "metadata": {},
     "outputs": [
      {
       "metadata": {},
       "output_type": "pyout",
       "prompt_number": 15,
       "text": [
        "''"
       ]
      }
     ],
     "prompt_number": 15
    },
    {
     "cell_type": "markdown",
     "metadata": {},
     "source": [
      "s[3]\uc740 h\ub97c \uc758\ubbf8\ud558\uac8c \ub418\uace0 s[:-3]\uc740 \ub4a4\uc5d0 3\uac1c\ub97c \ube80 pyt\ub97c \uc758\ubbf8\ud569\ub2c8\ub2e4. "
     ]
    },
    {
     "cell_type": "markdown",
     "metadata": {},
     "source": [
      "\ub530\ub77c\uc11c s[3:-3]\uc740 h\ubd80\ud130 \uc2dc\uc791\ud574\uc11c \ub4a4\uc5d0 3\uac1c\ub97c \ube80 \ub098\uba38\uc9c0\ub97c \ucd9c\ub825 \ud574\uc57c\ud558\ub294\ub370 \ub4a4\uc5d0\uc11c 3\uac1c\ub97c \ube7c\uac8c\ub418\uba74 "
     ]
    },
    {
     "cell_type": "markdown",
     "metadata": {},
     "source": [
      "\ub0a8\ub294 \ubb38\uc790\uac00 \uc5c6\uae30 \ub54c\ubb38\uc5d0 \ube48\uce78\uc778 ''\ub97c \ucd9c\ub825\ud558\uac8c \ub429\ub2c8\ub2e4. "
     ]
    },
    {
     "cell_type": "markdown",
     "metadata": {},
     "source": [
      "\ubb38\uc81c 5\ubc88."
     ]
    },
    {
     "cell_type": "code",
     "collapsed": false,
     "input": [
      "for x in range(1,101):\n",
      "    if x%2 == 1:\n",
      "        print x"
     ],
     "language": "python",
     "metadata": {},
     "outputs": [
      {
       "output_type": "stream",
       "stream": "stdout",
       "text": [
        "1\n",
        "3\n",
        "5\n",
        "7\n",
        "9\n",
        "11\n",
        "13\n",
        "15\n",
        "17\n",
        "19\n",
        "21\n",
        "23\n",
        "25\n",
        "27\n",
        "29\n",
        "31\n",
        "33\n",
        "35\n",
        "37\n",
        "39\n",
        "41\n",
        "43\n",
        "45\n",
        "47\n",
        "49\n",
        "51\n",
        "53\n",
        "55\n",
        "57\n",
        "59\n",
        "61\n",
        "63\n",
        "65\n",
        "67\n",
        "69\n",
        "71\n",
        "73\n",
        "75\n",
        "77\n",
        "79\n",
        "81\n",
        "83\n",
        "85\n",
        "87\n",
        "89\n",
        "91\n",
        "93\n",
        "95\n",
        "97\n",
        "99\n"
       ]
      }
     ],
     "prompt_number": 16
    },
    {
     "cell_type": "markdown",
     "metadata": {},
     "source": [
      "for x in range(1,101) \uc774\uac83\uc740 x\uc5d0 1\ubd80\ud130 100\uae4c\uc9c0 \uc785\ub825\ud558\uace0 "
     ]
    },
    {
     "cell_type": "markdown",
     "metadata": {},
     "source": [
      "if x%2 == 1 \uc740 2\ub85c \ub098\ub204\uc5b4 \ub098\uba38\uc9c0\uac00 1\uc774\ub418\ub294 \uc989 \ud640\uc218\ub97c \ucc3e\ub294 if\ubb38\uc744 \ub123\uc5b4\uc11c "
     ]
    },
    {
     "cell_type": "markdown",
     "metadata": {},
     "source": [
      "\uadf8\uc5d0 \ud574\ub2f9\ub418\ub294 x\ub9cc \ucd9c\ub825 \ud558\uac8c \ub418\ub294 \uac83\uc785\ub2c8\ub2e4. "
     ]
    },
    {
     "cell_type": "markdown",
     "metadata": {},
     "source": [
      "\ubb38\uc81c 6\ubc88. "
     ]
    },
    {
     "cell_type": "code",
     "collapsed": false,
     "input": [
      "a=0"
     ],
     "language": "python",
     "metadata": {},
     "outputs": [],
     "prompt_number": 17
    },
    {
     "cell_type": "markdown",
     "metadata": {},
     "source": [
      "a\uc5d0 \ucd08\uae30\uac12\uc744 0\uc744 \uc785\ub825\ud569\ub2c8\ub2e4. "
     ]
    },
    {
     "cell_type": "code",
     "collapsed": false,
     "input": [
      "sum=0"
     ],
     "language": "python",
     "metadata": {},
     "outputs": [],
     "prompt_number": 18
    },
    {
     "cell_type": "markdown",
     "metadata": {},
     "source": [
      "sum\uc5d0 \ucd08\uae30\uac12\uc744 0\uc744 \uc785\ub825\ud569\ub2c8\ub2e4."
     ]
    },
    {
     "cell_type": "code",
     "collapsed": false,
     "input": [
      "while a<=100:\n",
      "    a=a+1\n",
      "    if a%2==0:\n",
      "        sum +=a"
     ],
     "language": "python",
     "metadata": {},
     "outputs": [],
     "prompt_number": 19
    },
    {
     "cell_type": "markdown",
     "metadata": {},
     "source": [
      "while a<100 \uc740 a\uac00 100\uae4c\uc9c0 \ubc18\ubcf5 \uc2dc\ucf1c\uc90d\ub2c8\ub2e4. "
     ]
    },
    {
     "cell_type": "markdown",
     "metadata": {},
     "source": [
      "a=a+1\uc740 a\uc758 \uac12\uc744 1\uc529 \uc99d\uac00 \uc2dc\ucf1c\uc90d\ub2c8\ub2e4."
     ]
    },
    {
     "cell_type": "markdown",
     "metadata": {},
     "source": [
      "if a%2==0\uc740 a\uc758 \uac12\uc744 2\ub85c \ub098\ub220\uc11c \ub098\uba38\uc9c0\uac00 0\uc774 \ub418\ub294 \uc218\ub97c \ucc3e\ub294 \uc989 \uc9dd\uc218\ub97c \ucc3e\ub294 if\ubb38\uc785\ub2c8\ub2e4."
     ]
    },
    {
     "cell_type": "markdown",
     "metadata": {},
     "source": [
      "\ucc3e\uc740 \uc9dd\uc218\ub97c sum\uc5d0 \uae30\uc874\uc5d0 \uc788\ub294 \uac12\uacfc \ub354\ud574\uc11c \uac12\uc744 \ub123\uc2b5\ub2c8\ub2e4. "
     ]
    },
    {
     "cell_type": "code",
     "collapsed": false,
     "input": [
      "print sum"
     ],
     "language": "python",
     "metadata": {},
     "outputs": [
      {
       "output_type": "stream",
       "stream": "stdout",
       "text": [
        "2550\n"
       ]
      }
     ],
     "prompt_number": 20
    },
    {
     "cell_type": "markdown",
     "metadata": {},
     "source": [
      "\ubb38\uc81c 7\ubc88."
     ]
    },
    {
     "cell_type": "code",
     "collapsed": false,
     "input": [
      "num = int(raw_input('num : '))"
     ],
     "language": "python",
     "metadata": {},
     "outputs": [
      {
       "name": "stdout",
       "output_type": "stream",
       "stream": "stdout",
       "text": [
        "num : 100\n"
       ]
      }
     ],
     "prompt_number": 21
    },
    {
     "cell_type": "markdown",
     "metadata": {},
     "source": [
      "int\ud0c0\uc785\uc758 input \uc744 \ubc1b\uc2b5\ub2c8\ub2e4. \ubc1b\uc740 \uc218\ub97c num\uc5d0 \uc800\uc7a5\ud569\ub2c8\ub2e4."
     ]
    },
    {
     "cell_type": "code",
     "collapsed": false,
     "input": [
      "for x in range(1,num+1):\n",
      "    for k in range(2,num):\n",
      "        if x%k==0:\n",
      "            if x==k:\n",
      "                print x\n",
      "                break\n",
      "            break"
     ],
     "language": "python",
     "metadata": {},
     "outputs": [
      {
       "output_type": "stream",
       "stream": "stdout",
       "text": [
        "2\n",
        "3\n",
        "5\n",
        "7\n",
        "11\n",
        "13\n",
        "17\n",
        "19\n",
        "23\n",
        "29\n",
        "31\n",
        "37\n",
        "41\n",
        "43\n",
        "47\n",
        "53\n",
        "59\n",
        "61\n",
        "67\n",
        "71\n",
        "73\n",
        "79\n",
        "83\n",
        "89\n",
        "97\n"
       ]
      }
     ],
     "prompt_number": 22
    },
    {
     "cell_type": "markdown",
     "metadata": {},
     "source": [
      "for x in range(1,num+1)\uc740 1\ubd80\ud130 \uc785\ub825\ub41c \uac12\uae4c\uc9c0 \ubc18\ubcf5\ud574\uc90d\ub2c8\ub2e4."
     ]
    },
    {
     "cell_type": "markdown",
     "metadata": {},
     "source": [
      "for k in range(2,num)\uc740 2\ubd80\ud130 \uc785\ub825\ub41c \uac12\uc758 -1 \uae4c\uc9c0 \ubc18\ubcf5\ud574\uc90d\ub2c8\ub2e4."
     ]
    },
    {
     "cell_type": "markdown",
     "metadata": {},
     "source": [
      "if x%k==0\ub294 x\uc640 k\ub97c \ub098\ub220\uc11c \ub098\uba38\uc9c0\uac00 0\uc778 \uac83\uc744 \uace8\ub77c \uc90d\ub2c8\ub2e4."
     ]
    },
    {
     "cell_type": "markdown",
     "metadata": {},
     "source": [
      "if x==k \ub098\uba38\uc9c0\uac00 0\uc778 \uac83\uc911 x\uc640 k\uac00 \uac19\uc740 \uc218\ub97c \uace8\ub77c \uc90d\ub2c8\ub2e4. "
     ]
    },
    {
     "cell_type": "markdown",
     "metadata": {},
     "source": [
      "\uc989 \ub098\ub220\uc11c \ub098\uba38\uc9c0\uac00 0 \uc774\uace0 \uac19\uc740\uac83 1\uacfc \uc790\uae30\uc790\uc2e0\uc73c\ub85c\ub9cc \ub098\ub204\uc5b4\uc9c0\ub294 \uc18c\uc218\ub97c \ucc3e\uc544\uc8fc\ub294 \ud504\ub85c\uadf8\ub7a8\uc785\ub2c8\ub2e4. "
     ]
    },
    {
     "cell_type": "markdown",
     "metadata": {},
     "source": [
      "---------------------------------------------------------------------------"
     ]
    },
    {
     "cell_type": "markdown",
     "metadata": {},
     "source": [
      "\ub9c8\uc9c0\ub9c9 7\ubc88 \ubb38\uc81c\uc778 \uc18c\uc218\ub97c \uad6c\ud558\ub294 \ubd80\ubd84\uc5d0\uc11c \uc774\uc911 for \ubb38\uacfc \ub450\uac1c\uc758 if \ubb38\uc774 \ub098\uc624\ub294\ub370 c\uc5b8\uc5b4\uc640 \ub2ec\ub9ac \ub300\uad04\ud638\uac00 \uc5c6\uc5b4 "
     ]
    },
    {
     "cell_type": "markdown",
     "metadata": {},
     "source": [
      "break\uac00 \uc5b4\ub514\uae4c\uc9c0 \ud574\ub2f9\ub418\ub294\uc9c0 \uc54c\uae30 \ud798\ub4e4\uc5b4\uc11c \ub9c8\uc9c0\ub9c9 \ubb38\uc81c\ub97c \uc870\uae08 \ud798\ub4e4\uac8c \ud574\uacb0\ud588\uc2b5\ub2c8\ub2e4. "
     ]
    },
    {
     "cell_type": "markdown",
     "metadata": {},
     "source": [
      "\ub2e4\ub978 \ubb38\uc81c\ub4e4\uc740 \uc27d\uac8c \ud574\uacb0\ud560 \uc218 \uc788\uc5c8\uc2b5\ub2c8\ub2e4. python\uc5d0\ub300\ud55c \uc870\uc791\uc5b4\ub97c \uc2b5\ub4dd\ud560\uc218 \uc788\ub294 \uc88b\uc740 \uae30\ud68c\uc600\uc2b5\ub2c8\ub2e4."
     ]
    },
    {
     "cell_type": "markdown",
     "metadata": {},
     "source": [
      "\uc544\uc9c1\uae4c\uc9c0\ub294 \uc27d\uac8c \uc774\ud574\ud560 \uc218 \uc788\ub294 \ubd80\ubd84\uc774\ub77c \uc218\uc5c5\uc5d0 \ub530\ub77c\uac00\uae30\uac00 \uc5b4\ub835\uc9c0 \uc54a\uace0 \ub2e4\ub978 \uc5b8\uc5b4 \ubcf4\ub2e4\ub294 python\uc774 "
     ]
    },
    {
     "cell_type": "markdown",
     "metadata": {},
     "source": [
      "\ub354 \ub2e4\ub8e8\uae30 \uc27d\uace0 \uacb0\uacfc\ub97c \ubc14\ub85c\ubc14\ub85c \ubcfc\uc218 \uc788\uc5b4\uc11c \uc88b\uc740\uac83 \uac19\uc2b5\ub2c8\ub2e4. "
     ]
    }
   ],
   "metadata": {}
  }
 ]
}