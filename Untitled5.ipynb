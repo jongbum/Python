{
 "metadata": {
  "name": "",
  "signature": "sha256:847c5a6954e1cb5d0c2f2131211d581e2cfbce691b7231d6557b1d6eb478b0fe"
 },
 "nbformat": 3,
 "nbformat_minor": 0,
 "worksheets": [
  {
   "cells": [
    {
     "cell_type": "code",
     "collapsed": false,
     "input": [
      "a=0     "
     ],
     "language": "python",
     "metadata": {},
     "outputs": [],
     "prompt_number": 1
    },
    {
     "cell_type": "markdown",
     "metadata": {},
     "source": [
      "a\uc5d0 \ucd08\uae30\uac12\uc744 0\uc744 \uc785\ub825\ud569\ub2c8\ub2e4. "
     ]
    },
    {
     "cell_type": "code",
     "collapsed": false,
     "input": [
      "sum=0"
     ],
     "language": "python",
     "metadata": {},
     "outputs": [],
     "prompt_number": 2
    },
    {
     "cell_type": "markdown",
     "metadata": {},
     "source": [
      "sum\uc5d0 \ucd08\uae30\uac12\uc744 0\uc744 \uc785\ub825\ud569\ub2c8\ub2e4."
     ]
    },
    {
     "cell_type": "code",
     "collapsed": false,
     "input": [
      "while a<=100:\n",
      "    a=a+1\n",
      "    if a%2==0:\n",
      "        sum +=a\n",
      "        "
     ],
     "language": "python",
     "metadata": {},
     "outputs": [],
     "prompt_number": 5
    },
    {
     "cell_type": "markdown",
     "metadata": {},
     "source": [
      "while a<100 \uc740 a\uac00 100\uae4c\uc9c0 \ubc18\ubcf5 \uc2dc\ucf1c\uc90d\ub2c8\ub2e4. "
     ]
    },
    {
     "cell_type": "markdown",
     "metadata": {},
     "source": [
      "a=a+1\uc740 a\uc758 \uac12\uc744 1\uc529 \uc99d\uac00 \uc2dc\ucf1c\uc90d\ub2c8\ub2e4."
     ]
    },
    {
     "cell_type": "markdown",
     "metadata": {},
     "source": [
      "if a%2==0\uc740 a\uc758 \uac12\uc744 2\ub85c \ub098\ub220\uc11c \ub098\uba38\uc9c0\uac00 0\uc774 \ub418\ub294 \uc218\ub97c \ucc3e\ub294 \uc989 \uc9dd\uc218\ub97c \ucc3e\ub294 if\ubb38\uc785\ub2c8\ub2e4."
     ]
    },
    {
     "cell_type": "markdown",
     "metadata": {},
     "source": [
      "\ucc3e\uc740 \uc9dd\uc218\ub97c sum\uc5d0 \uae30\uc874\uc5d0 \uc788\ub294 \uac12\uacfc \ub354\ud574\uc11c \uac12\uc744 \ub123\uc2b5\ub2c8\ub2e4. "
     ]
    },
    {
     "cell_type": "code",
     "collapsed": false,
     "input": [
      "print sum"
     ],
     "language": "python",
     "metadata": {},
     "outputs": [
      {
       "output_type": "stream",
       "stream": "stdout",
       "text": [
        "2550\n"
       ]
      }
     ],
     "prompt_number": 6
    }
   ],
   "metadata": {}
  }
 ]
}