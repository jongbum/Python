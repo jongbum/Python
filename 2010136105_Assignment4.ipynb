{
 "metadata": {
  "name": "",
  "signature": "sha256:78c1021b8de8a4fe0549cf41da00e433e292ee974a17bd2b7dec317a451fbd43"
 },
 "nbformat": 3,
 "nbformat_minor": 0,
 "worksheets": [
  {
   "cells": [
    {
     "cell_type": "code",
     "collapsed": false,
     "input": [
      "import os\n",
      "\n",
      "print os.getcwd()\n",
      "\n",
      "\n",
      "s = \"\"\"pig ham\n",
      "cat dog\n",
      "ham bird\n",
      "dog pig\n",
      "\"\"\"\n",
      "f = open('s.txt', 'w')\n",
      "f.write(s) \n",
      "f.close()\n",
      "\n",
      "\n",
      "f = file('s.txt')  \n",
      "s = f.read()\n",
      "print s"
     ],
     "language": "python",
     "metadata": {},
     "outputs": [
      {
       "output_type": "stream",
       "stream": "stdout",
       "text": [
        "C:\\Users\\jongbum\n",
        "pig ham\n",
        "cat dog\n",
        "ham bird\n",
        "dog pig\n",
        "\n"
       ]
      }
     ],
     "prompt_number": 1
    },
    {
     "cell_type": "markdown",
     "metadata": {},
     "source": [
      "s\uc5d0 \uc800\uc7a5\ud560 \ubb38\uc790\uc5f4\uc744 \uc785\ub825\ud55c \ud6c4 s.txt\uc5d0 \uc800\uc7a5\ud558\ub294 \ucf54\ub4dc\uc785\ub2c8\ub2e4."
     ]
    },
    {
     "cell_type": "code",
     "collapsed": false,
     "input": [
      "f = open('s.txt')\n",
      "a=[]\n",
      "for line in f:\n",
      "    a.append(line)\n",
      "\n",
      "f= open('s1.txt','w+')\n",
      "f.write(''.join(sorted(a)))\n",
      "f.seek(0)\n",
      "s = f.read()\n",
      "print s\n",
      "f.close()"
     ],
     "language": "python",
     "metadata": {},
     "outputs": [
      {
       "output_type": "stream",
       "stream": "stdout",
       "text": [
        "cat dog\n",
        "dog pig\n",
        "ham bird\n",
        "pig ham\n",
        "\n"
       ]
      }
     ],
     "prompt_number": 2
    },
    {
     "cell_type": "markdown",
     "metadata": {},
     "source": [
      "for \ubb38\uc73c\ub85c \ud55c \ub77c\uc778\uc529 a\ub9ac\uc2a4\ud2b8\uc5d0 \ub123\uc740\ud6c4 \uc815\ub82c\ud55c \uac12\uc744 s1.txt\uc5d0 \uc785\ub825\ud558\ub294 \ucf54\ub4dc\uc785\ub2c8\ub2e4. "
     ]
    },
    {
     "cell_type": "code",
     "collapsed": false,
     "input": [
      "def mycmp(a1):\n",
      "    a=a1[0]\n",
      "    b=a1[1]\n",
      "    return [b,a]\n",
      "\n",
      "f = open('s.txt')\n",
      "a=''\n",
      "k=[]\n",
      "y=[]\n",
      "p=[]\n",
      "fi=[]\n",
      "i=0\n",
      "for line in f:\n",
      "    a=line\n",
      "    k.append(a.split()) \n",
      "    y.append(mycmp(k[i]))\n",
      "    i+=1\n",
      "p=sorted(y)\n",
      "\n",
      "for x in range(len(p)):\n",
      "    fi+=mycmp(p[x])\n",
      "    fi+='\\n'\n",
      "    \n",
      "\n",
      "f= open('s2.txt','w+')\n",
      "f.write(' '.join(fi))\n",
      "f.seek(0)\n",
      "s = f.read()\n",
      "print s\n",
      "f.close()"
     ],
     "language": "python",
     "metadata": {},
     "outputs": [
      {
       "output_type": "stream",
       "stream": "stdout",
       "text": [
        "ham bird \n",
        " cat dog \n",
        " pig ham \n",
        " dog pig \n",
        "\n"
       ]
      }
     ],
     "prompt_number": 3
    },
    {
     "cell_type": "markdown",
     "metadata": {},
     "source": [
      "for \ubb38\uc73c\ub85c \ud55c \ub77c\uc778\uc758 \uac12\uc744 \ubc1b\uc740\ud6c4 \ub450\ub2e8\uc5b4\ub97c \ubd84\ub9ac\ud558\uc5ec k \ub9ac\uc2a4\ud2b8 \uc800\uc7a5\ud558\uace0 \uc55e\uc5d0 \ub2e8\uc5b4\uc640 \ub4a4\uc5d0 \ub2e8\uc5b4\ub97c \ubc14\uafd4\uc900\ud6c4 y\ub9ac\uc2a4\ud2b8\uc5d0 \uc800\uc7a5\ud574\uc90d\ub2c8\ub2e4.\n",
      "\uadf8\ud6c4 \uc815\ub82c\uc744 \ud55c\ud6c4 \ub2e4\uc2dc \uc55e\uc758 \ub2e8\uc5b4\uc640 \ub4a4\uc5d0 \ub2e8\uc5b4\ub97c \ubc14\uafd4\uc900 \uac12\uc744 fi\uc5d0 \ub123\uc740\ud6c4 s2.txt\uc5d0 \uc785\ub825\ud574\uc90d\ub2c8\ub2e4."
     ]
    },
    {
     "cell_type": "code",
     "collapsed": false,
     "input": [
      "f = open('s.txt')\n",
      "a=''\n",
      "k=[]\n",
      "y=[]\n",
      "p=[]\n",
      "fi=[]\n",
      "for line in f:\n",
      "    a=line\n",
      "    k.append(a.split()) \n",
      "\n",
      "\n",
      "for x in range(len(k)):\n",
      "    fi+=k[x]\n",
      "    \n",
      "i=0\n",
      "for x in range(len(fi)):\n",
      "    if(x%3==0 and x!=0):\n",
      "        fi[x+i:x]=['\\n']\n",
      "        i+=1\n",
      "           \n",
      "\n",
      "f= open('s3.txt','w+')\n",
      "f.write(' '.join(fi))\n",
      "f.seek(0)\n",
      "s = f.read()\n",
      "print s\n",
      "f.close()"
     ],
     "language": "python",
     "metadata": {},
     "outputs": [
      {
       "output_type": "stream",
       "stream": "stdout",
       "text": [
        "pig ham cat \n",
        " dog ham bird \n",
        " dog pig\n"
       ]
      }
     ],
     "prompt_number": 4
    },
    {
     "cell_type": "markdown",
     "metadata": {},
     "source": [
      "\uac01 \ub77c\uc778\ubcc4\ub85c \ub2e8\uc5b4\ub97c \ubb38\uc790\uc5f4\ub85c \uc785\ub825\ubc1b\uc740\ud6c4 \ub2e8\uc5b4\ub97c \ub098\ub220\uc11c k\uc5d0 \uc800\uc7a5\ud558\uace0 \uadf8 \uac01 \ub098\ub208 \ub2e8\uc5b4\ub4e4\uc744 fi\ub9ac\uc2a4\ud2b8\uc5d0 \ubaa8\ub450 \uc800\uc7a5\uc2dc\ucf1c\uc900\ud6c4 3\uac1c \ub2e8\uc704\ub85c \ubb36\uc5b4\uc8fc\uace0 \uadf8 \ubb36\uc5b4\uc900 \ub2e8\uc5b4\ub4e4\uc744 s3.txt\uc5d0 \uc800\uc7a5\ud574 \uc8fc\ub294 \ucf54\ub4dc\uc785\ub2c8\ub2e4."
     ]
    },
    {
     "cell_type": "markdown",
     "metadata": {},
     "source": [
      "--------------------------------------------------------------------------------------------------------------------"
     ]
    },
    {
     "cell_type": "code",
     "collapsed": false,
     "input": [
      "import sha\n",
      "def print_menu():\n",
      "    print 'Welcome To Our Service'\n",
      "    print '1. Sign up'\n",
      "    print '2. Sign in'\n",
      "    print '3. Quit'\n",
      "    print\n",
      "\n",
      "def signup():\n",
      "    \n",
      "    f = open('access.txt','a')\n",
      "    pp=0\n",
      "    while pp == 0: \n",
      "        pp=1\n",
      "        id1 = raw_input(\"Id: \")\n",
      "        f = open('access.txt') \n",
      "        a=''\n",
      "        b=[]\n",
      "        for line in f:\n",
      "            a=line\n",
      "            b.append(a.split(':'))\n",
      "\n",
      "        for x in range(len(b)):\n",
      "            if(b[x][0] == id1):\n",
      "                print 'Sorry, the entered ID is already used'\n",
      "                pp=0\n",
      "        f.close()\n",
      "        if(pp==1): \n",
      "            f = open('access.txt','a')   \n",
      "            f.write(id1)\n",
      "            f.write(':')\n",
      "            f.close()\n",
      "\n",
      "    \n",
      "    f = open('access.txt','a')  \n",
      "    pas = raw_input(\"Password: \")\n",
      "    password_plain = pas\n",
      "    password_encrypted = sha.new(password_plain).hexdigest()\n",
      "    f.write(password_encrypted)\n",
      "    f.write(',')\n",
      "    f.close()\n",
      "     \n",
      "    f = open('access.txt','a') \n",
      "    name = raw_input(\"Name: \")\n",
      "    f.write(name)\n",
      "    f.write(',')\n",
      "    f.close()\n",
      "    \n",
      "    f = open('access.txt','a')\n",
      "    sch = raw_input(\"School: \")\n",
      "    f.write(sch)\n",
      "    f.write('\\n')\n",
      "    f.close()\n",
      "\n",
      "def signin():\n",
      "    f = open('access.txt')\n",
      "    a=''\n",
      "    b=[]\n",
      "    c=[]\n",
      "    for line in f:\n",
      "        a=line\n",
      "        b.append(a.split(':'))\n",
      "    \n",
      "    for x in range(len(b)):\n",
      "        c.append(b[x][1].split(','))\n",
      "        \n",
      "    pp=0\n",
      "    while pp == 0: \n",
      "        pp=1\n",
      "        id1 = raw_input(\"Id: \") \n",
      "        for x in range(len(b)):\n",
      "            if(b[x][0] == id1):\n",
      "                pp=1\n",
      "                break\n",
      "            else:\n",
      "                pp=0\n",
      "        if(pp==0):\n",
      "            print 'Sorry, you are not a registered member'\n",
      "    \n",
      "    \n",
      "    qq=0      \n",
      "    while qq == 0: \n",
      "        qq=1                \n",
      "        pas = raw_input(\"Password: \")\n",
      "        password_plain = pas\n",
      "        password_encrypted = sha.new(password_plain).hexdigest()\n",
      "        \n",
      "        if(c[x][0] == password_encrypted):\n",
      "            qq=1\n",
      "            break\n",
      "        else:\n",
      "            qq=0\n",
      "        if(qq==0):\n",
      "            print 'Sorry, the entered password is not correct.'\n",
      "    print \n",
      "    print 'Hello [%s]!' % (c[x][1])\n",
      "    print \n",
      "\n",
      "            \n",
      "\n",
      "        \n",
      "numbers = {}\n",
      "menu_choice = 0\n",
      "print_menu()\n",
      "while menu_choice != 3:\n",
      "    x= input('chooes menu (1-3):')\n",
      "    menu_choice = x\n",
      "    if menu_choice == 1:\n",
      "        signup()\n",
      "    elif menu_choice == 2:\n",
      "        signin()\n",
      "    if menu_choice != 3:\n",
      "        print_menu()"
     ],
     "language": "python",
     "metadata": {},
     "outputs": [
      {
       "output_type": "stream",
       "stream": "stdout",
       "text": [
        "Welcome To Our Service\n",
        "1. Sign up\n",
        "2. Sign in\n",
        "3. Quit\n",
        "\n"
       ]
      },
      {
       "name": "stdout",
       "output_type": "stream",
       "stream": "stdout",
       "text": [
        "chooes menu (1-3):1\n"
       ]
      },
      {
       "name": "stdout",
       "output_type": "stream",
       "stream": "stdout",
       "text": [
        "Id: aa\n"
       ]
      },
      {
       "name": "stdout",
       "output_type": "stream",
       "stream": "stdout",
       "text": [
        "Password: a1s1d1\n"
       ]
      },
      {
       "name": "stdout",
       "output_type": "stream",
       "stream": "stdout",
       "text": [
        "Name: jb\n"
       ]
      },
      {
       "name": "stdout",
       "output_type": "stream",
       "stream": "stdout",
       "text": [
        "School: kut\n"
       ]
      },
      {
       "output_type": "stream",
       "stream": "stdout",
       "text": [
        "Welcome To Our Service\n",
        "1. Sign up\n",
        "2. Sign in\n",
        "3. Quit\n",
        "\n"
       ]
      },
      {
       "name": "stdout",
       "output_type": "stream",
       "stream": "stdout",
       "text": [
        "chooes menu (1-3):1\n"
       ]
      },
      {
       "name": "stdout",
       "output_type": "stream",
       "stream": "stdout",
       "text": [
        "Id: bb\n"
       ]
      },
      {
       "name": "stdout",
       "output_type": "stream",
       "stream": "stdout",
       "text": [
        "Password: z1x1c1\n"
       ]
      },
      {
       "name": "stdout",
       "output_type": "stream",
       "stream": "stdout",
       "text": [
        "Name: yb\n"
       ]
      },
      {
       "name": "stdout",
       "output_type": "stream",
       "stream": "stdout",
       "text": [
        "School: kut\n"
       ]
      },
      {
       "output_type": "stream",
       "stream": "stdout",
       "text": [
        "Welcome To Our Service\n",
        "1. Sign up\n",
        "2. Sign in\n",
        "3. Quit\n",
        "\n"
       ]
      },
      {
       "name": "stdout",
       "output_type": "stream",
       "stream": "stdout",
       "text": [
        "chooes menu (1-3):1\n"
       ]
      },
      {
       "name": "stdout",
       "output_type": "stream",
       "stream": "stdout",
       "text": [
        "Id: cc\n"
       ]
      },
      {
       "name": "stdout",
       "output_type": "stream",
       "stream": "stdout",
       "text": [
        "Password: q1w1e1\n"
       ]
      },
      {
       "name": "stdout",
       "output_type": "stream",
       "stream": "stdout",
       "text": [
        "Name: kb\n"
       ]
      },
      {
       "name": "stdout",
       "output_type": "stream",
       "stream": "stdout",
       "text": [
        "School: kut\n"
       ]
      },
      {
       "output_type": "stream",
       "stream": "stdout",
       "text": [
        "Welcome To Our Service\n",
        "1. Sign up\n",
        "2. Sign in\n",
        "3. Quit\n",
        "\n"
       ]
      },
      {
       "name": "stdout",
       "output_type": "stream",
       "stream": "stdout",
       "text": [
        "chooes menu (1-3):1\n"
       ]
      },
      {
       "name": "stdout",
       "output_type": "stream",
       "stream": "stdout",
       "text": [
        "Id: aa\n"
       ]
      },
      {
       "output_type": "stream",
       "stream": "stdout",
       "text": [
        "Sorry, the entered ID is already used\n"
       ]
      },
      {
       "name": "stdout",
       "output_type": "stream",
       "stream": "stdout",
       "text": [
        "Id: bb\n"
       ]
      },
      {
       "output_type": "stream",
       "stream": "stdout",
       "text": [
        "Sorry, the entered ID is already used\n"
       ]
      },
      {
       "name": "stdout",
       "output_type": "stream",
       "stream": "stdout",
       "text": [
        "Id: dd\n"
       ]
      },
      {
       "name": "stdout",
       "output_type": "stream",
       "stream": "stdout",
       "text": [
        "Password: q1a1z1\n"
       ]
      },
      {
       "name": "stdout",
       "output_type": "stream",
       "stream": "stdout",
       "text": [
        "Name: hb\n"
       ]
      },
      {
       "name": "stdout",
       "output_type": "stream",
       "stream": "stdout",
       "text": [
        "School: kut\n"
       ]
      },
      {
       "output_type": "stream",
       "stream": "stdout",
       "text": [
        "Welcome To Our Service\n",
        "1. Sign up\n",
        "2. Sign in\n",
        "3. Quit\n",
        "\n"
       ]
      },
      {
       "name": "stdout",
       "output_type": "stream",
       "stream": "stdout",
       "text": [
        "chooes menu (1-3):2\n"
       ]
      },
      {
       "name": "stdout",
       "output_type": "stream",
       "stream": "stdout",
       "text": [
        "Id: ss\n"
       ]
      },
      {
       "output_type": "stream",
       "stream": "stdout",
       "text": [
        "Sorry, you are not a registered member\n"
       ]
      },
      {
       "name": "stdout",
       "output_type": "stream",
       "stream": "stdout",
       "text": [
        "Id: kk\n"
       ]
      },
      {
       "output_type": "stream",
       "stream": "stdout",
       "text": [
        "Sorry, you are not a registered member\n"
       ]
      },
      {
       "name": "stdout",
       "output_type": "stream",
       "stream": "stdout",
       "text": [
        "Id: aa\n"
       ]
      },
      {
       "name": "stdout",
       "output_type": "stream",
       "stream": "stdout",
       "text": [
        "Password: asd\n"
       ]
      },
      {
       "output_type": "stream",
       "stream": "stdout",
       "text": [
        "Sorry, the entered password is not correct.\n"
       ]
      },
      {
       "name": "stdout",
       "output_type": "stream",
       "stream": "stdout",
       "text": [
        "Password: a1s1d1\n"
       ]
      },
      {
       "output_type": "stream",
       "stream": "stdout",
       "text": [
        "\n",
        "Hello [jb]!\n",
        "\n",
        "Welcome To Our Service\n",
        "1. Sign up\n",
        "2. Sign in\n",
        "3. Quit\n",
        "\n"
       ]
      },
      {
       "name": "stdout",
       "output_type": "stream",
       "stream": "stdout",
       "text": [
        "chooes menu (1-3):2\n"
       ]
      },
      {
       "name": "stdout",
       "output_type": "stream",
       "stream": "stdout",
       "text": [
        "Id: cc\n"
       ]
      },
      {
       "name": "stdout",
       "output_type": "stream",
       "stream": "stdout",
       "text": [
        "Password: q1w1e1\n"
       ]
      },
      {
       "output_type": "stream",
       "stream": "stdout",
       "text": [
        "\n",
        "Hello [kb]!\n",
        "\n",
        "Welcome To Our Service\n",
        "1. Sign up\n",
        "2. Sign in\n",
        "3. Quit\n",
        "\n"
       ]
      },
      {
       "name": "stdout",
       "output_type": "stream",
       "stream": "stdout",
       "text": [
        "chooes menu (1-3):3\n"
       ]
      }
     ],
     "prompt_number": 5
    },
    {
     "cell_type": "markdown",
     "metadata": {},
     "source": [
      "--------------------------------------------------------------------------------------------------------------------"
     ]
    },
    {
     "cell_type": "code",
     "collapsed": false,
     "input": [
      "def frange(start, stop=None, step=None):\n",
      "\n",
      "    if stop == None:\n",
      "        stop = start + 0.0\n",
      "        start = 0.0\n",
      "\n",
      "    if step == None:\n",
      "        step = 0.1\n",
      "    \n",
      "    while 1:\n",
      "        if(start <= stop):\n",
      "            print start,\n",
      "            start+=step\n",
      "        else:\n",
      "            break\n",
      "    print\n",
      "frange(0.5)\n",
      "frange(1.0,2.0)\n",
      "frange(2.2,4.0,0.5)"
     ],
     "language": "python",
     "metadata": {},
     "outputs": [
      {
       "output_type": "stream",
       "stream": "stdout",
       "text": [
        "0.0 0.1 0.2 0.3 0.4 0.5\n",
        "1.0 1.1 1.2 1.3 1.4 1.5 1.6 1.7 1.8 1.9\n",
        "2.2 2.7 3.2 3.7\n"
       ]
      }
     ],
     "prompt_number": 2
    },
    {
     "cell_type": "markdown",
     "metadata": {},
     "source": [
      "\ud558\ub098\uc758 \uc785\ub825\uc744 \ubc1b\uc558\uc744 \ub54c\ub294 stop\uacfc step\uc774 \uac12\uc774 \uc5c6\uae30 \ub54c\ubb38\uc5d0 \ub450\uac1c\uc758 if \ubb38\uc774 \uc2e4\ud589\ub418\uace0 while \ubb38\uc744 \ub3cc\uba74\uc11c start\ubd80\ud130 stop\uae4c\uc9c0 step\uc744 \ub354\ud574\uac00\uba70 \ucd9c\ub825\ub429\ub2c8\ub2e4."
     ]
    },
    {
     "cell_type": "markdown",
     "metadata": {},
     "source": [
      "--------------------------------------------------------------------------------------------------------------------"
     ]
    },
    {
     "cell_type": "code",
     "collapsed": false,
     "input": [
      "def sum(a, *arg):\n",
      "    result = a\n",
      "    \n",
      "    for x in arg :\n",
      "        result += x\n",
      "    \n",
      "    print result\n",
      "\n",
      "sum(1)\n",
      "sum(1, 2)\n",
      "sum(1, 2, 3, 4, 5)\n",
      "sum(1, 5, 7, 2, -10)"
     ],
     "language": "python",
     "metadata": {},
     "outputs": [
      {
       "output_type": "stream",
       "stream": "stdout",
       "text": [
        "1\n",
        "3\n",
        "15\n",
        "5\n"
       ]
      }
     ],
     "prompt_number": 3
    },
    {
     "cell_type": "markdown",
     "metadata": {},
     "source": [
      "\uccab\ubc88\uc9f8 \uac83\uc744 \uc81c\uc678\ud55c \ub098\uba38\uc9c0 \uac83\ub4e4\uc774 \ud558\ub098\uc758 \uac12\uc73c\ub85c \ub4e4\uc5b4\uac00 \ub4e4\uc5b4\uac04 \uc218\ub4e4\uc744 \ubaa8\ub450 \ub354\ud574\uc8fc\ub294 \ucf54\ub4dc\uc785\ub2c8\ub2e4."
     ]
    },
    {
     "cell_type": "markdown",
     "metadata": {},
     "source": [
      "--------------------------------------------------------------------------------------------------------------------"
     ]
    },
    {
     "cell_type": "code",
     "collapsed": false,
     "input": [
      "def change(word) :\n",
      "    lowerToUpper = word.upper()\n",
      "    return lowerToUpper\n",
      "\n",
      "def myinitial(string) :\n",
      "    tmpList = string.split(' ')\n",
      "    \n",
      "    wordList = []\n",
      "    for x in range(len(tmpList)) :\n",
      "        wordList.append(tmpList[x][0])\n",
      "     \n",
      "    tmpWord = map(change, wordList) \n",
      "    word = ''.join(tmpWord)\n",
      "    \n",
      "    print word\n",
      "\n",
      "myinitial('as soon as possible')"
     ],
     "language": "python",
     "metadata": {},
     "outputs": [
      {
       "output_type": "stream",
       "stream": "stdout",
       "text": [
        "ASAP\n"
       ]
      }
     ],
     "prompt_number": 4
    },
    {
     "cell_type": "markdown",
     "metadata": {},
     "source": [
      "\ubb38\uc790\uc5f4\uc744 \uc785\ub825\ubc1b\uc544 \uacf5\ubc31\uc744 \uae30\uc900\uc73c\ub85c \ubb38\uc790\ub97c \ub098\ub208\ud6c4 \ubb38\uc790\ub97c \ubaa8\ub450 \ub300\ubb38\uc790\ub85c \ubc14\uafb8\uace0 \uadf8 \ubb38\uc790\uc758 \uccab\ubc88\uc9f8 \ubb38\uc790\ub9cc wordList\uc5d0 \ub123\uc5b4\uc900\ud6c4 \uadf8\uac12\ub4e4\uc744 \ud569\uccd0\uc90d\ub2c8\ub2e4."
     ]
    },
    {
     "cell_type": "markdown",
     "metadata": {},
     "source": [
      "--------------------------------------------------------------------------------------------------------------------"
     ]
    },
    {
     "cell_type": "code",
     "collapsed": false,
     "input": [
      "def factorial(num) :\n",
      "    if num == 1 :\n",
      "        return 1\n",
      "    return num * factorial(num - 1)\n",
      "\n",
      "i = input('int :')\n",
      "\n",
      "print factorial(i)"
     ],
     "language": "python",
     "metadata": {},
     "outputs": []
    },
    {
     "cell_type": "markdown",
     "metadata": {},
     "source": [
      "\uc7ac\uadc0\ud568\uc218\ub97c \uc774\uc6a9\ud558\uc5ec 1\uc529 \uac10\uc18c\ud558\uba70 \ud329\ud1a0\ub9ac\uc5bc\uc744 \uacc4\uc0b0\ud574\uc8fc\ub294 \ucf54\ub4dc\uc785\ub2c8\ub2e4."
     ]
    },
    {
     "cell_type": "markdown",
     "metadata": {},
     "source": [
      "--------------------------------------------------------------------------------------------------------------------"
     ]
    },
    {
     "cell_type": "markdown",
     "metadata": {},
     "source": [
      "mport string \uacfc from string import * \ubaa8\ub450 string \ubaa8\ub4c8\uc744 \ubd88\ub7ec\uc624\ub294 \uac83\uc774\ub2e4.\n",
      "-> import string\uc758 \uacbd\uc6b0 \ud574\ub2f9 \ubaa8\ub4c8\uc5d0 \uc874\uc7ac\ud558\ub294\n",
      "'__'\ub85c \uc2dc\uc791\ub418\ub294 \uc774\ub984\ub4e4\uc744 \ud3ec\ud568\ud55c \ubaa8\ub4e0 \uc774\ub984\ub4e4\uc744 \ud604\uc7ac \uc774\ub984 \uacf5\uac04\uc73c\ub85c \ubd88\ub7ec\ub4e4\uc778\ub2e4.\n",
      "-> from string import * \uc758 \uacbd\uc6b0 \ud574\ub2f9 \ubaa8\ub4c8\uc5d0 \uc874\uc7ac\ud558\ub294\n",
      "'__'\ub85c \uc2dc\uc791\ub418\ub294 \uc774\ub984\ub4e4\uc744 \uc81c\uc678\ud55c \ubaa8\ub4e0 \uc774\ub984\ub4e4\uc744 \ud604\uc7ac \uc774\ub984 \uacf5\uac04\uc73c\ub85c \ubd88\ub7ec\ub4e4\uc778\ub2e4."
     ]
    },
    {
     "cell_type": "markdown",
     "metadata": {},
     "source": [
      "--------------------------------------------------------------------------------------------------------------------"
     ]
    },
    {
     "cell_type": "code",
     "collapsed": false,
     "input": [
      "import urllib\n",
      "\n",
      "source = urllib.urlopen(\"https://http://www.koreatech.ac.kr//\").read()\n",
      "f = open('http://www.koreatech.ac.kr/.html', 'w')\n",
      "f.write(source) \n",
      "f.close()"
     ],
     "language": "python",
     "metadata": {},
     "outputs": [],
     "prompt_number": 1
    },
    {
     "cell_type": "code",
     "collapsed": false,
     "input": [
      "import string\n",
      "import pickle\n",
      "\n",
      "\n",
      "\n",
      "f = open('www.koreatech.ac.kr.html')\n",
      "source = f.read()\n",
      "f.close()\n",
      "\n",
      "\n",
      "len_source = len(source)\n",
      "source_new = None\n",
      "i = 0\n",
      "while (i < len_source):\n",
      "\tfound = False\n",
      "\tif (found != True and source[i] == \"<\" and source[i+1 : i+7].lower() == \"script\"):\n",
      "\t\tfound = True;\n",
      "\t\tj = i + 7;\n",
      "\t\twhile (True):\n",
      "\t\t\tif (source[j] == \"<\" and source[j+1] == \"/\" and source[j+2 : j+8].lower() == \"script\"):\n",
      "\t\t\t\t#print \"found - script\"\n",
      "\t\t\t\tsource = source[:i] + ' ' + source[j+9:]\n",
      "\t\t\t\tbreak\n",
      "\t\t\tj = j + 1\n",
      "\t\t\tif (j > len_source):\n",
      "\t\t\t\tbreak\n",
      "\t\tlen_source = len(source)\n",
      "\ti = i + 1\n",
      "\n",
      "len_source = len(source)\n",
      "#print len_source\n",
      "\n",
      "i = 0\n",
      "while (i < len_source):\n",
      "\tfound = False\n",
      "\tif (found != True and source[i] == \"<\" and source[i+1 : i+6].lower() == \"style\"):\n",
      "\t\tfound = True;\n",
      "\t\tj = i + 6;\n",
      "\t\twhile (True):\n",
      "\t\t\tif (source[j] == \"<\" and source[j+1] == \"/\" and source[j+2 : j+7].lower() == \"style\"):\n",
      "\t\t\t\t#print \"found - style\"\n",
      "\t\t\t\tsource = source[:i] + ' ' + source[j+8:]\n",
      "\t\t\t\tbreak\n",
      "\t\t\tj = j + 1\n",
      "\t\t\tif (j > len_source):\n",
      "\t\t\t\tbreak\n",
      "\t\tlen_source = len(source)\n",
      "\ti = i + 1\n",
      "\n",
      "len_source = len(source)\n",
      "#print len_source\n",
      "\n",
      "i = 0\n",
      "while (i < len_source):\n",
      "\tfound = False\n",
      "\tif (found != True and source[i] == \"<\"):\n",
      "\t\tfound = True;\n",
      "\t\tj = i + 1;\n",
      "\t\twhile (True):\n",
      "\t\t\tif (source[j] == \">\"):\n",
      "\t\t\t\t#print \"found - HTML tag\"\n",
      "\t\t\t\tsource = source[:i] + ' ' + source[j+1:]\n",
      "\t\t\t\tbreak\n",
      "\t\t\tj = j + 1\n",
      "\t\t\tif (j > len_source):\n",
      "\t\t\t\tbreak\n",
      "\t\tlen_source = len(source)\n",
      "\ti = i + 1\n",
      "\n",
      "len_source = len(source)\n",
      "\n",
      "\n",
      "wordList = source.split()\n",
      "k = string.punctuation\n",
      "sourse = \" \".join(wordList)\n",
      "new_str = sourse.translate(None, k)\n",
      "    \n",
      "\n",
      "  \n",
      "listvalue = new_str.split()\n",
      "countnum = []\n",
      "for x in range(len(listvalue)):\n",
      "    countnum.append(new_str.count(listvalue[x]))\n",
      "    \n",
      "\n",
      "k = dict()\n",
      "\n",
      "for x in range(len(countnum)):\n",
      "    k[listvalue[x]] = countnum[x]\n",
      "\n",
      "\n",
      "p1=[]\n",
      "p2=[]\n",
      "for key in k.keys():\n",
      "    p1.append(key)\n",
      "    p2.append(k[key])\n",
      "    \n",
      "p3={}\n",
      "for x in range(len(p1)):\n",
      "     p3 =dict(zip(p1,p2))\n",
      "\n",
      "f = open('www.koreatech.ac.kr.words.frequency', 'w') \n",
      "pickle.dump(p3, f)     \n",
      "f.close() "
     ],
     "language": "python",
     "metadata": {},
     "outputs": [],
     "prompt_number": 2
    },
    {
     "cell_type": "markdown",
     "metadata": {},
     "source": [
      "\uc704\uc640 \uac19\uc740 \ubc29\ubc95\uc73c\ub85c \uc6f9\ud398\uc774\uc9c0 \uc8fc\uc18c\ub9cc \ubc14\uafd4\uc11c 5\uac1c\uc758 \ud30c\uc77c\uc744 \ub9cc\ub4ed\ub2c8\ub2e4."
     ]
    },
    {
     "cell_type": "markdown",
     "metadata": {},
     "source": [
      "----------------------------------------------------------------------------------------------------------------------"
     ]
    },
    {
     "cell_type": "code",
     "collapsed": false,
     "input": [
      "# -*- coding: utf-8 -*-\n",
      "import pickle\n",
      "f = open('www.koreatech.ac.kr.words.frequency')\n",
      "c1 = pickle.load(f)\n",
      "d1 = c1.items()\n",
      "f = open('arch.koreatech.ac.kr.words.frequency')\n",
      "c2 = pickle.load(f)\n",
      "d2 = c2.items()\n",
      "f = open('cms.kut.ac.kr.words.frequency')\n",
      "c3 = pickle.load(f)\n",
      "d3 = c3.items()\n",
      "f = open('cse.koreatech.ac.kr.words.frequency')\n",
      "c4 = pickle.load(f)\n",
      "d4 = c4.items()\n",
      "f = open('emc.kut.ac.kr.kr.words.frequency')\n",
      "c5 = pickle.load(f)\n",
      "d5 = c5.items()\n",
      "\n",
      "dd=[]\n",
      "for x in range(len(d1)):\n",
      "    dd.append(d1[x])\n",
      "    \n",
      "for x in range(len(d2)):\n",
      "    for y in range(len(dd)):\n",
      "        if(d2[x][0] == dd[y][0]):\n",
      "            d2[x][1] = d2[x][1] + dd[y][1]\n",
      "            dd.append(d2[x])\n",
      "            break\n",
      "        else:\n",
      "            dd.append(d2[x])\n",
      "            break\n",
      "            \n",
      "for x in range(len(d3)):\n",
      "    for y in range(len(dd)):\n",
      "        if(d3[x][0] == dd[y][0]):\n",
      "            d3[x][1] = d3[x][1] + dd[y][1]\n",
      "            dd.append(d3[x])\n",
      "            break\n",
      "        else:\n",
      "            dd.append(d3[x])\n",
      "            break\n",
      "\n",
      "for x in range(len(d4)):\n",
      "    for y in range(len(dd)):\n",
      "        if(d4[x][0] == dd[y][0]):\n",
      "            d4[x][1] = d4[x][1] + dd[y][1]\n",
      "            dd.append(d4[x])\n",
      "            break\n",
      "        else:\n",
      "            dd.append(d4[x])\n",
      "            break\n",
      "            \n",
      "for x in range(len(d5)):\n",
      "    for y in range(len(dd)):\n",
      "        if(d5[x][0] == dd[y][0]):\n",
      "            d5[x][1] = d5[x][1] + dd[y][1]\n",
      "            dd.append(d5[x])\n",
      "            break\n",
      "        else:\n",
      "            dd.append(d5[x])\n",
      "            break\n",
      "max=0\n",
      "num=0\n",
      "max = dd[0][1] \n",
      "for x in range(len(dd)):\n",
      "    print dd[x][0], dd[x][1],\n",
      "    if(max < dd[x][1]):\n",
      "        num=x\n",
      "        max = dd[x][1]\n",
      "print\n",
      "print '-------------------'\n",
      "print '\uac00\uc7a5 \ub9ce\uc774 \ub098\uc628 \ub2e8\uc5b4\ub294'\n",
      "print dd[num][0],':', dd[num][1]\n",
      "            \n",
      "    "
     ],
     "language": "python",
     "metadata": {},
     "outputs": [
      {
       "output_type": "stream",
       "stream": "stdout",
       "text": [
        "\ud558\ub2e8\uba54\ub274 1 \ud55c\uad6d\uace0\uc6a9\uc815\ubcf4\uc6d0 1 CIGMA 1 \uc791\uc5c5\uc73c\ub85c 3 \ub300\ud559\ud604\ud669 2 \uc0ac\uc6a9\uc744 1 11\uc6d4 1 CHINESE 2 Assessor\uff07 1 \uc7a5\ud559\uacf5\uc9c0 1 \uacf5\ud559\uad50\uc721\uc778\uc99d\uc548\ub0b4 1 \ub2e4\uc0b0\uc815\ubcf4\uad00 1 \ub3c4\uc804 1 \ub9cc\uc871\ub3c4 1 \ub3c4\uc11c\uad00 2 \ud589\ubcf5\ud55c 1 \uc7a5\ud559\uae08 3 \ud22c\uba85\ud55c 1 \ucc3d\uc5c5\ud300 1 facebook 2 \uc0ac\uc774\ubc84\ud22c\uc5b4 2 \uc774\ub7ec\ub2dd\ud559\uc2b5 1 PSM\uc0ac\uc5c5\ub2e8 1 \ud55c\uad6d\uc0b0\uc5c5\uc778\ub825\uacf5\ub2e8 1 \ubaa8\uc9d1 3 \ud55c\uad6d\uae30\uc220\uad50\uc721\ub300\ud559\uad50 3 \uc0c1\ub2f4\uc9c4\ub85c\uac1c\ubc1c\uc13c\ud130 1 \uc7a1\uc601 1 \ucc3e\uc544\uc624\uc2dc\ub294\uae38 2 \uc124\ube44 1 \uc7a5\uc560\uc778\uace0\uc6a9\uacf5\ub2e8 1 \ubcd1\ucc9c\uba74 1 \ud55c\uad6d\uc0b0\uc5c5\uc548\uc804\ubcf4\uac74\uacf5\ub2e8 1 NO1 1 \uac10\ub3d9\ud55c 1 \ud55c\uad6d\uc9c1\uc5c5\ub2a5\ub825\uac1c\ubc1c\uc6d0 1 \u2018\uc81c2\ud68c 1 \uc790\uc8fc\ucc3e\ub294 3 \ub2eb\uae30 4 \ud589\uc815\uc11c\ube44\uc2a4\ud5cc\uc7a5 2 \uc0b0\uacbd\ud559\ubd80 2 \ubb34\uc120\ub79c\uc2e0\uccad 6 \uc6cc\ud06c\ub137 1 \uc9c0\ubc29\uc778\uc7ac\uc7a5\ud55920142\ud559\uae30 1 \ud604\uc7a5\uc2e4\uc2b5 2 \ud55c\uad6d\uad50\uc721\uac1c\ubc1c\uc6d0 1 \uc2a4\ud06c\ub9bd\ud2b8 3 \ubbf8\ub798\ub97c 1 \ubcd1\uc0ac\uc548\ub0b4 2 \ud31d\uc5c5\uc5f4\uae30 1 \uc0b0\ud559\ud611\ub825\ub2e8 1 2\ud559\uae30 4 \ud55c\uae30\ub300\uc2e0\ubb38\uc0ac 1 \uad6d\uac00\uc7a5\ud5592015\ub144\ub3c4 1 \uc804\uad6d\ub300\ud559\uc0dd\ud558\uc774\ube0c\ub9ac\ub4dc\uc790\ub3d9\ucc28\uacbd\uc9c4\ub300\ud68c 1 \ud648\ud398\uc774\uc9c0 3 MOTPSM\ud074\ub7ec\uc2a4\ud130 1 \uc2a4\ud06c\ub9bd\ud2b8\uac00 1 \uc804\uae30\uc804\uc790\ud1b5\uc2e0\uacf5\ud559\ubd80 1 KOREATECH20\ub144 2 \uc0ac\ub78c\uc778 1 \ub300\ud559 64 307nbspnbspnbspTel 1 \ud734\uba3c\uc544\uce74\ub370\ubbf8\uba85\uc0ac\ud2b9\uac15 2 rights 1 \ucea0\ud37c\uc2a4\ud22c\uc5b4 4 \uc608\ube44\ub300\ud559\uc0dd 2 \ud0d0\uad6c\ud558\ub294 4 \ucc44\uc6a9\uacf5\uace0 3 SW 6 \ube44\uc8fc\uc5bc 2 \uc544\uc6b0\ub204\ub9ac 2 \ub3d9\ub0a8\uad6c 1 reserved 1 \uc778\ud130\ub137\uc99d\uba85\ubc1c\uae09 7 \uc2e0\uccad 21 \uc5b8\ub860\ubcf4\ub3c4\ubaa8\uc74c\uc9d1 2 \uac15\uc870\ud558\ub294 4 \ucd94\uac00 4 \uc6b0\uc218 1 \ub300\ud559\uc18c\uc2dd\uc9c0 2 1 31 \ud604\uc7a5\uc911\uc2ec\uacfc 4 \uc124\uba85\ud68c 3 \uc790\ub8cc\uc2e4 2 \ucd1d\ud559\uc0dd\ud68c 1 \ucc3d\uc758 1 \uc815\uc9c0 3 Copyright\u24d22014 1 1\ud559\uae30 1 \uba54\uce74\ud2b8\ub85c\ub2c9\uc2a4\uacf5\ud559\ubd80 1 \ud64d\ubcf4\ub300\uc0ac 2 All 1 \uc2e0\ub8b0\ud558\ub294 1 \uc0b0\uc5c5\uacbd\uc601\ud559\ubd80 1 PEOPLE 1 \ud559\ubd80\uc18c\uac1c 2 \uc0ac\uc774\ubc84\uac10\uc0ac\uc2e4 2 KOREATECH\ubc1c\uc804\uae30\uae08 2 TEDx\ud14c\ub4dc\uc5d1\uc2a4 1 \uacf5\uc9c0\uc0ac\ud56d 2 \ub300\ud55c\ubbfc\uad6d 2 \uac1c\uc778\uc815\ubcf4\ucc98\ub9ac\ubc29\uce68 2 \ub514\uc790\uc778\uacf5\ud559\uacfc 1 \uc9c0\ubc29\uc778\uc7ac\uc7a5\ud559\uc0dd 2 \ucda9\ub0a8 1 \ud559\uc0ac\uc548\ub0b4 2 \uc54c\ub9ac\uc624 2 HRD\uc13c\ud130 2 \ud559\ubd80\ubaa8\ub2d8 2 \uc6d0\uaca9\uc9c0\uc6d0 6 \ud559\uc0dd\uc790\uce58\ub2e8\uccb4 2 \uc11c\ube44\uc2a4\uc548\ub0b4 3 \uc138\uacc4\ub97c 1 \ubc1c\uc804\uae30\uae08 6 KOTRA 1 \uad8c\uc7a5\ud569\ub2c8\ub2e4 1 \ud589\ubcf5\ub300\ud559 1 IPP 13 \ud559\uc0ac\uc77c\uc815 2 \ucde8\uc5c5\ud074\ub9ac\ub2c9 1 \ud559\uc0dd\uc911\uc2ec 1 \uc54a\uc73c\uc2dc\uba74 1 \uc0ac\uc6a9\ud558\uc9c0 1 \uad50\uc721\uc7a5\ube44\uac80\uc0c9 2 \ub300\ud559\uc0dd\ud65c 4 \uad50\uc721\uc911\uc2ec\ub300\ud559 2 \uad6d\uac00\uc7a5\ud559\uae08 1 \uad50\ub0b4\uc8fc\uc694\uae30\uad00 2 \uace0\uc6a9\ubd80 2 \uc8fc\uc694\uc0ac\uc774\ud2b8 2 \uacf5\uc2dd\uce74\ud398 1 \uc778\ubb38\ud5a5\uc5f0 1 \uac74\ucd95\uacf5\ud559\ubd80 1 \ucde8\uc5c5\uc5ed\ub7c9\uac15\ud654\ub3d9\uc601\uc0c1 2 \ucd1d\uc5ec\ud559\uc0dd\ud68c 1 \uacf5\uace0\uc218 1 \uc804\uc790\ucd9c\uacb0RFID 2 \uace0\uc6a9\ub178\ub3d9\ubd80 1 \ud31d\uc5c5\ub2eb\uae30 1 \uc5d4\uc9c0\ub2c8\uc5b4 1 \uae30\uc220\ub9ac\ub354 1 People 1 \uc2dc\uc124\ubcf4\uc218\uc2e0\uccad 6 \ud559\uc0ac\uc885\ud569 5 \ud64d\ubcf4\ube0c\ub85c\uc154 2 \uc2dd\ub2e8 6 \uc778\ud55c 3 \ub300\ud559\uc18c\uac1c 4 330708 1 \uc7ac\uc0dd 2 \uc5f4\uc815 1 \uc628\ub77c\uc778\uad50\uc721 8 \uc7a5\ud559\uc81c\ub3c4 4 \ub300\ubc29\uac74\uc124\uc8fc 1 \uae30\ud68d\uc7ac\uc815\ubd80 1 \uad6d\uc81c\uad50\uc721\uc13c\ud130 3 \ub300\ud559\uc54c\ub9ac\ubbf8 2 \u2018Skill 1 \uc724\ub9ac\ud5cc\uc7a5 2 \uc7ac\ud559\uc0dd 3 2 29 \ub124\ud2b8\uc6cc\ud06c 3 \ud1b5\ud569\uac80\uc0c9 2 \ubc18\ub3c4\uccb4 2 \ubc18\ub3c4\uccb4\uc7a5\ube44\uad50\uc721\uc13c\ud130 1 \uc790\uc774\uc5d4\ud2b8 1 \uc218\uac15\uc2e0\uccad 2 \uc6d0\uaca9\ud6c8\ub828\uc2ec\uc0ac\uc13c\ud130 1 Cyber 1 \ud55c\uad6d\uae30\uc220\uad50\uc721\ub300 5 \ud3c9\uc0dd\ub2a5\ub825\uac1c\ubc1c\uc774\ub7ec\ub2dd\uc13c\ud130 1 \uae30\uc5c5\uc774 1 \uac00\uc804\ub9ac 1 \ucef4\ud4e8\ud130\uacf5\ud559\ubd80 1 \ucd1d\ub3d9\ubb38\ud68c 2 UNIVERSITY 1 \uc0ac\uc2e4\uc5d0 4 \uc8fc\uc694\uba54\ub274 1 \ub3d9\uacc4 1 \uc0dd\ud65c\uad00\uc790\uce58\ud68c 1 \ub3c4\uc11c\uad00\uc774\uc6a9\uc548\ub0b4 1 \uc778\ud06c\ub8e8\ud2b8 1 IPP\uc13c\ud130 6 \uc788\uc2b5\ub2c8\ub2e4 1 \ucea0\ud37c\uc2a4\uc0ac\uc9c4 4 \ud31d\uc5c5\uc874 1 1\uc704 3 \uc7a1\ucf54\ub9ac\uc544 1 \ucc9c\uc548\uc2dc 2 \ub300\ud559\ud64d\ubcf4 4 \uc6f9\uac24\ub7ec\ub9ac 1 \uc2a4\ud06c\ub9bd\ud2b8\ub97c 1 \uc785 12 \uadfc\ub85c\ubcf5\uc9c0\uacf5\ub2e8 1 \ub300\ud559\uc815\ubcf4\uacf5\uc2dc 1 \uadfc\uac70\ud558\uc5ec 4 \uc800\uc791\uad8c\uc815\ucc45 1 \ud604\uc7ac 1 \ub370\uc2a4\ud06c\ud0d1 1 \ubaa8\ubc14\uc77c 1 KOREATECH 27 \uc548\ub0b4IPP\uc13c\ud130 1 \uc2e0\uc785 1 \ubf50\ub0b4\uae30 1 \ud574\uc678\uc5f0\uc218 4 \uc628\ub77c\uc778\ud3c9\uc0dd\uad50\uc721\uc6d0 1 \ud559\uad50\ucc28\ub7c9\uc2e0\uccad 2 \uc0dd\ud65c\uad00 10 THE 1 \uc9c0\ubc29\uc778\uc7ac\uc7a5\ud559\uae0820142\ud559\uae30 1 \uad6d\uc81c\uad50\ub958 2 \ud14c\ud06c\ub178\uc778\ub825\uac1c\ubc1c\uc804\ubb38\ub300\ud559\uc6d0 1 \uc120\ubc1c 3 \ub300\ud559\uc870\uc9c1 2 WEBMAIL 2 \ub300\ud559\uad50\uc721\uac1c\ubc1c\uc13c\ud130 1 \ud0dc\ube14\ub9bf 1 \uae30\uacc4\uba54\uce74 1 ENGLISH 2 BUS 1 \ub9cc\uc871\ud558\ub294 4 \uc704\ud55c 1 3 7 \ud55c\uad6d\uae30\uacc4\uc5f0\uad6c\uc6d0 1 \uac1c\ucd5c 1 \ucf58\uc11c\ud2b8 1 \ucc38\uc5ec\uac8c\uc2dc\ud310 2 \uae00\uc4f0\uae30 1 \uace0\uc6a9\ub178\ub3d9\uc5f0\uc218\uc6d0 1 \ub2e4\uc74c 4 \uae34\uae09 3 VISION2020 2 \ucc9c\uc548\uc2dc\uccad 1 2015\uc0c1 2 \uc785\ub825\ud3fc 2 \ub3c4\ub85c\uba85\uc8fc\uc18c\uc548\ub0b4 2 \uacf5\ud559\uad50\uc721\ud601\uc2e0\uc13c\ud130 2 \uc544\ubc84\uc9c0 1 \uc804\uae30\uacf5\uc0ac\uacf5\uc81c\uc870\ud569\uc7a5\ud559\ud68c2015\ub144\ub3c4 1 \uba54\uce74IT\uc735\ud569\uacf5\ud559\uacfc 1 \ucd1d\uc7a5\uc2e4 2 \ucda9\uccad\ub0a8\ub3c4\uccad 1 \uc9c4\ub9ac\ub97c 4 \uc0dd\ud65c\ud611\ub3d9\uc870\ud569 1 \ucde8\uc5c5\ub960 1 \uc778\ud134 1 0415601114 1 \ud55c\uae30\ub300\ubc29\uc1a1\uad6d 1 \ub300\ud559\uc6d0 14 Footer 2 \uc120\ud589\uc5d0 1 \uc628\ub77c\uc778\uad50\uc721\uc9c0\uc6d0 7 KOREATECH\uc18c\uac1c 2 \uc774\uba54\uc77c\ubb34\ub2e8\uc218\uc9d1\uac70\ubd80 2 \ub2e8\uc554\uc2dc\uc2a4\ud15c\uc988 1 \ud601\uc2e0\ud615\uc0ac\uc5c5 1 \ud589\uc815\uacf5\uc2dc 2 \ud50c\ub808\uc774 1 \ub2a5\ub825\uac1c\ubc1c\uad50\uc721\uc6d0 4 QA\uc5f0\uc218\uc0dd 1 \uc7a5\ud559\uc0dd 4 2014\ud559\ub144\ub3c4 3 POBU\ud3ec\ubd80\ub3d9\uae30\ubd80\uc5ec 1 \uc77c\ubc18\ub300\ud559\uc6d0 1 \uac1c\ub3c4\uad6d\uae30\uc220\uc774\uc804\uc5f0\uad6c\uc18c 1 \ucee4\ubba4\ub2c8\ud2f0 4 \ub3d9\ubb38\ud648\ud398\uc774\uc9c0 1 \uc11c\ube44\uc2a4 13 \uad00\ub828\uc0ac\uc774\ud2b8 1 \uc0b0\uc5c5\ud1b5\uc0c1\uc790\uc6d0\ubd80 1 \uad50\uc9c0\ud3b8\uc9d1\uc704\uc6d0\ud68c 1 \uc77c\ubc18\uacf5\uc9c0 1 \ud328\uce58 3 MOT\uc0ac\uc5c5\ub2e8 1 \ub354\ubcf4\uae30 6 \uc120\uc815\u2019 1 \uc2e4\ud5d8\uc2e4\uc2b5\uc744 4 1600 1 Tour 1 \uc721\uc131\uc0ac\uc5c5 1 \uc138\uacc4\uc9c0\uc2dd\uacf5\uc720\u2019 1 \uc628\ub77c\uc778 10 \uc778\ub514\ubc34\ub4dc 1 \ubcf8\ubb38 1 \uc0c1\ud0dc\uc785\ub2c8\ub2e4 1 HRD 3 \ud55c\uad6d\ub178\ub3d9\uc5f0\uad6c\uc6d0 1 \uad6d\ubbfc\uad8c\uc775\uc704\uc6d0\ud68c 1 \ud559\uc0ac\uc885\ud569\uc11c\ube44\uc2a4 4 \ud55c\uad6d\ud3f4\ub9ac\ud14d\ub300\ud559 1 \uacbd\ub825 1 \uc788\ub294 1 \ud2b9\uac15 3 \ub3d9\ubb38\uc778 2 4 12 \ubc14\ub85c\uac00\uae30 3 \uad6d\ub0b4 1 \ud488\ub2e4 1 \uc99d\uba85\ubc1c\uae09 8 \ucde8\uc5c5\uacf5\uc9c0 1 \uc548\ub0b4\uc785 1 \ud559\uc0dd\uc774 5 \ucea0\ud37c\uc2a4\uc0dd\ud65c 2 OF 1 \ud559\uc0dd 25 \uc878\uc5c5\uc0dd 1 \uc720\ud2f8\uba54\ub274 2 \uc624\ub298\uc758 6 1\ucc28 1 \uc2a4\ud15d\uc2dc\uc2a4\ud15c\uc8fc20142\ud559\uae30 1 \uc774\uc6a9\uc5d0 1 HOME 1 \ud0d1 3 \uae30\ud0c1 1 \uc7a5\ud559\uae30\uae08 1 CENTER 1 \uc900\ube44\ub97c 1 \uc0c1\ubc18\uae30 2 \u2018\uc11c\uc6b8\uc2dc 1 \ud559\uacfc\uc548\ub0b4 2 \uc804\ud654\ubc88\ud638\ucc3e\uae30 2 \uc6f9\uba54\uc77c 1 \ubc0f 2 \uc138\uba54\uc2a4\uc911\uad6d\ubc95\uc778 1 \uac1c\uc124 1 \uad50\ub0b4\uc778\uc99d 6 \ucc3d\uc870\uc778\uc7ac\uad50\uc721\uac1c\ubc1c\ub2e8 1 \ub300\ud55c\ubbfc\uad6d\uc758 1 \uad50\uc721 35 \ubd88\ud3b8\uc0ac\ud56d\uc774 1 \ucda9\uc808\ub85c 1 LINC\uc0ac\uc5c5\ub2e8 1 \uc785\ud559\uc548\ub0b4 6 daum 2 2015\ud559\ub144\ub3c4 1 \ub300\uc678\uc720\uad00\uae30\uad00 2 \uc6b0\ub9ac\ub9d0 1 \uad50\uacfc\ubd80 1 \uc120\ub3c4\ud558\ub294 1 \ucd5c\uace0\uacbd\uc601\uc790\uacfc\uc815 1 \u2018\uc0ac\ud68c\uc801\uae30\uc5c5\uac00 1 AhnLab 1 \uce5c\uad6c\ub4e4 1 NTIS 1 \uad50\uc9c1\uc6d0 2 link 2 \uc548\ub0b4 27 \ub300\ud559\ub300\ud559\uc6d0 6 SITEMAP 2 \uc81c10\uae30 1 \uc758\uacac\ub780 2 \ud64d\ubcf4\uc601\uc0c1\ubb3c 4 \uae30\uacc4\uacf5\ud559\ubd80 1 \uad50\uc591\ud559\ubd80 1 \ub3d9\uc544\ub9ac\uc548\ub0b4 2 \uc124\ubb38\uc870\uc0ac 2 \ud504 1 \ub798\ub514\uc5d4\uc2a4\ud0c0\ud2b8 1 NEWS 5 LOGIN 2 \ud559\uad50\uc6b4\uc601 1 \uc2dc\uc124\ubb3c\uc2e0\uccad 2 \uad50\uc721\uc911\uc2ec 4 \ud55c\uae30\ub300\ubc1c\uc804\uae30\uae08 2 \uacf5\uacf5\ub370\uc774\ud130\uac1c\ubc29 2 2\ucc28 3 IT\uc735\ud569\uacfc\ud559\uacbd\uc601\ub300\ud559\uc6d0 1 \uaebc\uc838 1 \uc815\ubcf4\uacf5\uac1c 6 \uc5d0\ub108\uc9c0\uc2e0\uc18c\uc7ac\ud654\ud559\uacf5\ud559\ubd80 1 \uc878\uc900\uc70407 1 \uc878\uc900\uc70408 1 \uc778\ud130\ub137 8 \uc774\uc6a9\uc548\ub0b4 2 \uc81c3\uae30 1 \ucd1d\ub3d9\uc544\ub9ac\uc5f0\ud569\ud68c 1 youtube 2 naver 2 \ub300\ud559\ubbfc\uad6d 1 \uc774\uc804 4 \ufffd\ufffd\ufffd\ufffd\ufffd\ufffd\u043a\ufffd 1 \ufffd\u03fc\u017e\ufffd 1 \ufffd\u0471\ufffd\ufffd\ufffd\ufffd\ufffd\ufffd\ufffd\ufffd\ufffd\ufffd\ufffd\u0431\ufffd 1 \ufffd\ufffd\ufffd\ufffd\ufffd\ufffd\ufffd\ufffd 1 \ufffd\u0574\u03f4\ufffd 1 \ufffd\ufffd\ufffd\ufffd 1 \ud559\ubd80\uc18c\uac1c 1 \uae08\uc77c 1 \uc2dc\ud5d8\ub300\ube44 1 0917 2 nbsp 31 \uacbd 9 \ucde8\uc5c5\ud3ec\ud138 2 KOREATECH 1 nbspnbspnbspnbspnbspnbspnbspnbspnbspnbspnbspnbspnbspnbspnbsp 1 \u25cf\uc218\uac15\uc815\uc815 1 \uacc4\ud68d\uc11c 1 \uc218\uac15\uc0dd 1 \ub124 1 \ucde8\uc5c5\ucd94\ucc9c 2 \ud55c\uad6d\uae30\uc220\uad50\uc721\ub300\ud559\uad50 1 \uc544\uc774\ub514 1 \ud589\uc815\uc591\uc2dd 1 \uc878\uc5c5 8 \uc591\uc2dd\u25cf 1 0919 1 0912 1 \uad50\uc218\uc9c4 1 \uc218\uac15 3 \uc704\ud55c 1 \ud68c\uc6d0\uac00\uc785 1 1014 1 Button 1 2\ubd84\ubc18 1 \uc8fc\ucf67\ub370 1 IPP\uc124 1 Css3Menucom 1 \uac15\uc758 1 0902 1 \uc2dc\ud5d8 2 by 1 CSS 1 \u25cf\uc218\uc2dc\uc878\uc5c5 1 \uc0ac\uc9c4\uac8c\uc2dc\ud310 1 News 1 \uacbd\ub825\uac1c\ubc1c 3 Image 1 nbspnbspnbsp 9 \uac8c\uc2dc\uae00 3 login 1 Employment 1 \ucd94\ucc9c 3 \ucee4\ub9ac\uc5b4 2 \ube44\uc2a4\ud2f0\uc628 1 \uacf5\uc9c0\u25cf 1 \uc8fc\uba54\ub274\ubc14\ub85c\uac00\uae30 1 \u25cf 7 nbspnbsp 13 \ucde8\uc5c5 8 \uc790\uc720\uac8c\uc2dc\ud310 1 \uc0dd\uc0b0\uad00\ub9ac 1 Academic 1 2014 4 \ubc0f 4 1027 2 \uc81c\uacf5 2 1020 2 1023 2 20142\ud559\uae30 1 \ub85c\uadf8\uc778\uc601\uc5ed 1 \uc624\uc2dc\ub294 1 1106 1 1104 3 Le 1 \uc878\uc5c5\ubc0f\uacbd 1 \uc77c\ubc18 2 \ud55c\uacbd 1 \ud559\uc81c\uc878\uc5c5 1 nbspnbspnbspnbspnbspnbspnbspnbspnbsp 2 \uae38 1 \ubcf8\ubb38\ubc14\ub85c\uac00\uae30 1 \uc878\uc5c5\uc5f0\uad6c 1 \uad50\uacfc\uacfc\uc815 1 \ud68c\uc6d0\ub85c\uadf8\uc778 1 20142 2 About 1 \uc2e0\uccad\uc11c 1 \u203b 1 \ud559\uc81c 2 \ub354\ubcf4\uae30 3 \uc0b0\uc5c5\uacbd\uc601\ud559\ubd80\ub97c 1 \uba54\ud0c0\ubc14\uc774\uc624\uba54\ub4dc 1 0821 1 \uc0b0\uc5c5\uacbd\uc601\ud559\ubd80 3 \ucde8\uc5c5\uc815\ubcf4 1 \ube44\ubc00\ubc88\ud638 1 \uc6b4\uc601 2 TESAT 1 \ucd5c\uc2e0 3 \ud2b9\uc131\ud654 8 \uc218\uc815 1 \ucef4\ud4e8\ud130\uc2dc\uc2a4\ud15c\uc751\uc6a9 1 \uc815\ubcf4\ud1b5\uc2e0\ubd80lt205\ub05dgt\uc5d0 1 SK\ud154\ub808\ucf64 1 \uc785\uc2dcQA 1 \ud559\uc0dd\uc790\uc728\ud559\uc2b5\ubaa8\uc784 1 nbsp 1 20141020 1 \uacf5\uc9c0\uc0ac\ud56d 1 \uc544\uc774\ub514\uc2a4\uc804\uc790\uc2e0\ubb38 1 2013\ub144 1 E2FEST 1 \uc5f0\uad6c\uc2e4\uc18c\uac1c 1 \ubaa8\uc9d1\uc694\uac15 1 \ucf64\ud14d\uc2dc\uc2a4\ud15c 1 20141112 1 20141118 5 20141119 2 \uc5f0\uad6c\uac1c\ubc1c\uc0ac 1 \uc778\ub825 1 20141031 2 \ud654\uc774\ud2b8\ud587 1 \uc7a5\ud559\uae08 1 TOEIC 1 \uae30\uc5c5 2 \uacbd\uc2dc 1 \uc544\uc774\ub514\uc5b4 1 \ubca4\ucc98\uc640 1 \uc774\ud604\ub355\uc758 1 IDIS 1 \ucc38\uc5ec 1 \ubaa8\uc9d1 3 \ud574\ud0b9\ubcf4\uc548 1 20141105 1 \uc2e0\uc785\uc0ac\uc6d0 1 \uac15\uc758\uc790\ub8cc\uc2e4 1 Spe 2 20140327 1 \ucc3e\uc544\uc624\uc2dc\ub294\uae38 1 \ud1b5\uc2e0 2 \uc7ac\ub09c\ub9dd 2 Festival 1 \uc7a5\ube44\uc5c5\uacc4 1 \ub3d9\ubb38\uac8c\uc2dc\ud310 1 \uac1c\ubc1c\uc790 1 \ub514\uc9c0\ud138 1 20131007 1 IT\uc735\ud569 2 \uad50\uc218\uc9c4 1 \ud559\ubd80\uc0ac\uc9c4\uac94\ub7ec\ub9ac 1 OPIc 1 \ud559\uc0dd\ud68c 1 4\ub300 1 C 2 \ud22c\ud45c 1 \ucc3d\uc5c5\uc9c0\uc6d0 1 \ud3ec\uc2a4\ud130\ubc1c\ud45c\uacbd\uc9c4\ub300\ud68c 1 \uc0ac\uc9c4\uac8c\uc2dc\ud310 1 \uacf5\ud559\uc778\uc99d\uc548\ub0b4 1 \ucef4\ud4e8\ud130SW 1 1\ud68c 1 \uad50\uc721\ubaa9\ud45c 1 20120909 1 \ucde8\uc5c5\uc870\uc0ac2013 1 1\ud559\ub144 1 \ucde8\uc5c5\uc870\uc0ac2014 1 \uc775\uba85\uac8c\uc2dc\ud310 1 1000\uc5b5\u2192500\uc5b5\u2192470\uc5b5\u00b7\u00b7\u00b7\uc7ac\ub09c\ub9dd 1 2014\ub144 1 \uc138\ub9bc\ud2f0\ub124\uc2a4\uc9c0\uc8fc 1 \ud504\ub85c\uadf8\ub7a8 1 \uc878\uc5c5\uc791\ud488 2 20121105 1 13rh 1 \uc7a5\ud559\uc81c\ub3c4 1 \ud648\ud398\uc774\uc9c0 1 \ucde8\uc5c5\uac8c\uc2dc\ud310 1 2015\ud559\ub144\ub3c4 1 \ud559\ud68c\uc7a5\ubd80\ud559 1 20141014 3 20141016 1 \ud68c\uc758 1 \ub300\ud559\uc6d0 3 \uc124\uacc41 1 \uc790\uc720\uac8c\uc2dc\ud310 1 HUST 1 \uacbd\uc9c4\ub300 2 \uacf5\uace0 1 \u20182014 1 \uc548\ub0b4 2 \ucc38\uc11d 1 Hacking 1 \ub300\ud559\uc6d0\uc18c\uac1c 1 \uc5ed\ub7c9\uac15\ud654 1 \ub808\uc774 1 \ud504\ub85c\uadf8\ub798\ubc0d 1 20141120 7 \uc2dc\uc2a4\ud15c 3 \uc138 2 \ucef4\ud4e8\ud130HW 1 2014 31 \uc11c\uc2dd\ubc0f\uc591\uc2dd\uc790\ub8cc\uc2e4 1 \ucef4\ud4e8\ud130\uacf5\ud559\ubd80 3 Toeic 1 \ucf58\ud14c\uc2a4\ud2b8 1 \uc2e4\uc2b5\uc870\uad50 1 \ub300\ud559\uc6d0\uac8c\uc2dc\ud310 1 20140924 1 20131210 1 \ud544\uc218 1 \uae30\uc5c5\uc11c\ube44\uc2a4 1 1 103 \uc81c 4 \ud544\ub3c5 1 \uc77c\ubc18\uc790\ub8cc\uc2e4 1 3\ud559\ub144 1 \uacf5\ud559\uc778\uc99d\uac8c\uc2dc\ud310 1 \uc8fc\ucf5c\ub7ec\ub178\ube44\ud0c0 1 Tmoney\ud55c\uad6d\uc2a4\ub9c8\ud2b8\uce74\ub4dc 1 \ube0c\ub85c\uc154 1 KT 1 \uc878\uc5c5\uc774\uc218\uc694\uac74 1 \uacf5\ud559\uc124\uacc4 2 20140930 1 \uc81c6\ud68c 1 \ucef4\ud4e8\ud130\uc2a4\ub9c8\ud2b8IT 1 \uace0\uc7a5\uc2e0\uace0\uac8c\uc2dc\ud310 1 Specialist\uc81c 1 \ucc44\uc6a9 2 quotMOTPSM\ud074\ub7ec 1 \uc0ac 8 \ud504\ub808\uc784\uc744 1 \uc9c0\uc6d0 1 \ud55c\uad6d\uae30\uc220\uad50\uc721\ub300\ud559\uad50 1 \ud558\uc154\uc57c 1 \uc5d0\ub108\uc9c0\uc2e0\uc18c\uc7ac\ud654\ud559\uacf5\ud559\ubd80 1 \ud569\ub2c8\ub2e4 1\n",
        "-------------------\n",
        "\uac00\uc7a5 \ub9ce\uc774 \ub098\uc628 \ub2e8\uc5b4\ub294\n",
        "1 : 103\n"
       ]
      }
     ],
     "prompt_number": 2
    },
    {
     "cell_type": "markdown",
     "metadata": {},
     "source": [
      "\uba3c\uc800 \ubaa8\ub4e0 \ud30c\uc77c\ub4e4\uc744 \uac01\uac01\uc758 \uc0ac\uc804\uc73c\ub85c \uc800\uc7a5\ud55c \ud6c4 \ud558\ub098\uc758 \ub9ac\uc2a4\ud2b8\uc5d0 \uac01 \ub2e8\uc5b4\ub4e4\uc744 \ubaa8\ub450 \ubaa8\uc544 \uc90d\ub2c8\ub2e4 \ubaa8\uc744\ub54c \ub9cc\uc57d \uac19\uc740 \ub2e8\uc5b4\uac00 \uc788\ub2e4\uba74 \ub450 \ud69f\uc218\ub97c \ub354\ud558\uc5ec \uc785\ub825\ud574 \uc90d\ub2c8\ub2e4. \uc774\ub807\uac8c \ud574\uc11c \ud558\ub098\uc758 \ub9ac\uc2a4\ud2b8\uc5d0 \uc800\uc7a5\ub41c \ub2e8\uc5b4\ub4e4\uc911 \ucd5c\uacf3\uac12 \ucc3e\uae30\ub97c \ud1b5\ud574 \uac00\uc7a5 \ub9ce\uc774 \ub098\uc628 \ub2e8\uc5b4\ub97c \ucd9c\ub825\ud574 \uc90d\ub2c8\ub2e4."
     ]
    },
    {
     "cell_type": "code",
     "collapsed": false,
     "input": [],
     "language": "python",
     "metadata": {},
     "outputs": []
    }
   ],
   "metadata": {}
  }
 ]
}