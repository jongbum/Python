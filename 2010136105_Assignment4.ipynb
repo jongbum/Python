{
 "metadata": {
  "name": "",
  "signature": "sha256:855f6397575bbc2afc3ea2949f27e9e207b7f30368fdc13530c443717b5308df"
 },
 "nbformat": 3,
 "nbformat_minor": 0,
 "worksheets": [
  {
   "cells": [
    {
     "cell_type": "code",
     "collapsed": false,
     "input": [
      "import os\n",
      "\n",
      "print os.getcwd()\n",
      "\n",
      "\n",
      "s = \"\"\"pig ham\n",
      "cat dog\n",
      "ham bird\n",
      "dog pig\n",
      "\"\"\"\n",
      "f = open('s.txt', 'w')\n",
      "f.write(s) \n",
      "f.close()\n",
      "\n",
      "\n",
      "f = file('s.txt') \n",
      "s = f.read()\n",
      "print s"
     ],
     "language": "python",
     "metadata": {},
     "outputs": [
      {
       "output_type": "stream",
       "stream": "stdout",
       "text": [
        "C:\\Users\\jongbum\n",
        "pig ham\n",
        "cat dog\n",
        "ham bird\n",
        "dog pig\n",
        "\n"
       ]
      }
     ],
     "prompt_number": 1
    },
    {
     "cell_type": "markdown",
     "metadata": {},
     "source": [
      "s\uc5d0 \uc800\uc7a5\ud560 \ubb38\uc790\uc5f4\uc744 \uc785\ub825\ud55c \ud6c4 s.txt\uc5d0 \uc800\uc7a5\ud558\ub294 \ucf54\ub4dc\uc785\ub2c8\ub2e4."
     ]
    },
    {
     "cell_type": "code",
     "collapsed": false,
     "input": [
      "f = open('s.txt')\n",
      "a=[]\n",
      "for line in f:\n",
      "    a.append(line)\n",
      "\n",
      "f= open('s1.txt','w+')\n",
      "f.write(''.join(sorted(a)))\n",
      "f.seek(0)\n",
      "s = f.read()\n",
      "print s\n",
      "f.close()"
     ],
     "language": "python",
     "metadata": {},
     "outputs": [
      {
       "output_type": "stream",
       "stream": "stdout",
       "text": [
        "cat dog\n",
        "dog pig\n",
        "ham bird\n",
        "pig ham\n",
        "\n"
       ]
      }
     ],
     "prompt_number": 2
    },
    {
     "cell_type": "markdown",
     "metadata": {},
     "source": [
      "for \ubb38\uc73c\ub85c \ud55c \ub77c\uc778\uc529 a\ub9ac\uc2a4\ud2b8\uc5d0 \ub123\uc740\ud6c4 \uc815\ub82c\ud55c \uac12\uc744 s1.txt\uc5d0 \uc785\ub825\ud558\ub294 \ucf54\ub4dc\uc785\ub2c8\ub2e4. "
     ]
    },
    {
     "cell_type": "code",
     "collapsed": false,
     "input": [
      "def mycmp(a1):\n",
      "    a=a1[0]\n",
      "    b=a1[1]\n",
      "    return [b,a]\n",
      "\n",
      "f = open('s.txt')\n",
      "a=''\n",
      "k=[]\n",
      "y=[]\n",
      "p=[]\n",
      "fi=[]\n",
      "i=0\n",
      "for line in f:\n",
      "    a=line\n",
      "    k.append(a.split()) \n",
      "    y.append(mycmp(k[i]))\n",
      "    i+=1\n",
      "p=sorted(y)\n",
      "\n",
      "for x in range(len(p)):\n",
      "    fi+=mycmp(p[x])\n",
      "    fi+='\\n'\n",
      "    \n",
      "\n",
      "f= open('s2.txt','w+')\n",
      "f.write(' '.join(fi))\n",
      "f.seek(0)\n",
      "s = f.read()\n",
      "print s\n",
      "f.close()"
     ],
     "language": "python",
     "metadata": {},
     "outputs": [
      {
       "output_type": "stream",
       "stream": "stdout",
       "text": [
        "ham bird \n",
        " cat dog \n",
        " pig ham \n",
        " dog pig \n",
        "\n"
       ]
      }
     ],
     "prompt_number": 3
    },
    {
     "cell_type": "markdown",
     "metadata": {},
     "source": [
      "for \ubb38\uc73c\ub85c \ud55c \ub77c\uc778\uc758 \uac12\uc744 \ubc1b\uc740\ud6c4 \ub450\ub2e8\uc5b4\ub97c \ubd84\ub9ac\ud558\uc5ec k \ub9ac\uc2a4\ud2b8 \uc800\uc7a5\ud558\uace0 \uc55e\uc5d0 \ub2e8\uc5b4\uc640 \ub4a4\uc5d0 \ub2e8\uc5b4\ub97c \ubc14\uafd4\uc900\ud6c4 y\ub9ac\uc2a4\ud2b8\uc5d0 \uc800\uc7a5\ud574\uc90d\ub2c8\ub2e4.\n",
      "\uadf8\ud6c4 \uc815\ub82c\uc744 \ud55c\ud6c4 \ub2e4\uc2dc \uc55e\uc758 \ub2e8\uc5b4\uc640 \ub4a4\uc5d0 \ub2e8\uc5b4\ub97c \ubc14\uafd4\uc900 \uac12\uc744 fi\uc5d0 \ub123\uc740\ud6c4 s2.txt\uc5d0 \uc785\ub825\ud574\uc90d\ub2c8\ub2e4."
     ]
    },
    {
     "cell_type": "code",
     "collapsed": false,
     "input": [
      "f = open('s.txt')\n",
      "a=''\n",
      "k=[]\n",
      "y=[]\n",
      "p=[]\n",
      "fi=[]\n",
      "for line in f:\n",
      "    a=line\n",
      "    k.append(a.split()) \n",
      "\n",
      "\n",
      "for x in range(len(k)):\n",
      "    fi+=k[x]\n",
      "    \n",
      "i=0\n",
      "for x in range(len(fi)):\n",
      "    if(x%3==0 and x!=0):\n",
      "        fi[x+i:x]=['\\n']\n",
      "        i+=1\n",
      "           \n",
      "\n",
      "f= open('s3.txt','w+')\n",
      "f.write(' '.join(fi))\n",
      "f.seek(0)\n",
      "s = f.read()\n",
      "print s\n",
      "f.close()"
     ],
     "language": "python",
     "metadata": {},
     "outputs": [
      {
       "output_type": "stream",
       "stream": "stdout",
       "text": [
        "pig ham cat \n",
        " dog ham bird \n",
        " dog pig\n"
       ]
      }
     ],
     "prompt_number": 4
    },
    {
     "cell_type": "markdown",
     "metadata": {},
     "source": [
      "\uac01 \ub77c\uc778\ubcc4\ub85c \ub2e8\uc5b4\ub97c \ubb38\uc790\uc5f4\ub85c \uc785\ub825\ubc1b\uc740\ud6c4 \ub2e8\uc5b4\ub97c \ub098\ub220\uc11c k\uc5d0 \uc800\uc7a5\ud558\uace0 \uadf8 \uac01 \ub098\ub208 \ub2e8\uc5b4\ub4e4\uc744 fi\ub9ac\uc2a4\ud2b8\uc5d0 \ubaa8\ub450 \uc800\uc7a5\uc2dc\ucf1c\uc900\ud6c4 3\uac1c \ub2e8\uc704\ub85c \ubb36\uc5b4\uc8fc\uace0 \uadf8 \ubb36\uc5b4\uc900 \ub2e8\uc5b4\ub4e4\uc744 s3.txt\uc5d0 \uc800\uc7a5\ud574 \uc8fc\ub294 \ucf54\ub4dc\uc785\ub2c8\ub2e4."
     ]
    },
    {
     "cell_type": "markdown",
     "metadata": {},
     "source": [
      "--------------------------------------------------------------------------------------------------------------------"
     ]
    },
    {
     "cell_type": "code",
     "collapsed": false,
     "input": [
      "import sha\n",
      "def print_menu():\n",
      "    print 'Welcome To Our Service'\n",
      "    print '1. Sign up'\n",
      "    print '2. Sign in'\n",
      "    print '3. Quit'\n",
      "    print\n",
      "\n",
      "def signup():\n",
      "    \n",
      "    f = open('access.txt','a')\n",
      "    pp=0\n",
      "    while pp == 0: \n",
      "        pp=1\n",
      "        id1 = raw_input(\"Id: \")\n",
      "        f = open('access.txt') \n",
      "        a=''\n",
      "        b=[]\n",
      "        for line in f:\n",
      "            a=line\n",
      "            b.append(a.split(':'))\n",
      "\n",
      "        for x in range(len(b)):\n",
      "            if(b[x][0] == id1):\n",
      "                print 'Sorry, the entered ID is already used'\n",
      "                pp=0\n",
      "        f.close()\n",
      "        if(pp==1): \n",
      "            f = open('access.txt','a')   \n",
      "            f.write(id1)\n",
      "            f.write(':')\n",
      "            f.close()\n",
      "\n",
      "    \n",
      "    f = open('access.txt','a')  \n",
      "    pas = raw_input(\"Password: \")\n",
      "    password_plain = pas\n",
      "    password_encrypted = sha.new(password_plain).hexdigest()\n",
      "    f.write(password_encrypted)\n",
      "    f.write(',')\n",
      "    f.close()\n",
      "     \n",
      "    f = open('access.txt','a') \n",
      "    name = raw_input(\"Name: \")\n",
      "    f.write(name)\n",
      "    f.write(',')\n",
      "    f.close()\n",
      "    \n",
      "    f = open('access.txt','a')\n",
      "    sch = raw_input(\"School: \")\n",
      "    f.write(sch)\n",
      "    f.write('\\n')\n",
      "    f.close()\n",
      "\n",
      "def signin():\n",
      "    f = open('access.txt')\n",
      "    a=''\n",
      "    b=[]\n",
      "    c=[]\n",
      "    for line in f:\n",
      "        a=line\n",
      "        b.append(a.split(':'))\n",
      "    \n",
      "    for x in range(len(b)):\n",
      "        c.append(b[x][1].split(','))\n",
      "        \n",
      "    pp=0\n",
      "    while pp == 0: \n",
      "        pp=1\n",
      "        id1 = raw_input(\"Id: \") \n",
      "        for x in range(len(b)):\n",
      "            if(b[x][0] == id1):\n",
      "                pp=1\n",
      "                break\n",
      "            else:\n",
      "                pp=0\n",
      "        if(pp==0):\n",
      "            print 'Sorry, you are not a registered member'\n",
      "    \n",
      "    \n",
      "    qq=0      \n",
      "    while qq == 0: \n",
      "        qq=1                \n",
      "        pas = raw_input(\"Password: \")\n",
      "        password_plain = pas\n",
      "        password_encrypted = sha.new(password_plain).hexdigest()\n",
      "        \n",
      "        if(c[x][0] == password_encrypted):\n",
      "            qq=1\n",
      "            break\n",
      "        else:\n",
      "            qq=0\n",
      "        if(qq==0):\n",
      "            print 'Sorry, the entered password is not correct.'\n",
      "    print \n",
      "    print 'Hello [%s]!' % (c[x][1])\n",
      "    print \n",
      "\n",
      "            \n",
      "\n",
      "        \n",
      "numbers = {}\n",
      "menu_choice = 0\n",
      "print_menu()\n",
      "while menu_choice != 3:\n",
      "    x= input('chooes menu (1-3):')\n",
      "    menu_choice = x\n",
      "    if menu_choice == 1:\n",
      "        signup()\n",
      "    elif menu_choice == 2:\n",
      "        signin()\n",
      "    if menu_choice != 3:\n",
      "        print_menu()"
     ],
     "language": "python",
     "metadata": {},
     "outputs": [
      {
       "output_type": "stream",
       "stream": "stdout",
       "text": [
        "Welcome To Our Service\n",
        "1. Sign up\n",
        "2. Sign in\n",
        "3. Quit\n",
        "\n"
       ]
      },
      {
       "name": "stdout",
       "output_type": "stream",
       "stream": "stdout",
       "text": [
        "chooes menu (1-3):1\n"
       ]
      },
      {
       "name": "stdout",
       "output_type": "stream",
       "stream": "stdout",
       "text": [
        "Id: aa\n"
       ]
      },
      {
       "name": "stdout",
       "output_type": "stream",
       "stream": "stdout",
       "text": [
        "Password: a1s1d1\n"
       ]
      },
      {
       "name": "stdout",
       "output_type": "stream",
       "stream": "stdout",
       "text": [
        "Name: jb\n"
       ]
      },
      {
       "name": "stdout",
       "output_type": "stream",
       "stream": "stdout",
       "text": [
        "School: kut\n"
       ]
      },
      {
       "output_type": "stream",
       "stream": "stdout",
       "text": [
        "Welcome To Our Service\n",
        "1. Sign up\n",
        "2. Sign in\n",
        "3. Quit\n",
        "\n"
       ]
      },
      {
       "name": "stdout",
       "output_type": "stream",
       "stream": "stdout",
       "text": [
        "chooes menu (1-3):1\n"
       ]
      },
      {
       "name": "stdout",
       "output_type": "stream",
       "stream": "stdout",
       "text": [
        "Id: bb\n"
       ]
      },
      {
       "name": "stdout",
       "output_type": "stream",
       "stream": "stdout",
       "text": [
        "Password: z1x1c1\n"
       ]
      },
      {
       "name": "stdout",
       "output_type": "stream",
       "stream": "stdout",
       "text": [
        "Name: yb\n"
       ]
      },
      {
       "name": "stdout",
       "output_type": "stream",
       "stream": "stdout",
       "text": [
        "School: kut\n"
       ]
      },
      {
       "output_type": "stream",
       "stream": "stdout",
       "text": [
        "Welcome To Our Service\n",
        "1. Sign up\n",
        "2. Sign in\n",
        "3. Quit\n",
        "\n"
       ]
      },
      {
       "name": "stdout",
       "output_type": "stream",
       "stream": "stdout",
       "text": [
        "chooes menu (1-3):1\n"
       ]
      },
      {
       "name": "stdout",
       "output_type": "stream",
       "stream": "stdout",
       "text": [
        "Id: cc\n"
       ]
      },
      {
       "name": "stdout",
       "output_type": "stream",
       "stream": "stdout",
       "text": [
        "Password: q1w1e1\n"
       ]
      },
      {
       "name": "stdout",
       "output_type": "stream",
       "stream": "stdout",
       "text": [
        "Name: kb\n"
       ]
      },
      {
       "name": "stdout",
       "output_type": "stream",
       "stream": "stdout",
       "text": [
        "School: kut\n"
       ]
      },
      {
       "output_type": "stream",
       "stream": "stdout",
       "text": [
        "Welcome To Our Service\n",
        "1. Sign up\n",
        "2. Sign in\n",
        "3. Quit\n",
        "\n"
       ]
      },
      {
       "name": "stdout",
       "output_type": "stream",
       "stream": "stdout",
       "text": [
        "chooes menu (1-3):1\n"
       ]
      },
      {
       "name": "stdout",
       "output_type": "stream",
       "stream": "stdout",
       "text": [
        "Id: aa\n"
       ]
      },
      {
       "output_type": "stream",
       "stream": "stdout",
       "text": [
        "Sorry, the entered ID is already used\n"
       ]
      },
      {
       "name": "stdout",
       "output_type": "stream",
       "stream": "stdout",
       "text": [
        "Id: bb\n"
       ]
      },
      {
       "output_type": "stream",
       "stream": "stdout",
       "text": [
        "Sorry, the entered ID is already used\n"
       ]
      },
      {
       "name": "stdout",
       "output_type": "stream",
       "stream": "stdout",
       "text": [
        "Id: dd\n"
       ]
      },
      {
       "name": "stdout",
       "output_type": "stream",
       "stream": "stdout",
       "text": [
        "Password: q1a1z1\n"
       ]
      },
      {
       "name": "stdout",
       "output_type": "stream",
       "stream": "stdout",
       "text": [
        "Name: hb\n"
       ]
      },
      {
       "name": "stdout",
       "output_type": "stream",
       "stream": "stdout",
       "text": [
        "School: kut\n"
       ]
      },
      {
       "output_type": "stream",
       "stream": "stdout",
       "text": [
        "Welcome To Our Service\n",
        "1. Sign up\n",
        "2. Sign in\n",
        "3. Quit\n",
        "\n"
       ]
      },
      {
       "name": "stdout",
       "output_type": "stream",
       "stream": "stdout",
       "text": [
        "chooes menu (1-3):2\n"
       ]
      },
      {
       "name": "stdout",
       "output_type": "stream",
       "stream": "stdout",
       "text": [
        "Id: ss\n"
       ]
      },
      {
       "output_type": "stream",
       "stream": "stdout",
       "text": [
        "Sorry, you are not a registered member\n"
       ]
      },
      {
       "name": "stdout",
       "output_type": "stream",
       "stream": "stdout",
       "text": [
        "Id: kk\n"
       ]
      },
      {
       "output_type": "stream",
       "stream": "stdout",
       "text": [
        "Sorry, you are not a registered member\n"
       ]
      },
      {
       "name": "stdout",
       "output_type": "stream",
       "stream": "stdout",
       "text": [
        "Id: aa\n"
       ]
      },
      {
       "name": "stdout",
       "output_type": "stream",
       "stream": "stdout",
       "text": [
        "Password: asd\n"
       ]
      },
      {
       "output_type": "stream",
       "stream": "stdout",
       "text": [
        "Sorry, the entered password is not correct.\n"
       ]
      },
      {
       "name": "stdout",
       "output_type": "stream",
       "stream": "stdout",
       "text": [
        "Password: a1s1d1\n"
       ]
      },
      {
       "output_type": "stream",
       "stream": "stdout",
       "text": [
        "\n",
        "Hello [jb]!\n",
        "\n",
        "Welcome To Our Service\n",
        "1. Sign up\n",
        "2. Sign in\n",
        "3. Quit\n",
        "\n"
       ]
      },
      {
       "name": "stdout",
       "output_type": "stream",
       "stream": "stdout",
       "text": [
        "chooes menu (1-3):2\n"
       ]
      },
      {
       "name": "stdout",
       "output_type": "stream",
       "stream": "stdout",
       "text": [
        "Id: cc\n"
       ]
      },
      {
       "name": "stdout",
       "output_type": "stream",
       "stream": "stdout",
       "text": [
        "Password: q1w1e1\n"
       ]
      },
      {
       "output_type": "stream",
       "stream": "stdout",
       "text": [
        "\n",
        "Hello [kb]!\n",
        "\n",
        "Welcome To Our Service\n",
        "1. Sign up\n",
        "2. Sign in\n",
        "3. Quit\n",
        "\n"
       ]
      },
      {
       "name": "stdout",
       "output_type": "stream",
       "stream": "stdout",
       "text": [
        "chooes menu (1-3):3\n"
       ]
      }
     ],
     "prompt_number": 5
    },
    {
     "cell_type": "markdown",
     "metadata": {},
     "source": [
      "--------------------------------------------------------------------------------------------------------------------"
     ]
    },
    {
     "cell_type": "code",
     "collapsed": false,
     "input": [
      "def frange(start, stop=None, step=None):\n",
      "\n",
      "    if stop == None:\n",
      "        stop = start + 0.0\n",
      "        start = 0.0\n",
      "\n",
      "    if step == None:\n",
      "        step = 0.1\n",
      "    \n",
      "    while 1:\n",
      "        if(start <= stop):\n",
      "            print start,\n",
      "            start+=step\n",
      "        else:\n",
      "            break\n",
      "    print\n",
      "frange(0.5)\n",
      "frange(1.0,2.0)\n",
      "frange(2.2,4.0,0.5)"
     ],
     "language": "python",
     "metadata": {},
     "outputs": [
      {
       "output_type": "stream",
       "stream": "stdout",
       "text": [
        "0.0 0.1 0.2 0.3 0.4 0.5\n",
        "1.0 1.1 1.2 1.3 1.4 1.5 1.6 1.7 1.8 1.9\n",
        "2.2 2.7 3.2 3.7\n"
       ]
      }
     ],
     "prompt_number": 2
    },
    {
     "cell_type": "markdown",
     "metadata": {},
     "source": [
      "\ud558\ub098\uc758 \uc785\ub825\uc744 \ubc1b\uc558\uc744 \ub54c\ub294 stop\uacfc step\uc774 \uac12\uc774 \uc5c6\uae30 \ub54c\ubb38\uc5d0 \ub450\uac1c\uc758 if \ubb38\uc774 \uc2e4\ud589\ub418\uace0 while \ubb38\uc744 \ub3cc\uba74\uc11c start\ubd80\ud130 stop\uae4c\uc9c0 step\uc744 \ub354\ud574\uac00\uba70 \ucd9c\ub825\ub429\ub2c8\ub2e4."
     ]
    },
    {
     "cell_type": "markdown",
     "metadata": {},
     "source": [
      "--------------------------------------------------------------------------------------------------------------------"
     ]
    },
    {
     "cell_type": "code",
     "collapsed": false,
     "input": [
      "def sum(a, *arg):\n",
      "    result = a\n",
      "    \n",
      "    for x in arg :\n",
      "        result += x\n",
      "    \n",
      "    print result\n",
      "\n",
      "sum(1)\n",
      "sum(1, 2)\n",
      "sum(1, 2, 3, 4, 5)\n",
      "sum(1, 5, 7, 2, -10)"
     ],
     "language": "python",
     "metadata": {},
     "outputs": [
      {
       "output_type": "stream",
       "stream": "stdout",
       "text": [
        "1\n",
        "3\n",
        "15\n",
        "5\n"
       ]
      }
     ],
     "prompt_number": 3
    },
    {
     "cell_type": "markdown",
     "metadata": {},
     "source": [
      "\uccab\ubc88\uc9f8 \uac83\uc744 \uc81c\uc678\ud55c \ub098\uba38\uc9c0 \uac83\ub4e4\uc774 \ud558\ub098\uc758 \uac12\uc73c\ub85c \ub4e4\uc5b4\uac00 \ub4e4\uc5b4\uac04 \uc218\ub4e4\uc744 \ubaa8\ub450 \ub354\ud574\uc8fc\ub294 \ucf54\ub4dc\uc785\ub2c8\ub2e4."
     ]
    },
    {
     "cell_type": "markdown",
     "metadata": {},
     "source": [
      "--------------------------------------------------------------------------------------------------------------------"
     ]
    },
    {
     "cell_type": "code",
     "collapsed": false,
     "input": [
      "def change(word) :\n",
      "    lowerToUpper = word.upper()\n",
      "    return lowerToUpper\n",
      "\n",
      "def myinitial(string) :\n",
      "    tmpList = string.split(' ')\n",
      "    \n",
      "    wordList = []\n",
      "    for x in range(len(tmpList)) :\n",
      "        wordList.append(tmpList[x][0])\n",
      "     \n",
      "    tmpWord = map(change, wordList) \n",
      "    word = ''.join(tmpWord)\n",
      "    \n",
      "    print word\n",
      "\n",
      "myinitial('as soon as possible')"
     ],
     "language": "python",
     "metadata": {},
     "outputs": [
      {
       "output_type": "stream",
       "stream": "stdout",
       "text": [
        "ASAP\n"
       ]
      }
     ],
     "prompt_number": 4
    },
    {
     "cell_type": "markdown",
     "metadata": {},
     "source": [
      "\ubb38\uc790\uc5f4\uc744 \uc785\ub825\ubc1b\uc544 \uacf5\ubc31\uc744 \uae30\uc900\uc73c\ub85c \ubb38\uc790\ub97c \ub098\ub208\ud6c4 \ubb38\uc790\ub97c \ubaa8\ub450 \ub300\ubb38\uc790\ub85c \ubc14\uafb8\uace0 \uadf8 \ubb38\uc790\uc758 \uccab\ubc88\uc9f8 \ubb38\uc790\ub9cc wordList\uc5d0 \ub123\uc5b4\uc900\ud6c4 \uadf8\uac12\ub4e4\uc744 \ud569\uccd0\uc90d\ub2c8\ub2e4."
     ]
    },
    {
     "cell_type": "markdown",
     "metadata": {},
     "source": [
      "--------------------------------------------------------------------------------------------------------------------"
     ]
    },
    {
     "cell_type": "code",
     "collapsed": false,
     "input": [
      "def factorial(num) :\n",
      "    if num == 1 :\n",
      "        return 1\n",
      "    return num * factorial(num - 1)\n",
      "\n",
      "i = input('int :')\n",
      "\n",
      "print factorial(i)"
     ],
     "language": "python",
     "metadata": {},
     "outputs": []
    },
    {
     "cell_type": "markdown",
     "metadata": {},
     "source": [
      "\uc7ac\uadc0\ud568\uc218\ub97c \uc774\uc6a9\ud558\uc5ec 1\uc529 \uac10\uc18c\ud558\uba70 \ud329\ud1a0\ub9ac\uc5bc\uc744 \uacc4\uc0b0\ud574\uc8fc\ub294 \ucf54\ub4dc\uc785\ub2c8\ub2e4."
     ]
    },
    {
     "cell_type": "markdown",
     "metadata": {},
     "source": [
      "--------------------------------------------------------------------------------------------------------------------"
     ]
    },
    {
     "cell_type": "markdown",
     "metadata": {},
     "source": [
      "mport string \uacfc from string import * \ubaa8\ub450 string \ubaa8\ub4c8\uc744 \ubd88\ub7ec\uc624\ub294 \uac83\uc774\ub2e4.\n",
      "-> import string\uc758 \uacbd\uc6b0 \ud574\ub2f9 \ubaa8\ub4c8\uc5d0 \uc874\uc7ac\ud558\ub294\n",
      "'__'\ub85c \uc2dc\uc791\ub418\ub294 \uc774\ub984\ub4e4\uc744 \ud3ec\ud568\ud55c \ubaa8\ub4e0 \uc774\ub984\ub4e4\uc744 \ud604\uc7ac \uc774\ub984 \uacf5\uac04\uc73c\ub85c \ubd88\ub7ec\ub4e4\uc778\ub2e4.\n",
      "-> from string import * \uc758 \uacbd\uc6b0 \ud574\ub2f9 \ubaa8\ub4c8\uc5d0 \uc874\uc7ac\ud558\ub294\n",
      "'__'\ub85c \uc2dc\uc791\ub418\ub294 \uc774\ub984\ub4e4\uc744 \uc81c\uc678\ud55c \ubaa8\ub4e0 \uc774\ub984\ub4e4\uc744 \ud604\uc7ac \uc774\ub984 \uacf5\uac04\uc73c\ub85c \ubd88\ub7ec\ub4e4\uc778\ub2e4."
     ]
    },
    {
     "cell_type": "markdown",
     "metadata": {},
     "source": [
      "--------------------------------------------------------------------------------------------------------------------"
     ]
    },
    {
     "cell_type": "code",
     "collapsed": false,
     "input": [
      "import urllib\n",
      "\n",
      "source = urllib.urlopen(\"https://http://www.koreatech.ac.kr//\").read()\n",
      "f = open('http://www.koreatech.ac.kr/.html', 'w')\n",
      "f.write(source) \n",
      "f.close()"
     ],
     "language": "python",
     "metadata": {},
     "outputs": [],
     "prompt_number": 1
    },
    {
     "cell_type": "code",
     "collapsed": false,
     "input": [
      "import string\n",
      "import pickle\n",
      "\n",
      "\n",
      "\n",
      "f = open('www.koreatech.ac.kr.html')\n",
      "source = f.read()\n",
      "f.close()\n",
      "\n",
      "\n",
      "len_source = len(source)\n",
      "source_new = None\n",
      "i = 0\n",
      "while (i < len_source):\n",
      "\tfound = False\n",
      "\tif (found != True and source[i] == \"<\" and source[i+1 : i+7].lower() == \"script\"):\n",
      "\t\tfound = True;\n",
      "\t\tj = i + 7;\n",
      "\t\twhile (True):\n",
      "\t\t\tif (source[j] == \"<\" and source[j+1] == \"/\" and source[j+2 : j+8].lower() == \"script\"):\n",
      "\t\t\t\t#print \"found - script\"\n",
      "\t\t\t\tsource = source[:i] + ' ' + source[j+9:]\n",
      "\t\t\t\tbreak\n",
      "\t\t\tj = j + 1\n",
      "\t\t\tif (j > len_source):\n",
      "\t\t\t\tbreak\n",
      "\t\tlen_source = len(source)\n",
      "\ti = i + 1\n",
      "\n",
      "len_source = len(source)\n",
      "#print len_source\n",
      "\n",
      "i = 0\n",
      "while (i < len_source):\n",
      "\tfound = False\n",
      "\tif (found != True and source[i] == \"<\" and source[i+1 : i+6].lower() == \"style\"):\n",
      "\t\tfound = True;\n",
      "\t\tj = i + 6;\n",
      "\t\twhile (True):\n",
      "\t\t\tif (source[j] == \"<\" and source[j+1] == \"/\" and source[j+2 : j+7].lower() == \"style\"):\n",
      "\t\t\t\t#print \"found - style\"\n",
      "\t\t\t\tsource = source[:i] + ' ' + source[j+8:]\n",
      "\t\t\t\tbreak\n",
      "\t\t\tj = j + 1\n",
      "\t\t\tif (j > len_source):\n",
      "\t\t\t\tbreak\n",
      "\t\tlen_source = len(source)\n",
      "\ti = i + 1\n",
      "\n",
      "len_source = len(source)\n",
      "#print len_source\n",
      "\n",
      "i = 0\n",
      "while (i < len_source):\n",
      "\tfound = False\n",
      "\tif (found != True and source[i] == \"<\"):\n",
      "\t\tfound = True;\n",
      "\t\tj = i + 1;\n",
      "\t\twhile (True):\n",
      "\t\t\tif (source[j] == \">\"):\n",
      "\t\t\t\t#print \"found - HTML tag\"\n",
      "\t\t\t\tsource = source[:i] + ' ' + source[j+1:]\n",
      "\t\t\t\tbreak\n",
      "\t\t\tj = j + 1\n",
      "\t\t\tif (j > len_source):\n",
      "\t\t\t\tbreak\n",
      "\t\tlen_source = len(source)\n",
      "\ti = i + 1\n",
      "\n",
      "len_source = len(source)\n",
      "\n",
      "\n",
      "wordList = source.split()\n",
      "k = string.punctuation\n",
      "sourse = \" \".join(wordList)\n",
      "new_str = sourse.translate(None, k)\n",
      "    \n",
      "\n",
      "  \n",
      "listvalue = new_str.split()\n",
      "countnum = []\n",
      "for x in range(len(listvalue)):\n",
      "    countnum.append(new_str.count(listvalue[x]))\n",
      "    \n",
      "\n",
      "k = dict()\n",
      "\n",
      "for x in range(len(countnum)):\n",
      "    k[listvalue[x]] = countnum[x]\n",
      "\n",
      "\n",
      "p1=[]\n",
      "p2=[]\n",
      "for key in k.keys():\n",
      "    p1.append(key)\n",
      "    p2.append(k[key])\n",
      "    \n",
      "p3={}\n",
      "for x in range(len(p1)):\n",
      "     p3 =dict(zip(p1,p2))\n",
      "\n",
      "f = open('www.koreatech.ac.kr.words.frequency', 'w') \n",
      "pickle.dump(p3, f)     \n",
      "f.close() "
     ],
     "language": "python",
     "metadata": {},
     "outputs": [],
     "prompt_number": 2
    },
    {
     "cell_type": "markdown",
     "metadata": {},
     "source": [
      "\uc704\uc640 \uac19\uc740 \ubc29\ubc95\uc73c\ub85c \uc6f9\ud398\uc774\uc9c0 \uc8fc\uc18c\ub9cc \ubc14\uafd4\uc11c 5\uac1c\uc758 \ud30c\uc77c\uc744 \ub9cc\ub4ed\ub2c8\ub2e4."
     ]
    },
    {
     "cell_type": "markdown",
     "metadata": {},
     "source": [
      "----------------------------------------------------------------------------------------------------------------------"
     ]
    },
    {
     "cell_type": "code",
     "collapsed": false,
     "input": [],
     "language": "python",
     "metadata": {},
     "outputs": []
    }
   ],
   "metadata": {}
  }
 ]
}