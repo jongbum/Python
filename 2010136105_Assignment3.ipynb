{
 "metadata": {
  "name": "",
  "signature": "sha256:585d0d4995d66b3324fcc19b2830f18b85475bf213b591b37a55fbb049466b9d"
 },
 "nbformat": 3,
 "nbformat_minor": 0,
 "worksheets": [
  {
   "cells": [
    {
     "cell_type": "code",
     "collapsed": false,
     "input": [
      "L = [1,2,3,4,5]\n",
      "L[1:3] = [100]\n",
      "print L"
     ],
     "language": "python",
     "metadata": {},
     "outputs": [
      {
       "output_type": "stream",
       "stream": "stdout",
       "text": [
        "[1, 100, 4, 5]\n"
       ]
      }
     ],
     "prompt_number": 17
    },
    {
     "cell_type": "markdown",
     "metadata": {},
     "source": [
      "L\uc758 2\ubc88\uc9f8\uc640 3\ubc88\uc9f8\ub97c 100\uc73c\ub85c \ubc14\uafb8\ub294 "
     ]
    },
    {
     "cell_type": "code",
     "collapsed": false,
     "input": [
      "L = [1,2,3,4,5]\n",
      "L[1:3] = [(100)]\n",
      "print L"
     ],
     "language": "python",
     "metadata": {},
     "outputs": [
      {
       "output_type": "stream",
       "stream": "stdout",
       "text": [
        "[1, 100, 4, 5]\n"
       ]
      }
     ],
     "prompt_number": 18
    },
    {
     "cell_type": "markdown",
     "metadata": {},
     "source": [
      "L\uc758 2\ubc88\uc9f8\uc640 3\ubc88\uc9f8\ub97c 100\uc73c\ub85c \ubc14\uafb8\ub294 "
     ]
    },
    {
     "cell_type": "code",
     "collapsed": false,
     "input": [
      "L = [1,2,3,4,5]\n",
      "L[1:3] = 100\n",
      "print L"
     ],
     "language": "python",
     "metadata": {},
     "outputs": [
      {
       "ename": "TypeError",
       "evalue": "can only assign an iterable",
       "output_type": "pyerr",
       "traceback": [
        "\u001b[1;31m---------------------------------------------------------------------------\u001b[0m\n\u001b[1;31mTypeError\u001b[0m                                 Traceback (most recent call last)",
        "\u001b[1;32m<ipython-input-19-2190a12ebf8f>\u001b[0m in \u001b[0;36m<module>\u001b[1;34m()\u001b[0m\n\u001b[0;32m      1\u001b[0m \u001b[0mL\u001b[0m \u001b[1;33m=\u001b[0m \u001b[1;33m[\u001b[0m\u001b[1;36m1\u001b[0m\u001b[1;33m,\u001b[0m\u001b[1;36m2\u001b[0m\u001b[1;33m,\u001b[0m\u001b[1;36m3\u001b[0m\u001b[1;33m,\u001b[0m\u001b[1;36m4\u001b[0m\u001b[1;33m,\u001b[0m\u001b[1;36m5\u001b[0m\u001b[1;33m]\u001b[0m\u001b[1;33m\u001b[0m\u001b[0m\n\u001b[1;32m----> 2\u001b[1;33m \u001b[0mL\u001b[0m\u001b[1;33m[\u001b[0m\u001b[1;36m1\u001b[0m\u001b[1;33m:\u001b[0m\u001b[1;36m3\u001b[0m\u001b[1;33m]\u001b[0m \u001b[1;33m=\u001b[0m \u001b[1;36m100\u001b[0m\u001b[1;33m\u001b[0m\u001b[0m\n\u001b[0m\u001b[0;32m      3\u001b[0m \u001b[1;32mprint\u001b[0m \u001b[0mL\u001b[0m\u001b[1;33m\u001b[0m\u001b[0m\n",
        "\u001b[1;31mTypeError\u001b[0m: can only assign an iterable"
       ]
      }
     ],
     "prompt_number": 19
    },
    {
     "cell_type": "markdown",
     "metadata": {},
     "source": [
      "L\uc774 \ub9ac\uc2a4\ud2b8\uc774\uae30 \ub54c\ubb38\uc5d0 \ud560\ub2f9\ud560 \uc218 \uc5c6\uc2b5\ub2c8\ub2e4."
     ]
    },
    {
     "cell_type": "code",
     "collapsed": false,
     "input": [
      "L = [1,2,3,4,5]\n",
      "L[1:3] = (100)\n",
      "print L"
     ],
     "language": "python",
     "metadata": {},
     "outputs": [
      {
       "ename": "TypeError",
       "evalue": "can only assign an iterable",
       "output_type": "pyerr",
       "traceback": [
        "\u001b[1;31m---------------------------------------------------------------------------\u001b[0m\n\u001b[1;31mTypeError\u001b[0m                                 Traceback (most recent call last)",
        "\u001b[1;32m<ipython-input-20-c5aa4b5b4c59>\u001b[0m in \u001b[0;36m<module>\u001b[1;34m()\u001b[0m\n\u001b[0;32m      1\u001b[0m \u001b[0mL\u001b[0m \u001b[1;33m=\u001b[0m \u001b[1;33m[\u001b[0m\u001b[1;36m1\u001b[0m\u001b[1;33m,\u001b[0m\u001b[1;36m2\u001b[0m\u001b[1;33m,\u001b[0m\u001b[1;36m3\u001b[0m\u001b[1;33m,\u001b[0m\u001b[1;36m4\u001b[0m\u001b[1;33m,\u001b[0m\u001b[1;36m5\u001b[0m\u001b[1;33m]\u001b[0m\u001b[1;33m\u001b[0m\u001b[0m\n\u001b[1;32m----> 2\u001b[1;33m \u001b[0mL\u001b[0m\u001b[1;33m[\u001b[0m\u001b[1;36m1\u001b[0m\u001b[1;33m:\u001b[0m\u001b[1;36m3\u001b[0m\u001b[1;33m]\u001b[0m \u001b[1;33m=\u001b[0m \u001b[1;33m(\u001b[0m\u001b[1;36m100\u001b[0m\u001b[1;33m)\u001b[0m\u001b[1;33m\u001b[0m\u001b[0m\n\u001b[0m\u001b[0;32m      3\u001b[0m \u001b[1;32mprint\u001b[0m \u001b[0mL\u001b[0m\u001b[1;33m\u001b[0m\u001b[0m\n",
        "\u001b[1;31mTypeError\u001b[0m: can only assign an iterable"
       ]
      }
     ],
     "prompt_number": 20
    },
    {
     "cell_type": "markdown",
     "metadata": {},
     "source": [
      "\uac12\uc774 \ud558\ub098\uc778 \ud29c\ud50c\uc740 \ud560\ub2f9\ud560 \uc218 \uc5c6\uc2b5\ub2c8\ub2e4."
     ]
    },
    {
     "cell_type": "code",
     "collapsed": false,
     "input": [
      "L = [1,2,3,4,5]\n",
      "L[1:3] = (100,101,102)\n",
      "print L"
     ],
     "language": "python",
     "metadata": {},
     "outputs": [
      {
       "output_type": "stream",
       "stream": "stdout",
       "text": [
        "[1, 100, 101, 102, 4, 5]\n"
       ]
      }
     ],
     "prompt_number": 21
    },
    {
     "cell_type": "markdown",
     "metadata": {},
     "source": [
      "L\uc758 2\uc6403\uc744 100,101,102\ub85c \uce58\ud658 "
     ]
    },
    {
     "cell_type": "code",
     "collapsed": false,
     "input": [
      "L = [1,2,3,4,5]\n",
      "L[1:3] = [100,101,102]\n",
      "print L"
     ],
     "language": "python",
     "metadata": {},
     "outputs": [
      {
       "output_type": "stream",
       "stream": "stdout",
       "text": [
        "[1, 100, 101, 102, 4, 5]\n"
       ]
      }
     ],
     "prompt_number": 22
    },
    {
     "cell_type": "markdown",
     "metadata": {},
     "source": [
      "L\uc758 2\uc6403\uc744 100,101,102\ub85c \uce58\ud658 "
     ]
    },
    {
     "cell_type": "code",
     "collapsed": false,
     "input": [
      "L = [1,2,3,4,5]\n",
      "L[1:3] = [(100,101,102)]\n",
      "print L"
     ],
     "language": "python",
     "metadata": {},
     "outputs": [
      {
       "output_type": "stream",
       "stream": "stdout",
       "text": [
        "[1, (100, 101, 102), 4, 5]\n"
       ]
      }
     ],
     "prompt_number": 23
    },
    {
     "cell_type": "code",
     "collapsed": false,
     "input": [
      "L = [1,2,3,4,5]\n",
      "L[1:3] = [[100,101,102]]\n",
      "print L"
     ],
     "language": "python",
     "metadata": {},
     "outputs": [
      {
       "output_type": "stream",
       "stream": "stdout",
       "text": [
        "[1, [100, 101, 102], 4, 5]\n"
       ]
      }
     ],
     "prompt_number": 24
    },
    {
     "cell_type": "markdown",
     "metadata": {},
     "source": [
      "--------------------------------------------------------------------------"
     ]
    },
    {
     "cell_type": "code",
     "collapsed": false,
     "input": [
      "S = 'Hello World and Python'\n",
      "t1 = S.split()\n",
      "for x in range(len(t1)):\n",
      "    t2 = t1[::-1]\n",
      "t3= ''.join(t2)\n",
      "print t3"
     ],
     "language": "python",
     "metadata": {},
     "outputs": [
      {
       "output_type": "stream",
       "stream": "stdout",
       "text": [
        "PythonandWorldHello\n"
       ]
      }
     ],
     "prompt_number": 29
    },
    {
     "cell_type": "markdown",
     "metadata": {},
     "source": [
      "S.split()\ub85c \uac01 \ub2e8\uc5b4\ub4e4\uc740 \ub098\ub220\uc900\ud6c4 \ub2e8\uc5b4\ub4e4\uc744 \uc5ed\uc21c\uc73c\ub85c \uc815\ub82c\ud558\uace0 \uc815\ub82c\ub41c \ub2e8\uc5b4\ub4e4\uc744 \ud569\uce69\ub2c8\ub2e4."
     ]
    },
    {
     "cell_type": "markdown",
     "metadata": {},
     "source": [
      "--------------------------------------------------------------------------"
     ]
    },
    {
     "cell_type": "code",
     "collapsed": false,
     "input": [
      "a = [1,2,3]\n",
      "b = a*3\n",
      "c = [a]*3\n",
      "print b\n",
      "print c"
     ],
     "language": "python",
     "metadata": {},
     "outputs": [
      {
       "output_type": "stream",
       "stream": "stdout",
       "text": [
        "[1, 2, 3, 1, 2, 3, 1, 2, 3]\n",
        "[[1, 2, 3], [1, 2, 3], [1, 2, 3]]\n"
       ]
      }
     ],
     "prompt_number": 30
    },
    {
     "cell_type": "markdown",
     "metadata": {},
     "source": [
      "b \ub294 \uac12\uc744 3\ubc88 \ub354 \ubd99\uc774\ub294\uac70\uace0 c\ub294 \ub9ac\uc2a4\ud2b8 \uc804\uccb4\ub97c 3\ubc88 \ubd99\uc774\ub294 \uac83\uc785\ub2c8\ub2e4."
     ]
    },
    {
     "cell_type": "code",
     "collapsed": false,
     "input": [
      "a[0]=0\n",
      "print b\n",
      "print c"
     ],
     "language": "python",
     "metadata": {},
     "outputs": [
      {
       "output_type": "stream",
       "stream": "stdout",
       "text": [
        "[1, 2, 3, 1, 2, 3, 1, 2, 3]\n",
        "[[0, 2, 3], [0, 2, 3], [0, 2, 3]]\n"
       ]
      }
     ],
     "prompt_number": 31
    },
    {
     "cell_type": "markdown",
     "metadata": {},
     "source": [
      "b\ub294 a\ub97c \uadf8\ub300\ub85c 3\ubc88 \ub354\ud574\uc8fc\ub294\uac8c \uc544\ub2c8\ub77c copy\ud574\uc11c \ub2e4\ub978 a\ub97c \ucc38\uc870\ud558\uae30 \ub54c\ubb38\uc5d0 a\uc758 \uac12\uc774 \ubcc0\ud574\ub3c4 b\uc758 \uac12\uc740 \ubcc0\ud558\uc9c0 \uc54a\uc2b5\ub2c8\ub2e4."
     ]
    },
    {
     "cell_type": "markdown",
     "metadata": {},
     "source": [
      "--------------------------------------------------------------------------"
     ]
    },
    {
     "cell_type": "code",
     "collapsed": false,
     "input": [
      "s = '  first star   :   second star   :    third star  '\n",
      "L = [x.strip() for x in s.split(':')]\n",
      "print L"
     ],
     "language": "python",
     "metadata": {},
     "outputs": [
      {
       "output_type": "stream",
       "stream": "stdout",
       "text": [
        "['first star', 'second star', 'third star']\n"
       ]
      }
     ],
     "prompt_number": 32
    },
    {
     "cell_type": "markdown",
     "metadata": {},
     "source": [
      "\ub0b4\uc7a5 \ud568\uc218\ub97c \uc0ac\uc6a9\ud558\uc5ec ':'\ub97c \uae30\uc900\uc73c\ub85c \ub098\ub204\uace0 strip()\ud568\uc218\ub85c \uacf5\ubc31\uc744 \uc81c\uac70\ud574\uc90d\ub2c8\ub2e4."
     ]
    },
    {
     "cell_type": "markdown",
     "metadata": {},
     "source": [
      "--------------------------------------------------------------------------"
     ]
    },
    {
     "cell_type": "code",
     "collapsed": false,
     "input": [
      "def addallfor(a):\n",
      "    max = 0\n",
      "    for x in range(len(a)):\n",
      "        max +=a[x]\n",
      "    print max"
     ],
     "language": "python",
     "metadata": {},
     "outputs": [],
     "prompt_number": 35
    },
    {
     "cell_type": "code",
     "collapsed": false,
     "input": [
      "addallfor([1,2,3,4,5,6,7,8,9])"
     ],
     "language": "python",
     "metadata": {},
     "outputs": [
      {
       "output_type": "stream",
       "stream": "stdout",
       "text": [
        "45\n"
       ]
      }
     ],
     "prompt_number": 36
    },
    {
     "cell_type": "markdown",
     "metadata": {},
     "source": [
      "for \ubb38\uc744 \uc0ac\uc6a9\ud55c \ub9ac\uc2a4\ud2b8 \ucd1d\ud569\uc785\ub2c8\ub2e4."
     ]
    },
    {
     "cell_type": "code",
     "collapsed": false,
     "input": [
      "def addalloddfor(a):\n",
      "    max =0\n",
      "    for x in range(len(a)):\n",
      "        if(a[x]%2==1):\n",
      "            max+=a[x]\n",
      "    print max"
     ],
     "language": "python",
     "metadata": {},
     "outputs": [],
     "prompt_number": 37
    },
    {
     "cell_type": "code",
     "collapsed": false,
     "input": [
      "addalloddfor([1,2,3,4,5,6,7,8,9])"
     ],
     "language": "python",
     "metadata": {},
     "outputs": [
      {
       "output_type": "stream",
       "stream": "stdout",
       "text": [
        "25\n"
       ]
      }
     ],
     "prompt_number": 38
    },
    {
     "cell_type": "markdown",
     "metadata": {},
     "source": [
      "for\ubb38\uc744 \uc0ac\uc6a9\ud55c \ub9ac\uc2a4\ud2b8 \ud640\uc218 \ucd1d\ud569\uc785\ub2c8\ub2e4."
     ]
    },
    {
     "cell_type": "code",
     "collapsed": false,
     "input": [
      "def addalllist(list):\n",
      "    max=0\n",
      "    max=sum([list[x]for x in range(len(list))])\n",
      "    print max"
     ],
     "language": "python",
     "metadata": {},
     "outputs": [],
     "prompt_number": 2
    },
    {
     "cell_type": "code",
     "collapsed": false,
     "input": [
      "addalllist([1,2,3,4,5,6,7,8,9])"
     ],
     "language": "python",
     "metadata": {},
     "outputs": [
      {
       "output_type": "stream",
       "stream": "stdout",
       "text": [
        "45\n"
       ]
      }
     ],
     "prompt_number": 3
    },
    {
     "cell_type": "markdown",
     "metadata": {},
     "source": [
      "\ub9ac\uc2a4\ud2b8 \ub0b4\ud3ec\ub97c \uc774\uc6a9\ud55c \ub9ac\uc2a4\ud2b8 \ucd1d\ud569\uc785\ub2c8\ub2e4."
     ]
    },
    {
     "cell_type": "code",
     "collapsed": false,
     "input": [
      "def addalloddlist(list):\n",
      "    max=0\n",
      "    max=sum([list[x]for x in range(len(list))if(list[x]%2==1)])\n",
      "    print max"
     ],
     "language": "python",
     "metadata": {},
     "outputs": [],
     "prompt_number": 7
    },
    {
     "cell_type": "code",
     "collapsed": false,
     "input": [
      "addalloddlist([1,2,3,4,5,6,7,8,9])"
     ],
     "language": "python",
     "metadata": {},
     "outputs": [
      {
       "output_type": "stream",
       "stream": "stdout",
       "text": [
        "25\n"
       ]
      }
     ],
     "prompt_number": 8
    },
    {
     "cell_type": "markdown",
     "metadata": {},
     "source": [
      "\ub9ac\uc2a4\ud2b8 \ub0b4\ud3ec\ub97c \uc774\uc6a9\ud55c \ub9ac\uc2a4\ud2b8 \ud640\uc218 \ucd1d\ud569\uc785\ub2c8\ub2e4."
     ]
    },
    {
     "cell_type": "markdown",
     "metadata": {},
     "source": [
      "--------------------------------------------------------------------------"
     ]
    },
    {
     "cell_type": "code",
     "collapsed": false,
     "input": [
      "L1 = [1,2,3]\n",
      "L2 = [4,5,6]\n",
      "d = {'low':L1, 'high':L2}\n",
      "e = d\n",
      "f = d.copy()\n",
      "print d\n",
      "print e\n",
      "print f\n",
      "print \n",
      "d['low'] = [10,20,30]\n",
      "d['high'][1] = 500\n",
      "print d\n",
      "print e\n",
      "print f"
     ],
     "language": "python",
     "metadata": {},
     "outputs": [
      {
       "output_type": "stream",
       "stream": "stdout",
       "text": [
        "{'high': [4, 5, 6], 'low': [1, 2, 3]}\n",
        "{'high': [4, 5, 6], 'low': [1, 2, 3]}\n",
        "{'high': [4, 5, 6], 'low': [1, 2, 3]}\n",
        "\n",
        "{'high': [4, 500, 6], 'low': [10, 20, 30]}\n",
        "{'high': [4, 500, 6], 'low': [10, 20, 30]}\n",
        "{'high': [4, 500, 6], 'low': [1, 2, 3]}\n"
       ]
      }
     ],
     "prompt_number": 39
    },
    {
     "cell_type": "markdown",
     "metadata": {},
     "source": [
      "d \uc640 e\ub294 \uac19\uc740 \uc0ac\uc804\uc744 \ucc38\uace0\ud558\uace0 \uc788\uc5b4 \uac12\uc774 \ubc14\ub00c\uba74 d\uc640 e\ub294 \ubc14\ub00c\uc9c0\ub9cc f\ub294 copy\ub97c \ud588\uae30 \ub54c\ubb38\uc5d0 \ub530\ub85c \ubcf5\uc0ac\ud55c \uac12\uc744 \ucc38\uc870\ud558\uc5ec \uac12\uc774 \ubcc0\ud558\uc9c0 \uc54a\uc2b5\ub2c8\ub2e4."
     ]
    },
    {
     "cell_type": "markdown",
     "metadata": {},
     "source": [
      "--------------------------------------------------------------------------"
     ]
    },
    {
     "cell_type": "code",
     "collapsed": false,
     "input": [
      "d = {'one':1, 'two':2, 'three':3, 'four':4, 'five':5}\n",
      "items = d.items()\n",
      "items.sort()\n",
      "print items"
     ],
     "language": "python",
     "metadata": {},
     "outputs": [
      {
       "output_type": "stream",
       "stream": "stdout",
       "text": [
        "[('five', 5), ('four', 4), ('one', 1), ('three', 3), ('two', 2)]\n"
       ]
      }
     ],
     "prompt_number": 40
    },
    {
     "cell_type": "code",
     "collapsed": false,
     "input": [
      "items = d.items()\n",
      "items.sort(reverse = True)\n",
      "print items"
     ],
     "language": "python",
     "metadata": {},
     "outputs": [
      {
       "output_type": "stream",
       "stream": "stdout",
       "text": [
        "[('two', 2), ('three', 3), ('one', 1), ('four', 4), ('five', 5)]\n"
       ]
      }
     ],
     "prompt_number": 42
    },
    {
     "cell_type": "code",
     "collapsed": false,
     "input": [
      "d = {'one':1, 'two':2, 'three':3, 'four':4, 'five':5}\n",
      "t1 = d.items()\n",
      "t2 = d.values()\n",
      "t2.sort()\n",
      "t3 = []\n",
      "for x in range(len(t1)):\n",
      "    for y in range(len(t2)):\n",
      "        if(t2[x]==t1[y][1]):\n",
      "            t3.append(t1[y])\n",
      "print t3"
     ],
     "language": "python",
     "metadata": {},
     "outputs": [
      {
       "output_type": "stream",
       "stream": "stdout",
       "text": [
        "[('one', 1), ('two', 2), ('three', 3), ('four', 4), ('five', 5)]\n"
       ]
      }
     ],
     "prompt_number": 43
    },
    {
     "cell_type": "code",
     "collapsed": false,
     "input": [
      "d = {'one':1, 'two':2, 'three':3, 'four':4, 'five':5}\n",
      "t1 = d.items()\n",
      "t2 = d.values()\n",
      "t2.sort(reverse = True)\n",
      "t3 = []\n",
      "for x in range(len(t1)):\n",
      "    for y in range(len(t2)):\n",
      "        if(t2[x]==t1[y][1]):\n",
      "            t3.append(t1[y])\n",
      "print t3"
     ],
     "language": "python",
     "metadata": {},
     "outputs": [
      {
       "output_type": "stream",
       "stream": "stdout",
       "text": [
        "[('five', 5), ('four', 4), ('three', 3), ('two', 2), ('one', 1)]\n"
       ]
      }
     ],
     "prompt_number": 45
    },
    {
     "cell_type": "markdown",
     "metadata": {},
     "source": [
      "--------------------------------------------------------------------------"
     ]
    },
    {
     "cell_type": "code",
     "collapsed": false,
     "input": [
      "# -*- coding: utf-8 -*-\n",
      "import urllib\n",
      "import string\n",
      "\n",
      "source = urllib.urlopen(\"http://cse.kut.ac.kr/\").read()\n",
      "\n",
      "len_source = len(source)\n",
      "source_new = None\n",
      "i = 0\n",
      "while (i < len_source):\n",
      "\tfound = False\n",
      "\tif (found != True and source[i] == \"<\" and source[i+1 : i+7].lower() == \"script\"):\n",
      "\t\tfound = True;\n",
      "\t\tj = i + 7;\n",
      "\t\twhile (True):\n",
      "\t\t\tif (source[j] == \"<\" and source[j+1] == \"/\" and source[j+2 : j+8].lower() == \"script\"):\n",
      "\t\t\t\t#print \"found - script\"\n",
      "\t\t\t\tsource = source[:i] + ' ' + source[j+9:]\n",
      "\t\t\t\tbreak\n",
      "\t\t\tj = j + 1\n",
      "\t\t\tif (j > len_source):\n",
      "\t\t\t\tbreak\n",
      "\t\tlen_source = len(source)\n",
      "\ti = i + 1\n",
      "\n",
      "len_source = len(source)\n",
      "#print len_source\n",
      "\n",
      "i = 0\n",
      "while (i < len_source):\n",
      "\tfound = False\n",
      "\tif (found != True and source[i] == \"<\" and source[i+1 : i+6].lower() == \"style\"):\n",
      "\t\tfound = True;\n",
      "\t\tj = i + 6;\n",
      "\t\twhile (True):\n",
      "\t\t\tif (source[j] == \"<\" and source[j+1] == \"/\" and source[j+2 : j+7].lower() == \"style\"):\n",
      "\t\t\t\t#print \"found - style\"\n",
      "\t\t\t\tsource = source[:i] + ' ' + source[j+8:]\n",
      "\t\t\t\tbreak\n",
      "\t\t\tj = j + 1\n",
      "\t\t\tif (j > len_source):\n",
      "\t\t\t\tbreak\n",
      "\t\tlen_source = len(source)\n",
      "\ti = i + 1\n",
      "\n",
      "len_source = len(source)\n",
      "#print len_source\n",
      "\n",
      "i = 0\n",
      "while (i < len_source):\n",
      "\tfound = False\n",
      "\tif (found != True and source[i] == \"<\"):\n",
      "\t\tfound = True;\n",
      "\t\tj = i + 1;\n",
      "\t\twhile (True):\n",
      "\t\t\tif (source[j] == \">\"):\n",
      "\t\t\t\t#print \"found - HTML tag\"\n",
      "\t\t\t\tsource = source[:i] + ' ' + source[j+1:]\n",
      "\t\t\t\tbreak\n",
      "\t\t\tj = j + 1\n",
      "\t\t\tif (j > len_source):\n",
      "\t\t\t\tbreak\n",
      "\t\tlen_source = len(source)\n",
      "\ti = i + 1\n",
      "\n",
      "len_source = len(source)\n",
      "\n",
      "\n",
      "wordList = source.split()\n",
      "k = string.punctuation\n",
      "sourse = \" \".join(wordList)\n",
      "new_str = sourse.translate(None, k)\n",
      "    \n",
      "print new_str \n",
      "print    \n",
      "listvalue = new_str.split()\n",
      "countnum = []\n",
      "for x in range(len(listvalue)):\n",
      "    countnum.append(new_str.count(listvalue[x]))\n",
      "    \n",
      "print\n",
      "print\n",
      "print\n",
      "k = dict()\n",
      "\n",
      "for x in range(len(countnum)):\n",
      "    k[listvalue[x]] = countnum[x]\n",
      "\n",
      "\n",
      "print '{',\n",
      "for key in k.keys():\n",
      "    print \"'\"+key+':'+str(k[key])+\"'\", \n",
      "print '}'"
     ],
     "language": "python",
     "metadata": {},
     "outputs": [
      {
       "output_type": "stream",
       "stream": "stdout",
       "text": [
        "\ucef4\ud4e8\ud130\uacf5\ud559\ubd80 \ud648\ud398\uc774\uc9c0 \ucef4\ud4e8\ud130\uacf5\ud559\ubd80  \uad50\uc721\ubaa9\ud45c  \ucc3e\uc544\uc624\uc2dc\ub294\uae38  \uc878\uc5c5\uc791\ud488  \uacf5\ud559\uc124\uacc4  \ucde8\uc5c5\uc870\uc0ac2014  \ucde8\uc5c5\uc870\uc0ac2013 \uad50\uc218\uc9c4  \ud559\uc0dd\ud68c \uc878\uc5c5\uc774\uc218\uc694\uac74  \ucef4\ud4e8\ud130SW  \ucef4\ud4e8\ud130HW  \ucef4\ud4e8\ud130\uc2a4\ub9c8\ud2b8IT  \ucef4\ud4e8\ud130\uc2dc\uc2a4\ud15c\uc751\uc6a9  \uc7a5\ud559\uc81c\ub3c4 \ubaa8\uc9d1\uc694\uac15  \uc785\uc2dcQA \uacf5\uc9c0\uc0ac\ud56d  \uc790\uc720\uac8c\uc2dc\ud310  \uc775\uba85\uac8c\uc2dc\ud310  \ucde8\uc5c5\uac8c\uc2dc\ud310  \ub3d9\ubb38\uac8c\uc2dc\ud310  \uc0ac\uc9c4\uac8c\uc2dc\ud310  \ud559\ubd80\uc0ac\uc9c4\uac94\ub7ec\ub9ac  \uace0\uc7a5\uc2e0\uace0\uac8c\uc2dc\ud310 \uac15\uc758\uc790\ub8cc\uc2e4  \uc77c\ubc18\uc790\ub8cc\uc2e4  \uc11c\uc2dd\ubc0f\uc591\uc2dd\uc790\ub8cc\uc2e4 \ub300\ud559\uc6d0\uc18c\uac1c  \uc5f0\uad6c\uc2e4\uc18c\uac1c  \ub300\ud559\uc6d0\uac8c\uc2dc\ud310 \uacf5\ud559\uc778\uc99d\uc548\ub0b4  \uacf5\ud559\uc778\uc99d\uac8c\uc2dc\ud310  C 20140327 \uacf5\ud559\uc124\uacc4 \ud3ec\uc2a4\ud130\ubc1c\ud45c\uacbd\uc9c4\ub300\ud68c \ud22c\ud45c 20131210 2013\ub144 \uc878\uc5c5\uc791\ud488 \ube0c\ub85c\uc154 20131007 \uc81c 4\ub300 \ucef4\ud4e8\ud130\uacf5\ud559\ubd80 \ud559\ud68c\uc7a5\ubd80\ud559 20121105 \ub514\uc9c0\ud138 \uc2dc\uc2a4\ud15c \uc124\uacc41 \uc2e4\uc2b5\uc870\uad50 20120909 \ucef4\ud4e8\ud130\uacf5\ud559\ubd80 \ud559\uc0dd\ub4e4\uc744 \uc704\ud55c \ub18d\uad6c 20141006 \ud639\uc2dc \ud64d\uc9c4\ud45c \uad50\uc218\ub2d8\uc758 \ucef4\ud4e8\ud130 \uad6c nbsp 2 20141006 \uc18c\ud504\ud2b8\uc6e8\uc5b4 \uac1c\ubc1c\ubcf4\uc548 \uacbd\uc9c4\ub300\ud68c \uac1c\ucd5c 20141001 2015\ub144 \uc0c1\ubc18\uae30 \uc0bc\uc131 \uc18c\ud504\ud2b8\uc6e8\uc5b4  20140925 \uacfc \uc7a0\ubc14 \ubd88\ucd9c\uacf5\uc9c0\uc785\ub2c8\ub2e4 20140923 2014\ub144 Tmoney\ud55a\uad6d\uc2a4\ub9c8\ud2b8\uce74\ub4dc  20141014 \uc138\ub9bc\ud2f0\ub124\uc2a4\uc9c0\uc8fc \uc778\ub825 \ucc44\uc6a9 \uacf5\uace0 20140930 \uc8fc\uc5e0\ud504\ub860\ud2f0\uc5b4 \uc2dc\uc2a4\ud15c \uc6b4\uc601\uac1c\ubc1c  20140915 \ucef4\ud4e8\ud130\uacf5\ud559\ubd80 \ud559\ubd80\uc0ac\ubb34\uc2e4 \uccad\ub144\uc778\ud134 20140806 \uc8fc\uc2e0\uc9c4\uc5e0\ud14d 20140616 2014\ub144 \uc878\uc5c5 \uae40\uc7ac\uc6b0\ucc98\uc7a5 2014\ub144 \uc2a4\uc2b9 \ub300\ud559\uc6d0\uc0dd \ub300\uc0c1 \uc548\uc804\uad50\uc721 \uc548\ub0b4 10 20141014 \ud2b9\uc131\ud654\uc0ac\uc5c5\ub2e8 \uc77c\ubcf8\uae30\uc220\ud0d0\ubc29 \uc120 20141013 2014\ub144 \ud558\ubc18\uae30 \ud154\ucf54\uc6e8\uc5b4\uc8fc \uc2e0\uc785 20141010 \uc878\uc5c5\uc791\ud488 \uc804\uc2dc\ud68c \ucef4\ud4e8\ud130\uacf5\ud559\ubd80 \uc778 20141007 \uc7ac\uacf5\uc9c0 12\uc77c \ub9c8\uac10 \uc878\uc5c5\uc791\ud488 \ud3ec 20141004 2014\ub144 \uc878\uc5c5\uc791\ud488 \ucd5c\uc885\uacb0\uacfc \ubc1c\ud45c 20141001 \uacf5\uc9c02014\ub144 \uc878\uc5c5\uc791\ud488 \uc601\uc5b4\ubc1c\ud45c  20140925 \ubbf8\ub9ac\ubcf4\ub294 WIS 2014 \u2018\uc6d4\ub4dcIT\uc1fcW 20141014 \u201d\uac8c\uc784\uc73c\ub85c \uc735\ud569\ud615 \uc778\uc7ac \uc721\uc131\u201d STE 20141014 \uc2a4\ub9c8\ud2b8\ud3f0 \ud574\uc678 \uad6c\ub9e4 1\uc704\ub294 \uac24\ub7ed 20141014 \uc7ac\ub09c\ub9dd \ud45c\ub958 \uc6b0\ub824 \uae09\uc18d \ud655\uc0b0\u00b7\u00b7\u00b770 20141014 \uc9c0\ud0a4\ub824\ub294 \u97d3 \uc55e\uc11c\ub824\ub294 \u65e5\u00b7\u00b7\u00b7UHD 20141014\n",
        "\n",
        "\n",
        "\n",
        "\n",
        "{ '\uc785\uc2dcQA:1' '\ucef4\ud4e8\ud130\uc2dc\uc2a4\ud15c\uc751\uc6a9:1' '\uc601\uc5b4\ubc1c\ud45c:1' '\uc548\uc804\uad50\uc721:1' 'nbsp:1' '\uacf5\uc9c0\uc0ac\ud56d:1' '2013\ub144:1' '\uc8fc\uc2e0\uc9c4\uc5e0\ud14d:1' '\uc5f0\uad6c\uc2e4\uc18c\uac1c:1' '\ubc1c\ud45c:3' '\ubaa8\uc9d1\uc694\uac15:1' '\ucde8\uc5c5\uac8c\uc2dc\ud310:1' '\uc2a4\ub9c8\ud2b8\ud3f0:1' '2014:31' '\uc2e0\uc785:1' '\uc778\ub825:1' '\ub18d\uad6c:1' '\uacfc:2' '\u2018\uc6d4\ub4dcIT\uc1fcW:1' '\ud655\uc0b0\u00b7\u00b7\u00b770:1' '\u65e5\u00b7\u00b7\u00b7UHD:1' '20140616:1' '\uc9c0\ud0a4\ub824\ub294:1' '\uac15\uc758\uc790\ub8cc\uc2e4:1' '\ub300\ud559\uc6d0\uc0dd:1' '20140327:1' '\uc721\uc131\u201d:1' '\uc878\uc5c5\uc791\ud488:6' '\uc8fc\uc5e0\ud504\ub860\ud2f0\uc5b4:1' '\uc878\uc5c5:8' '2015\ub144:1' '\ub3d9\ubb38\uac8c\uc2dc\ud310:1' '\uae40\uc7ac\uc6b0\ucc98\uc7a5:1' '\ub514\uc9c0\ud138:1' '\ucd5c\uc885\uacb0\uacfc:1' '20131007:1' '20140806:1' '\ub300\uc0c1:1' '\uad50\uc218\uc9c4:1' '\ud559\ubd80\uc0ac\uc9c4\uac94\ub7ec\ub9ac:1' '\uc704\ud55c:1' '\uc0c1\ubc18\uae30:1' '\ud559\uc0dd\ud68c:1' '4\ub300:1' 'C:1' '\ud22c\ud45c:1' '\uac1c\ucd5c:1' '\ud3ec\uc2a4\ud130\ubc1c\ud45c\uacbd\uc9c4\ub300\ud68c:1' '\uad6c:4' '\uc0bc\uc131:1' '\uacf5\uc9c02014\ub144:1' '\uc0ac\uc9c4\uac8c\uc2dc\ud310:1' '\uacf5\ud559\uc778\uc99d\uc548\ub0b4:1' '1\uc704\ub294:1' '\ucef4\ud4e8\ud130SW:1' '\ud559\uc0dd\ub4e4\uc744:1' '\uad50\uc721\ubaa9\ud45c:1' '20120909:1' '\uc7ac\ub09c\ub9dd:1' '\uc778:6' '\ucde8\uc5c5\uc870\uc0ac2013:1' '\ubd88\ucd9c\uacf5\uc9c0\uc785\ub2c8\ub2e4:1' '\ucde8\uc5c5\uc870\uc0ac2014:1' 'Tmoney\ud55a\uad6d\uc2a4\ub9c8\ud2b8\uce74\ub4dc:1' '20141001:2' '20141006:2' '20141007:1' '20141004:1' '\uc6b0\ub824:1' '\uc138\ub9bc\ud2f0\ub124\uc2a4\uc9c0\uc8fc:1' '\ucef4\ud4e8\ud130:11' '\ud558\ubc18\uae30:1' '\uc6b4\uc601\uac1c\ubc1c:1' '\ucc3e\uc544\uc624\uc2dc\ub294\uae38:1' '20121105:1' '\uc7a5\ud559\uc81c\ub3c4:1' '\ud648\ud398\uc774\uc9c0:1' '2014\ub144:6' '\ub9c8\uac10:1' '\u201d\uac8c\uc784\uc73c\ub85c:1' '\uccad\ub144\uc778\ud134:1' '\uc7a0\ubc14:1' '\uc77c\ubcf8\uae30\uc220\ud0d0\ubc29:1' '\uc804\uc2dc\ud68c:1' '2:47' '\ud559\ud68c\uc7a5\ubd80\ud559:1' '20141014:7' '\u97d3:1' '20141010:1' '20141013:1' '\uc124\uacc41:1' '\ud154\ucf54\uc6e8\uc5b4\uc8fc:1' '\uc790\uc720\uac8c\uc2dc\ud310:1' '20131210:1' '\uacf5\uace0:1' '\uc548\ub0b4:2' '\uae09\uc18d:1' '\ub300\ud559\uc6d0\uc18c\uac1c:1' '\uacbd\uc9c4\ub300\ud68c:2' '10:20' '20140915:1' '\uc120:1' '\uc18c\ud504\ud2b8\uc6e8\uc5b4:2' '12\uc77c:1' '\uad6c\ub9e4:1' 'WIS:1' '\uc2dc\uc2a4\ud15c:3' '\ucef4\ud4e8\ud130HW:1' '\uc11c\uc2dd\ubc0f\uc591\uc2dd\uc790\ub8cc\uc2e4:1' '\ud64d\uc9c4\ud45c:1' '\ucef4\ud4e8\ud130\uacf5\ud559\ubd80:6' '\uc2e4\uc2b5\uc870\uad50:1' '\ud2b9\uc131\ud654\uc0ac\uc5c5\ub2e8:1' '20140923:1' '\uc55e\uc11c\ub824\ub294:1' '\ub300\ud559\uc6d0\uac8c\uc2dc\ud310:1' '20140925:2' '\uc7ac\uacf5\uc9c0:1' '\uc81c:2' '\ud3ec:2' '\uc77c\ubc18\uc790\ub8cc\uc2e4:1' '\ud45c\ub958:1' '\ud559\ubd80\uc0ac\ubb34\uc2e4:1' 'STE:1' '\uacf5\ud559\uc778\uc99d\uac8c\uc2dc\ud310:1' '\ubbf8\ub9ac\ubcf4\ub294:1' '\uc775\uba85\uac8c\uc2dc\ud310:1' '\ube0c\ub85c\uc154:1' '\ud574\uc678:1' '\uc878\uc5c5\uc774\uc218\uc694\uac74:1' '\uacf5\ud559\uc124\uacc4:2' '\uc735\ud569\ud615:1' '20140930:1' '\ucef4\ud4e8\ud130\uc2a4\ub9c8\ud2b8IT:1' '\uace0\uc7a5\uc2e0\uace0\uac8c\uc2dc\ud310:1' '\ucc44\uc6a9:1' '\uc778\uc7ac:1' '\uac1c\ubc1c\ubcf4\uc548:1' '\uc2a4\uc2b9:1' '\uad50\uc218\ub2d8\uc758:1' '\ud639\uc2dc:1' '\uac24\ub7ed:1' }\n"
       ]
      }
     ],
     "prompt_number": 11
    },
    {
     "cell_type": "markdown",
     "metadata": {},
     "source": [
      "\uad50\uc218\ub2d8\uaed8\uc11c \ub9cc\ub4dc\uc2e0 \ucf54\ub4dc\uc5d0 \ub9c8\uc9c0\ub9c9 \uc904\uc744 \uc218\uc815\ud558\uc5ec \ub9cc\ub4e4\uc5b4 \ubcf4\uc558\uc2b5\ub2c8\ub2e4."
     ]
    }
   ],
   "metadata": {}
  }
 ]
}