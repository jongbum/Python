{
 "metadata": {
  "name": "",
  "signature": "sha256:cdde3ec9331d61699e030545fb0d8d117e3e14c2d3affb22bfeb6ebc174f78dd"
 },
 "nbformat": 3,
 "nbformat_minor": 0,
 "worksheets": [
  {
   "cells": [
    {
     "cell_type": "code",
     "collapsed": false,
     "input": [
      "1 and 2 and 3 and 4"
     ],
     "language": "python",
     "metadata": {},
     "outputs": [
      {
       "metadata": {},
       "output_type": "pyout",
       "prompt_number": 1,
       "text": [
        "4"
       ]
      }
     ],
     "prompt_number": 1
    },
    {
     "cell_type": "markdown",
     "metadata": {},
     "source": [
      "and \ub294 \ubaa8\ub450\uac00 \uc591\ucabd \ubaa8\ub450\uac00 \ucc38\uc774\uc5ec\uc57c \ud558\uace0 \uc591\ucabd \ubaa8\ub450\uac00 \ucc38\uc77c\uc2dc \uc624\ub978\ucabd \uc218\uac00 \ucd9c\ub825\ub418\uc5b4 \ub9c8\uc9c0\ub9c9\uc778 4\uac00 \ucd9c\ub825\ub429\ub2c8\ub2e4."
     ]
    },
    {
     "cell_type": "code",
     "collapsed": false,
     "input": [
      "1 or 2 or 3 or 4"
     ],
     "language": "python",
     "metadata": {},
     "outputs": [
      {
       "metadata": {},
       "output_type": "pyout",
       "prompt_number": 2,
       "text": [
        "1"
       ]
      }
     ],
     "prompt_number": 2
    },
    {
     "cell_type": "markdown",
     "metadata": {},
     "source": [
      "or\uc740 \ud558\ub098\ub9cc \ucc38\uc774\uc5ec\ub3c4 \ub418\uace0 \uc591\ucabd\uc774 \ubaa8\ub450 0\uc774 \uc544\ub2cc \uc218\uc77c\ub584\ub294 \uc67c\ucabd\uc758 \uc218\uac00 \ucd9c\ub825\ub418\uc5b4 1\uc774 \ucd9c\ub825 \ub429\ub2c8\ub2e4.  "
     ]
    },
    {
     "cell_type": "code",
     "collapsed": false,
     "input": [
      "1 and 2 or 3 and 4"
     ],
     "language": "python",
     "metadata": {},
     "outputs": [
      {
       "metadata": {},
       "output_type": "pyout",
       "prompt_number": 3,
       "text": [
        "2"
       ]
      }
     ],
     "prompt_number": 3
    },
    {
     "cell_type": "markdown",
     "metadata": {},
     "source": [
      "1 and 2 \uc5d0\uc11c\ub294 2\uac00 \ucd9c\ub825\ub418\uace0 3 and 4\uc5d0\uc11c\ub294 4\uac00 \ucd9c\ub825\ub418\uc11c 2 or 4 \ud574\uc11c 2\uac00 \ucd9c\ub825 \ub429\ub2c8\ub2e4.(\uc6b0\uc120\uc21c\uc704 \ub54c\ubb38\uc5d0 and\uba3c\uc800\uacc4\uc0b0)"
     ]
    },
    {
     "cell_type": "code",
     "collapsed": false,
     "input": [
      "(1 and 2) or (3 and 4)"
     ],
     "language": "python",
     "metadata": {},
     "outputs": [
      {
       "metadata": {},
       "output_type": "pyout",
       "prompt_number": 4,
       "text": [
        "2"
       ]
      }
     ],
     "prompt_number": 4
    },
    {
     "cell_type": "markdown",
     "metadata": {},
     "source": [
      "1 and 2 \uc5d0\uc11c\ub294 2\uac00 \ucd9c\ub825\ub418\uace0 3 and 4\uc5d0\uc11c\ub294 4\uac00 \ucd9c\ub825\ub418\uc11c 2 or 4 \ud574\uc11c 2\uac00 \ucd9c\ub825 \ub429\ub2c8\ub2e4."
     ]
    },
    {
     "cell_type": "code",
     "collapsed": false,
     "input": [
      "1 or 2 and 3 or 4"
     ],
     "language": "python",
     "metadata": {},
     "outputs": [
      {
       "metadata": {},
       "output_type": "pyout",
       "prompt_number": 5,
       "text": [
        "1"
       ]
      }
     ],
     "prompt_number": 5
    },
    {
     "cell_type": "markdown",
     "metadata": {},
     "source": [
      "2 and 3 \uc740 3\uc774 \ucd9c\ub825\ub418\uace0 1 or 3 or 4 \ub294 \uc81c\uc77c \uc55e\uc5d0\uc788\ub294 1\uc774 \ucd9c\ub825\ub429\ub2c8\ub2e4."
     ]
    },
    {
     "cell_type": "code",
     "collapsed": false,
     "input": [
      "(1 or 2) and (3 or 4) "
     ],
     "language": "python",
     "metadata": {},
     "outputs": [
      {
       "metadata": {},
       "output_type": "pyout",
       "prompt_number": 6,
       "text": [
        "3"
       ]
      }
     ],
     "prompt_number": 6
    },
    {
     "cell_type": "markdown",
     "metadata": {},
     "source": [
      "1 or 2 \ub294 1\uc774 \ucd9c\ub825\ub418\uace0 3 or 4 \ub294 3\uc774 \uc6b8\ub825\ub418\uc11c 1 and 3\uc740 3\uc774 \ucd9c\ub825\ub429\ub2c8\ub2e4."
     ]
    },
    {
     "cell_type": "markdown",
     "metadata": {},
     "source": [
      "-------------------------------------------------------------------------------------------------"
     ]
    },
    {
     "cell_type": "code",
     "collapsed": false,
     "input": [
      "7/5, -7/5, -(7/5)"
     ],
     "language": "python",
     "metadata": {},
     "outputs": [
      {
       "metadata": {},
       "output_type": "pyout",
       "prompt_number": 7,
       "text": [
        "(1, -2, -1)"
       ]
      }
     ],
     "prompt_number": 7
    },
    {
     "cell_type": "markdown",
     "metadata": {},
     "source": [
      "7/5\ub294 \ubaab\uc774 1\uc774\uae30 \ub54c\ubb38\uc5d0 \ucd9c\ub825\uc7741 "
     ]
    },
    {
     "cell_type": "markdown",
     "metadata": {},
     "source": [
      "-7/5\ub294 \ubaab\uc774 -2\uc77c\ub54c\uc758 \ub098\uba38\uc9c0\uac00 \uc81c\uc77c \uc791\uae30\ub54c\ubb38\uc5d0 -2"
     ]
    },
    {
     "cell_type": "markdown",
     "metadata": {},
     "source": [
      "-(7/5)\ub294 7/5\ub97c \uba3c\uc790\ud55c\ud6c4 -\ub97c \ubd99\uc5ec\uc90c\ub2c8\ub2e4."
     ]
    },
    {
     "cell_type": "markdown",
     "metadata": {},
     "source": [
      "----------------------------------------------------------------------------------------------------"
     ]
    },
    {
     "cell_type": "code",
     "collapsed": false,
     "input": [
      "num = input('int : ')"
     ],
     "language": "python",
     "metadata": {},
     "outputs": [
      {
       "name": "stdout",
       "output_type": "stream",
       "stream": "stdout",
       "text": [
        "int : 6\n"
       ]
      }
     ],
     "prompt_number": 1
    },
    {
     "cell_type": "code",
     "collapsed": false,
     "input": [
      "if (~num > 0) :\n",
      "    print 'negative number'\n",
      "elif (~num == -1) :\n",
      "    print '0'\n",
      "else :\n",
      "    print 'positive number'"
     ],
     "language": "python",
     "metadata": {},
     "outputs": [
      {
       "output_type": "stream",
       "stream": "stdout",
       "text": [
        "positive number\n"
       ]
      }
     ],
     "prompt_number": 2
    },
    {
     "cell_type": "markdown",
     "metadata": {},
     "source": [
      "~\uc740 \uac12\uc5d0 1\uc744 \ube7c\uace0 1\uc758 \ubcf4\uc218\ub97c \ucde8\ud574\uc900 \uac83\uc73c\ub85c\uc368 \ubc18\uc804\uc744\ud574\uc11c \uac12\uc774 \uc74c\uc218\uac00 \ub098\uc624\uba74 \uc785\ub825\ud55c \uac12\uc774 \uc591\uc218\uac00 \ub098\uc624\uac8c \ub429\ub2c8\ub2e4."
     ]
    },
    {
     "cell_type": "markdown",
     "metadata": {},
     "source": [
      "----------------------------------------------------------------------------------------------------"
     ]
    },
    {
     "cell_type": "code",
     "collapsed": false,
     "input": [
      "a=[-1, -5, -10, 1 ,1 ,7 ,10]"
     ],
     "language": "python",
     "metadata": {},
     "outputs": [],
     "prompt_number": 60
    },
    {
     "cell_type": "code",
     "collapsed": false,
     "input": [
      "b=[-5, -4, -4, 1, 11, 7, 15]"
     ],
     "language": "python",
     "metadata": {},
     "outputs": [],
     "prompt_number": 61
    },
    {
     "cell_type": "code",
     "collapsed": false,
     "input": [
      "s=[]"
     ],
     "language": "python",
     "metadata": {},
     "outputs": [],
     "prompt_number": 62
    },
    {
     "cell_type": "markdown",
     "metadata": {},
     "source": [
      "s \ub9ac\uc2a4\ud2b8\ub294 a\uc640b\ub97c \ud569\uc9d1\ud569\ud55c \uc218\ub97c \uc800\uc7a5\ud560 \ub9ac\uc2a4\ud2b8\uc785\ub2c8\ub2e4."
     ]
    },
    {
     "cell_type": "code",
     "collapsed": false,
     "input": [
      "def list_union(lista, listb):\n",
      "    i=len(lista)\n",
      "    j=len(listb)\n",
      "    for x in range(i):\n",
      "        if(a[x] in s):\n",
      "            continue\n",
      "        else:\n",
      "            s.append(a[x])\n",
      "    for y in range(j):\n",
      "        if(b[y] in a):\n",
      "            continue\n",
      "        else:\n",
      "            if(b[y] in s):\n",
      "                continue\n",
      "            else:\n",
      "                s.append(b[y])\n",
      "    s.sort()"
     ],
     "language": "python",
     "metadata": {},
     "outputs": [],
     "prompt_number": 63
    },
    {
     "cell_type": "markdown",
     "metadata": {},
     "source": [
      "\uba3c\uc800 a,b\ub9ac\uc2a4\ud2b8\uc758 \uae38\uc774\ub97c \uad6c\ud55c\ud6c4, a\uc758 \uac12\uc744 s\ub9ac\uc2a4\ud2b8\uc5d0 \uc911\ubcf5\ud558\ub294\uac83\uc744 \uc81c\uc678\ud558\uace0 \uc800\uc7a5\ud569\ub2c8\ub2e4."
     ]
    },
    {
     "cell_type": "markdown",
     "metadata": {},
     "source": [
      "b\ub9ac\uc2a4\ud2b8\uc640 a\ub9ac\uc2a4\ud2b8\ub97c \ube44\uad50\ud558\uba74\uc11c \uc911\ubcf5\ub418\uc9c0 \uc54a\uc740 \uc218\ub97c \ub2e4\uc2dc s\ub9ac\uc2a4\ud2b8\uc640 \uc911\ubcf5\ud558\ub294\uc9c0 \ud655\uc778\ud55c\ud6c4 \ub458\ub2e4 \uc911\ubcf5 \ub418\uc9c0 \uc54a\uc744\uc2dc\uc5d0 "
     ]
    },
    {
     "cell_type": "markdown",
     "metadata": {},
     "source": [
      "s\ub9ac\uc2a4\ud2b8\uc5d0 \uc800\uc7a5\ud574\uc90d\ub2c8\ub2e4. \ub9c8\uc9c0\ub9c9\uc73c\ub85c sort\ub97c \ud574\uc90d\ub2c8\ub2e4."
     ]
    },
    {
     "cell_type": "code",
     "collapsed": false,
     "input": [
      "list_union(a,b)"
     ],
     "language": "python",
     "metadata": {},
     "outputs": [],
     "prompt_number": 64
    },
    {
     "cell_type": "code",
     "collapsed": false,
     "input": [
      "s"
     ],
     "language": "python",
     "metadata": {},
     "outputs": [
      {
       "metadata": {},
       "output_type": "pyout",
       "prompt_number": 65,
       "text": [
        "[-10, -5, -4, -1, 1, 7, 10, 11, 15]"
       ]
      }
     ],
     "prompt_number": 65
    },
    {
     "cell_type": "markdown",
     "metadata": {},
     "source": [
      "----------------------------------------------------------------------------------------------------"
     ]
    },
    {
     "cell_type": "code",
     "collapsed": false,
     "input": [
      "def div_path(s = '/usr/local/bin/python') :\n",
      "    print s.rsplit('/', 1)"
     ],
     "language": "python",
     "metadata": {},
     "outputs": [],
     "prompt_number": 66
    },
    {
     "cell_type": "markdown",
     "metadata": {},
     "source": [
      "rsplit\ub294 \uc624\ub978\ucabd\uc5d0\uc11c \uc22b\uc790 \ubc88\uc9f8 '/'\ub97c \uae30\uc900\uc73c\ub85c \uae00\uc790\ub97c \ub098\ub204\ub294 \uae30\ub2a5\uc785\ub2c8\ub2e4. "
     ]
    },
    {
     "cell_type": "code",
     "collapsed": false,
     "input": [
      "div_path('/home/jongbum/python/test.py')"
     ],
     "language": "python",
     "metadata": {},
     "outputs": [
      {
       "output_type": "stream",
       "stream": "stdout",
       "text": [
        "['/home/jongbum/python', 'test.py']\n"
       ]
      }
     ],
     "prompt_number": 67
    },
    {
     "cell_type": "markdown",
     "metadata": {},
     "source": [
      "----------------------------------------------------------------------------------------------------"
     ]
    },
    {
     "cell_type": "markdown",
     "metadata": {},
     "source": [
      "\uc774\ubc88 \uacfc\uc81c\uc5d0\uc11c\ub294 \uc5f0\uc0b0\uc790\uc640 \ube44\ud2b8, \ubb38\uc790\uc5f4, \ud568\uc218 \ub4f1\uc5d0 \ub300\ud55c \uacfc\uc81c\uc600\uc2b5\ub2c8\ub2e4. 6\ubc88\ubb38\uc81c\uc778 \uc6f9\ud398\uc774\uc9c0\uc758 \uc21c\uc218 \ud14d\uc2a4\ud2b8\ub97c \ucd94\ucd9c\ud558\ub294 \ubb38\uc81c\ub294 \ud574\uacb0\ud558\uc9c0 \ubabb\ud558\uc600\uc2b5\ub2c8\ub2e4."
     ]
    }
   ],
   "metadata": {}
  }
 ]
}