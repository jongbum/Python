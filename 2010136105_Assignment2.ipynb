{
 "metadata": {
  "name": "",
  "signature": "sha256:f0557aebda772cbfbc1163b120565a910cadeacfaf932ab6d300ce2f0f3a8afd"
 },
 "nbformat": 3,
 "nbformat_minor": 0,
 "worksheets": [
  {
   "cells": [
    {
     "cell_type": "code",
     "collapsed": false,
     "input": [
      "1 and 2 and 3 and 4"
     ],
     "language": "python",
     "metadata": {},
     "outputs": [
      {
       "metadata": {},
       "output_type": "pyout",
       "prompt_number": 1,
       "text": [
        "4"
       ]
      }
     ],
     "prompt_number": 1
    },
    {
     "cell_type": "markdown",
     "metadata": {},
     "source": [
      "and \ub294 \ubaa8\ub450\uac00 \uc591\ucabd \ubaa8\ub450\uac00 \ucc38\uc774\uc5ec\uc57c \ud558\uace0 \uc591\ucabd \ubaa8\ub450\uac00 \ucc38\uc77c\uc2dc \uc624\ub978\ucabd \uc218\uac00 \ucd9c\ub825\ub418\uc5b4 \ub9c8\uc9c0\ub9c9\uc778 4\uac00 \ucd9c\ub825\ub429\ub2c8\ub2e4."
     ]
    },
    {
     "cell_type": "code",
     "collapsed": false,
     "input": [
      "1 or 2 or 3 or 4"
     ],
     "language": "python",
     "metadata": {},
     "outputs": [
      {
       "metadata": {},
       "output_type": "pyout",
       "prompt_number": 2,
       "text": [
        "1"
       ]
      }
     ],
     "prompt_number": 2
    },
    {
     "cell_type": "markdown",
     "metadata": {},
     "source": [
      "or\uc740 \ud558\ub098\ub9cc \ucc38\uc774\uc5ec\ub3c4 \ub418\uace0 \uc591\ucabd\uc774 \ubaa8\ub450 0\uc774 \uc544\ub2cc \uc218\uc77c\ub584\ub294 \uc67c\ucabd\uc758 \uc218\uac00 \ucd9c\ub825\ub418\uc5b4 1\uc774 \ucd9c\ub825 \ub429\ub2c8\ub2e4.  "
     ]
    },
    {
     "cell_type": "code",
     "collapsed": false,
     "input": [
      "1 and 2 or 3 and 4"
     ],
     "language": "python",
     "metadata": {},
     "outputs": [
      {
       "metadata": {},
       "output_type": "pyout",
       "prompt_number": 3,
       "text": [
        "2"
       ]
      }
     ],
     "prompt_number": 3
    },
    {
     "cell_type": "markdown",
     "metadata": {},
     "source": [
      "1 and 2 \uc5d0\uc11c\ub294 2\uac00 \ucd9c\ub825\ub418\uace0 3 and 4\uc5d0\uc11c\ub294 4\uac00 \ucd9c\ub825\ub418\uc11c 2 or 4 \ud574\uc11c 2\uac00 \ucd9c\ub825 \ub429\ub2c8\ub2e4.(\uc6b0\uc120\uc21c\uc704 \ub54c\ubb38\uc5d0 and\uba3c\uc800\uacc4\uc0b0)"
     ]
    },
    {
     "cell_type": "code",
     "collapsed": false,
     "input": [
      "(1 and 2) or (3 and 4)"
     ],
     "language": "python",
     "metadata": {},
     "outputs": [
      {
       "metadata": {},
       "output_type": "pyout",
       "prompt_number": 4,
       "text": [
        "2"
       ]
      }
     ],
     "prompt_number": 4
    },
    {
     "cell_type": "markdown",
     "metadata": {},
     "source": [
      "1 and 2 \uc5d0\uc11c\ub294 2\uac00 \ucd9c\ub825\ub418\uace0 3 and 4\uc5d0\uc11c\ub294 4\uac00 \ucd9c\ub825\ub418\uc11c 2 or 4 \ud574\uc11c 2\uac00 \ucd9c\ub825 \ub429\ub2c8\ub2e4."
     ]
    },
    {
     "cell_type": "code",
     "collapsed": false,
     "input": [
      "1 or 2 and 3 or 4"
     ],
     "language": "python",
     "metadata": {},
     "outputs": [
      {
       "metadata": {},
       "output_type": "pyout",
       "prompt_number": 5,
       "text": [
        "1"
       ]
      }
     ],
     "prompt_number": 5
    },
    {
     "cell_type": "markdown",
     "metadata": {},
     "source": [
      "2 and 3 \uc740 3\uc774 \ucd9c\ub825\ub418\uace0 1 or 3 or 4 \ub294 \uc81c\uc77c \uc55e\uc5d0\uc788\ub294 1\uc774 \ucd9c\ub825\ub429\ub2c8\ub2e4."
     ]
    },
    {
     "cell_type": "code",
     "collapsed": false,
     "input": [
      "(1 or 2) and (3 or 4) "
     ],
     "language": "python",
     "metadata": {},
     "outputs": [
      {
       "metadata": {},
       "output_type": "pyout",
       "prompt_number": 6,
       "text": [
        "3"
       ]
      }
     ],
     "prompt_number": 6
    },
    {
     "cell_type": "markdown",
     "metadata": {},
     "source": [
      "1 or 2 \ub294 1\uc774 \ucd9c\ub825\ub418\uace0 3 or 4 \ub294 3\uc774 \uc6b8\ub825\ub418\uc11c 1 and 3\uc740 3\uc774 \ucd9c\ub825\ub429\ub2c8\ub2e4."
     ]
    },
    {
     "cell_type": "markdown",
     "metadata": {},
     "source": [
      "-------------------------------------------------------------------------------------------------"
     ]
    },
    {
     "cell_type": "code",
     "collapsed": false,
     "input": [
      "7/5, -7/5, -(7/5)"
     ],
     "language": "python",
     "metadata": {},
     "outputs": [
      {
       "metadata": {},
       "output_type": "pyout",
       "prompt_number": 7,
       "text": [
        "(1, -2, -1)"
       ]
      }
     ],
     "prompt_number": 7
    },
    {
     "cell_type": "markdown",
     "metadata": {},
     "source": [
      "7/5\ub294 \ubaab\uc774 1\uc774\uae30 \ub54c\ubb38\uc5d0 \ucd9c\ub825\uc7741 "
     ]
    },
    {
     "cell_type": "markdown",
     "metadata": {},
     "source": [
      "-7/5\ub294 \ubaab\uc774 -2\uc77c\ub54c\uc758 \ub098\uba38\uc9c0\uac00 \uc81c\uc77c \uc791\uae30\ub54c\ubb38\uc5d0 -2"
     ]
    },
    {
     "cell_type": "markdown",
     "metadata": {},
     "source": [
      "-(7/5)\ub294 7/5\ub97c \uba3c\uc790\ud55c\ud6c4 -\ub97c \ubd99\uc5ec\uc90c\ub2c8\ub2e4."
     ]
    },
    {
     "cell_type": "markdown",
     "metadata": {},
     "source": [
      "----------------------------------------------------------------------------------------------------"
     ]
    },
    {
     "cell_type": "code",
     "collapsed": false,
     "input": [
      "num = input('int : ')"
     ],
     "language": "python",
     "metadata": {},
     "outputs": [
      {
       "name": "stdout",
       "output_type": "stream",
       "stream": "stdout",
       "text": [
        "int : 6\n"
       ]
      }
     ],
     "prompt_number": 1
    },
    {
     "cell_type": "code",
     "collapsed": false,
     "input": [
      "if (~num > 0) :\n",
      "    print 'negative number'\n",
      "elif (~num == -1) :\n",
      "    print '0'\n",
      "else :\n",
      "    print 'positive number'"
     ],
     "language": "python",
     "metadata": {},
     "outputs": [
      {
       "output_type": "stream",
       "stream": "stdout",
       "text": [
        "positive number\n"
       ]
      }
     ],
     "prompt_number": 2
    },
    {
     "cell_type": "markdown",
     "metadata": {},
     "source": [
      "~\uc740 \uac12\uc5d0 1\uc744 \ube7c\uace0 1\uc758 \ubcf4\uc218\ub97c \ucde8\ud574\uc900 \uac83\uc73c\ub85c\uc368 \ubc18\uc804\uc744\ud574\uc11c \uac12\uc774 \uc74c\uc218\uac00 \ub098\uc624\uba74 \uc785\ub825\ud55c \uac12\uc774 \uc591\uc218\uac00 \ub098\uc624\uac8c \ub429\ub2c8\ub2e4."
     ]
    },
    {
     "cell_type": "markdown",
     "metadata": {},
     "source": [
      "----------------------------------------------------------------------------------------------------"
     ]
    },
    {
     "cell_type": "code",
     "collapsed": false,
     "input": [
      "a=[-1, -5, -10, 1 ,1 ,7 ,10]"
     ],
     "language": "python",
     "metadata": {},
     "outputs": [],
     "prompt_number": 60
    },
    {
     "cell_type": "code",
     "collapsed": false,
     "input": [
      "b=[-5, -4, -4, 1, 11, 7, 15]"
     ],
     "language": "python",
     "metadata": {},
     "outputs": [],
     "prompt_number": 61
    },
    {
     "cell_type": "code",
     "collapsed": false,
     "input": [
      "s=[]"
     ],
     "language": "python",
     "metadata": {},
     "outputs": [],
     "prompt_number": 62
    },
    {
     "cell_type": "markdown",
     "metadata": {},
     "source": [
      "s \ub9ac\uc2a4\ud2b8\ub294 a\uc640b\ub97c \ud569\uc9d1\ud569\ud55c \uc218\ub97c \uc800\uc7a5\ud560 \ub9ac\uc2a4\ud2b8\uc785\ub2c8\ub2e4."
     ]
    },
    {
     "cell_type": "code",
     "collapsed": false,
     "input": [
      "def list_union(lista, listb):\n",
      "    i=len(lista)\n",
      "    j=len(listb)\n",
      "    for x in range(i):\n",
      "        if(a[x] in s):\n",
      "            continue\n",
      "        else:\n",
      "            s.append(a[x])\n",
      "    for y in range(j):\n",
      "        if(b[y] in a):\n",
      "            continue\n",
      "        else:\n",
      "            if(b[y] in s):\n",
      "                continue\n",
      "            else:\n",
      "                s.append(b[y])\n",
      "    s.sort()"
     ],
     "language": "python",
     "metadata": {},
     "outputs": [],
     "prompt_number": 63
    },
    {
     "cell_type": "markdown",
     "metadata": {},
     "source": [
      "\uba3c\uc800 a,b\ub9ac\uc2a4\ud2b8\uc758 \uae38\uc774\ub97c \uad6c\ud55c\ud6c4, a\uc758 \uac12\uc744 s\ub9ac\uc2a4\ud2b8\uc5d0 \uc911\ubcf5\ud558\ub294\uac83\uc744 \uc81c\uc678\ud558\uace0 \uc800\uc7a5\ud569\ub2c8\ub2e4."
     ]
    },
    {
     "cell_type": "markdown",
     "metadata": {},
     "source": [
      "b\ub9ac\uc2a4\ud2b8\uc640 a\ub9ac\uc2a4\ud2b8\ub97c \ube44\uad50\ud558\uba74\uc11c \uc911\ubcf5\ub418\uc9c0 \uc54a\uc740 \uc218\ub97c \ub2e4\uc2dc s\ub9ac\uc2a4\ud2b8\uc640 \uc911\ubcf5\ud558\ub294\uc9c0 \ud655\uc778\ud55c\ud6c4 \ub458\ub2e4 \uc911\ubcf5 \ub418\uc9c0 \uc54a\uc744\uc2dc\uc5d0 "
     ]
    },
    {
     "cell_type": "markdown",
     "metadata": {},
     "source": [
      "s\ub9ac\uc2a4\ud2b8\uc5d0 \uc800\uc7a5\ud574\uc90d\ub2c8\ub2e4. \ub9c8\uc9c0\ub9c9\uc73c\ub85c sort\ub97c \ud574\uc90d\ub2c8\ub2e4."
     ]
    },
    {
     "cell_type": "code",
     "collapsed": false,
     "input": [
      "list_union(a,b)"
     ],
     "language": "python",
     "metadata": {},
     "outputs": [],
     "prompt_number": 64
    },
    {
     "cell_type": "code",
     "collapsed": false,
     "input": [
      "s"
     ],
     "language": "python",
     "metadata": {},
     "outputs": [
      {
       "metadata": {},
       "output_type": "pyout",
       "prompt_number": 65,
       "text": [
        "[-10, -5, -4, -1, 1, 7, 10, 11, 15]"
       ]
      }
     ],
     "prompt_number": 65
    },
    {
     "cell_type": "markdown",
     "metadata": {},
     "source": [
      "----------------------------------------------------------------------------------------------------"
     ]
    },
    {
     "cell_type": "code",
     "collapsed": false,
     "input": [
      "def div_path(s = '/usr/local/bin/python') :\n",
      "    print s.rsplit('/', 1)"
     ],
     "language": "python",
     "metadata": {},
     "outputs": [],
     "prompt_number": 66
    },
    {
     "cell_type": "markdown",
     "metadata": {},
     "source": [
      "rsplit\ub294 \uc624\ub978\ucabd\uc5d0\uc11c \uc22b\uc790 \ubc88\uc9f8 '/'\ub97c \uae30\uc900\uc73c\ub85c \uae00\uc790\ub97c \ub098\ub204\ub294 \uae30\ub2a5\uc785\ub2c8\ub2e4. "
     ]
    },
    {
     "cell_type": "code",
     "collapsed": false,
     "input": [
      "div_path('/home/jongbum/python/test.py')"
     ],
     "language": "python",
     "metadata": {},
     "outputs": [
      {
       "output_type": "stream",
       "stream": "stdout",
       "text": [
        "['/home/jongbum/python', 'test.py']\n"
       ]
      }
     ],
     "prompt_number": 67
    },
    {
     "cell_type": "markdown",
     "metadata": {},
     "source": [
      "----------------------------------------------------------------------------------------------------"
     ]
    },
    {
     "cell_type": "code",
     "collapsed": false,
     "input": [
      "import urllib\n",
      "s = urllib.urlopen('http://www.python.org/').read()\n",
      "M = \"\"\n",
      "for x in range(len(s)) :\n",
      "    if s.find('<style') == 0 :\n",
      "        s = s[s.find('</style>')+8:]\n",
      "    elif s.find('<STYLE') == 0 :\n",
      "        s = s[s.find('</STYLE>')+8:]\n",
      "    elif s.find('<script') == 0 :\n",
      "        s = s[s.find('</script>')+9:]\n",
      "    elif s.find('<SCRIPT') == 0 :\n",
      "        s = s[s.find('</SCRIPT>')+9:]\n",
      "    elif s.find('<') == 0 :\n",
      "        s = s[s.find('>')+1:]\n",
      "    else :\n",
      "        M += s[:s.find('<')]\n",
      "        s  = s[s.find('<'):]\n",
      "K = M.split()\n",
      "print K\n",
      "print ('\ucd1d\ub2e8\uc5b4\uc758 \uc218\ub294 %d \uc785\ub2c8\ub2e4. ' %len(K))"
     ],
     "language": "python",
     "metadata": {},
     "outputs": [
      {
       "output_type": "stream",
       "stream": "stdout",
       "text": [
        "['Welcome', 'to', 'Python.org', 'Skip', 'to', 'content', '&#9660;', 'Close', 'Python', 'PSF', 'Docs', 'PyPI', 'Jobs', 'Community', '&#9650;', 'The', 'Python', 'Network', '&equiv;', 'Menu', 'Search', 'This', 'Site', 'GO', 'A', 'A', 'Smaller', 'Larger', 'Reset', 'Socialize', 'Google+', 'Facebook', 'Twitter', 'IRC', 'on', 'Freenode', 'Sign', 'In', 'Sign', 'Up', '/', 'Register', 'Sign', 'In', 'About', 'Applications', 'Quotes', 'Getting', 'Started', 'Help', 'Downloads', 'All', 'releases', 'Source', 'code', 'Windows', 'Mac', 'OS', 'X', 'Other', 'Platforms', 'License', 'Alternative', 'Implementations', 'Documentation', 'Docs', 'Audio/Visual', 'Talks', 'Beginner&#39;s', 'Guide', 'Developer&#39;s', 'Guide', 'FAQ', 'Non-English', 'Docs', 'PEP', 'Index', 'Python', 'Books', 'Community', 'Diversity', 'IRC', 'Mailing', 'Lists', 'Python', 'Conferences', 'Special', 'Interest', 'Groups', 'Python', 'Wiki', 'Python', 'Logo', 'Merchandise', 'Community', 'Awards', 'Success', 'Stories', 'Arts', 'Business', 'Education', 'Engineering', 'Government', 'Scientific', 'Software', 'Development', 'News', 'Python', 'News', 'Community', 'News', 'PSF', 'News', 'PyCon', 'News', 'Events', 'Python', 'Events', 'User', 'Group', 'Events', 'Python', 'Events', 'Archive', 'User', 'Group', 'Events', 'Archive', 'Submit', 'an', 'Event', '&gt;_', 'Launch', 'Interactive', 'Shell', '#', 'Python', '3:', 'Fibonacci', 'series', 'up', 'to', 'n', '>>>', 'def', 'fib(n):', '>>>', 'a,', 'b', '=', '0,', '1', '>>>', 'while', 'a', '&lt;', 'n:', '>>>', 'print(a,', \"end='\", \"')\", '>>>', 'a,', 'b', '=', 'b,', 'a+b', '>>>', 'print()', '>>>', 'fib(1000)', '0', '1', '1', '2', '3', '5', '8', '13', '21', '34', '55', '89', '144', '233', '377', '610', 'Functions', 'Defined', 'The', 'core', 'of', 'extensible', 'programming', 'is', 'defining', 'functions.', 'Python', 'allows', 'mandatory', 'and', 'optional', 'arguments,', 'keyword', 'arguments,', 'and', 'even', 'arbitrary', 'argument', 'lists.', 'More', 'about', 'defining', 'functions', 'in', 'Python&nbsp;3', '#', 'Python', '3:', 'For', 'loop', 'on', 'a', 'list', '>>>', 'list', '=', '[2,', '4,', '6,', '8]', '>>>', 'sum', '=', '0', '>>>', 'for', 'num', 'in', 'list:', '>>>', 'sum', '=', 'sum', '+', 'num', '>>>', 'print(\"The', 'sum', 'is:\",', 'sum)', 'The', 'sum', 'is:', '20', 'All', 'the', 'Flow', 'You&rsquo;d', 'Expect', 'Python', 'knows', 'the', 'usual', 'control', 'flow', 'statements', 'that', 'other', 'languages', 'speak', '&mdash;', 'if,', 'for,', 'while', 'and', 'range', '&mdash;', 'with', 'some', 'of', 'its', 'own', 'twists,', 'of', 'course.', 'More', 'control', 'flow', 'tools', 'in', 'Python&nbsp;3', '#', 'Python', '3:', 'Simple', 'output', '(with', 'Unicode)', '>>>', 'print(\"Hello,', \"I'm\", 'Python!\")', 'Hello,', \"I'm\", 'Python!', '#', 'Input,', 'assignment', '>>>', 'name', '=', \"input('What\", 'is', 'your', \"name?\\\\n')\", '>>>', \"print('Hi,\", \"%s.'\", '%', 'name)', 'What', 'is', 'your', 'name?', 'Python', 'Hi,', 'Python.', 'Quick', '&amp;', 'Easy', 'to', 'Learn', 'Experienced', 'programmers', 'in', 'any', 'other', 'language', 'can', 'pick', 'up', 'Python', 'very', 'quickly,', 'and', 'beginners', 'find', 'the', 'clean', 'syntax', 'and', 'indentation', 'structure', 'easy', 'to', 'learn.', 'Whet', 'your', 'appetite', 'with', 'our', 'Python&nbsp;3', 'overview.', '#', 'Python', '3:', 'List', 'comprehensions', '>>>', 'fruits', '=', \"['Banana',\", \"'Apple',\", \"'Lime']\", '>>>', 'loud_fruits', '=', '[fruit.upper()', 'for', 'fruit', 'in', 'fruits]', '>>>', 'print(loud_fruits)', \"['BANANA',\", \"'APPLE',\", \"'LIME']\", '#', 'List', 'and', 'the', 'enumerate', 'function', '>>>', 'list(enumerate(fruits))', '[(0,', \"'Banana'),\", '(1,', \"'Apple'),\", '(2,', \"'Lime')]\", 'Compound', 'Data', 'Types', 'Lists', '(known', 'as', 'arrays', 'in', 'other', 'languages)', 'are', 'one', 'of', 'the', 'compound', 'data', 'types', 'that', 'Python', 'understands.', 'Lists', 'can', 'be', 'indexed,', 'sliced', 'and', 'manipulated', 'with', 'other', 'built-in', 'functions.', 'More', 'about', 'lists', 'in', 'Python&nbsp;3', '#', 'Python', '3:', 'Simple', 'arithmetic', '>>>', '1', '/', '2', '0.5', '>>>', '2', '**', '3', '8', '>>>', '17', '/', '3', '#', 'classic', 'division', 'returns', 'a', 'float', '5.666666666666667', '>>>', '17', '//', '3', '#', 'floor', 'division', '5', 'Intuitive', 'Interpretation', 'Calculations', 'are', 'simple', 'with', 'Python,', 'and', 'expression', 'syntax', 'is', 'straightforward:', 'the', 'operators', '+,', '-,', '*', 'and', '/', 'work', 'as', 'expected;', 'parentheses', '()', 'can', 'be', 'used', 'for', 'grouping.', 'More', 'about', 'simple', 'math', 'functions', 'in', 'Python&nbsp;3.', 'Python', 'is', 'a', 'programming', 'language', 'that', 'lets', 'you', 'work', 'quickly', 'and', 'integrate', 'systems', 'more', 'effectively.', 'Learn', 'More', 'Get', 'Started', 'Whether', \"you're\", 'new', 'to', 'programming', 'or', 'an', 'experienced', 'developer,', \"it's\", 'easy', 'to', 'learn', 'and', 'use', 'Python.', 'Start', 'with', 'our', 'Beginner&rsquo;s', 'Guide', 'Download', 'Python', 'source', 'code', 'and', 'installers', 'are', 'available', 'for', 'download', 'for', 'all', 'versions!', 'Not', 'sure', 'which', 'version', 'to', 'use?', 'Check', 'here.', 'Latest:', 'Python', '3.4.1', '-', 'Python', '2.7.8', 'Docs', 'Documentation', 'for', \"Python's\", 'standard', 'library,', 'along', 'with', 'tutorials', 'and', 'guides,', 'are', 'available', 'online.', 'docs.python.org', 'Jobs', 'Looking', 'for', 'work', 'or', 'have', 'a', 'Python', 'related', 'position', 'that', \"you're\", 'trying', 'to', 'hire', 'for?', 'Our', 'community-run', 'job', 'board', 'is', 'the', 'place', 'to', 'go.', 'jobs.python.org', 'Latest', 'News', 'More', '2014-08-01', 'Python', '3.4.1', 'was', 'released', 'on', 'May', '18th,', '2014,', 'with', 'over', '...', '2014-03-17', 'Python', '3.4.0', 'has', 'been', 'released', 'today.', 'Python', '3.4', 'includes', 'a', '...', '2014-03-11', 'A', 'new', 'bugfix', 'release,', 'Python', '3.3.5,', 'has', 'been', 'issued', 'to', '...', '2014-03-11', 'The', 'third', 'release', 'candidate', 'for', 'Python', '3.4', 'has', 'been', 'released.', '...', '2014-02-20', 'The', 'first', 'release', 'candidate', 'for', 'Python', '3.4,', 'Python', '3.4.0rc1,', 'has', '...', 'Upcoming', 'Events', 'More', '2014-09-30', 'Guadalajara,', 'Mexico', 'PUG', '2014-09-30', 'Python', 'Meeting', 'D\\xc3\\xbcsseldorf', '(PyDDF)', '2014-10-02', 'PyConZA', '2014', '2014-10-03', 'PyTexas', '2014', '2014-10-07', 'Fox', 'Valley', 'Python', 'User', 'Group', '(WI,', 'USA)', 'Success', 'Stories', 'More', 'ILM', 'runs', 'a', 'batch', 'processing', 'environment', 'capable', 'of', 'modeling,', 'rendering', 'and', 'compositing', 'tens', 'of', 'thousands', 'of', 'motion', 'picture', 'frames', 'per', 'day.', 'Thousands', 'of', 'machines', 'running', 'Linux,', 'IRIX,', 'Compaq', 'Tru64,', 'OS', 'X,', 'Solaris,', 'and', 'Windows', 'join', 'together', 'to', 'provide', 'a', 'production', 'pipeline', 'used', 'by', '~800', 'users', 'daily.', 'Speed', 'of', 'development', 'is', 'key,', 'and', 'Python', 'was', 'a', 'faster', 'way', 'to', 'code', '(and', 're-code)', 'the', 'programs', 'that', 'control', 'this', 'production', 'pipeline.', 'Industrial', 'Light', '&amp;', 'Magic', 'Runs', 'on', 'Python', 'by', 'Tim', 'Fortenberry', 'Use', 'Python', 'for&hellip;', 'More', 'Web', 'Programming:', 'Django,', 'Pyramid,', 'Bottle,', 'Tornado,', 'Flask,', 'web2py', 'GUI', 'Development:', 'wxPython,', 'tkInter,', 'PyGtk,', 'PyQt', 'Scientific', 'and', 'Numeric:', 'SciPy,', 'Pandas,', 'IPython', 'Software', 'Development:', 'Buildbot,', 'Trac,', 'Roundup', 'System', 'Administration:', 'Ansible,', 'Salt,', 'OpenStack', '&gt;&gt;&gt;', 'Python', 'Enhancement', 'Proposals', '(PEPs):', 'The', 'future', 'of', 'Python', 'is', 'discussed', 'here.', 'RSS', '&gt;&gt;&gt;', 'Python', 'Software', 'Foundation', 'The', 'mission', 'of', 'the', 'Python', 'Software', 'Foundation', 'is', 'to', 'promote,', 'protect,', 'and', 'advance', 'the', 'Python', 'programming', 'language,', 'and', 'to', 'support', 'and', 'facilitate', 'the', 'growth', 'of', 'a', 'diverse', 'and', 'international', 'community', 'of', 'Python', 'programmers.', 'Learn', 'more', 'Become', 'a', 'Member', 'Donate', 'to', 'the', 'PSF', '&#9650;', 'Back', 'to', 'Top', 'About', 'Applications', 'Quotes', 'Getting', 'Started', 'Help', 'Downloads', 'All', 'releases', 'Source', 'code', 'Windows', 'Mac', 'OS', 'X', 'Other', 'Platforms', 'License', 'Alternative', 'Implementations', 'Documentation', 'Docs', 'Audio/Visual', 'Talks', 'Beginner&#39;s', 'Guide', 'Developer&#39;s', 'Guide', 'FAQ', 'Non-English', 'Docs', 'PEP', 'Index', 'Python', 'Books', 'Community', 'Diversity', 'IRC', 'Mailing', 'Lists', 'Python', 'Conferences', 'Special', 'Interest', 'Groups', 'Python', 'Wiki', 'Python', 'Logo', 'Merchandise', 'Community', 'Awards', 'Success', 'Stories', 'Arts', 'Business', 'Education', 'Engineering', 'Government', 'Scientific', 'Software', 'Development', 'News', 'Python', 'News', 'Community', 'News', 'PSF', 'News', 'PyCon', 'News', 'Events', 'Python', 'Events', 'User', 'Group', 'Events', 'Python', 'Events', 'Archive', 'User', 'Group', 'Events', 'Archive', 'Submit', 'an', 'Event', '&#9650;', 'Back', 'to', 'Top', 'Help', '&amp;', 'General', 'Contact', 'Diversity', 'Initiatives', 'Website', 'Colophon-->', 'Copyright', '&copy;2001-2014.', '&nbsp;Python', 'Software', 'Foundation', '&nbsp;Legal', 'Statements', '&nbsp;Privacy', 'Policy', 'Notice:', 'While', 'Javascript', 'is', 'not', 'essential', 'for', 'this', 'website,', 'your', 'interaction', 'with', 'the', 'content', 'will', 'be', 'limited.', 'Please', 'turn', 'Javascript', 'on', 'for', 'the', 'full', 'experience.', 'Notice:', 'Your', 'browser', 'is', 'ancient', 'and', 'Microsoft', 'agrees.', 'Upgrade', 'to', 'a', 'different', 'browser', 'or', 'install', 'Google', 'Chrome', 'Frame', 'to', 'experience', 'a', 'better', 'web.']\n",
        "\ucd1d\ub2e8\uc5b4\uc758 \uc218\ub294 1039 \uc785\ub2c8\ub2e4. \n"
       ]
      }
     ],
     "prompt_number": 4
    },
    {
     "cell_type": "markdown",
     "metadata": {},
     "source": [
      "\uba3c\uc800 s \uc5d0 http://www.python.org/ url\uc744 \uc77d\uc5b4\uc640 \uc800\uc7a5\ud569\ub2c8\ub2e4. M\uc744 \ube48 \ubb38\uc790\uc5f4\ub85c \uc9c0\uc815\ud574 \uc90d\ub2c8\ub2e4."
     ]
    },
    {
     "cell_type": "markdown",
     "metadata": {},
     "source": [
      "for\ubb38\uc73c\ub85c \ubb38\uc790\uc5f4\uc758 \uae38\uc774\ub9cc\ud07c \ubc18\ubcf5\ud574\uc8fc\uba74\uc11c style\ub85c \uc2dc\uc791\ud574 /style\ub85c \ub05d\ub098\ub294 \ub610\ub294 script\ub85c \uc2dc\uc791\ud574 /script\ub85c \ub05d\ub098\ub294 \ub4f1\uacfc\uac19\uc774 "
     ]
    },
    {
     "cell_type": "markdown",
     "metadata": {},
     "source": [
      "\uc9c0\uc6cc\uc57c\ud560 \ubb38\uc790\uc758 \uc704\uce58\ub97c \ud30c\uc545\ud574 s\uc758 \ubb38\uc790\uc5f4\uc5d0 \ub123\uc2b5\ub2c8\ub2e4. \ub4a4\uc5d0 +8\uc744 \ud574\uc8fc\ub294 \uc774\uc720\ub294 /styple,/script\ub4f1\ub3c4 \uac19\uc774 \uc9c0\uc6cc\uc918\uc57c \ud558\uae30 \ub54c\ubb38\uc5d0 \uadf8 \uc22b\uc790\ub9cc\ud07c\uc744\ub354\ud569\ub2c8\ub2e4."
     ]
    },
    {
     "cell_type": "markdown",
     "metadata": {},
     "source": [
      "\uadf8\ud6c4 s \ubb38\uc790\uc5f4\uc5d0\uc11c \ucc3e\uc740 \uc704\uce58\ubd80\ud130 \uc9c0\uc6cc\uc57c\ud560 \uc704\uce58\uae4c\uc9c0\uc758 \ubb38\uc790\uc5f4\uc744 s\uc758 \ubb38\uc790\uc5f4\uc5d0\uc11c \uc9c0\uc6cc\uc90d\ub2c8\ub2e4. \uadf8\ub9ac\uace0 \uc2dc\uc791\uc9c0\uc810\uc774 \uc21c\uc218 \ubb38\uc790\uac00 \ub098\uc624\uba74 "
     ]
    },
    {
     "cell_type": "markdown",
     "metadata": {},
     "source": [
      "<\ubb38\uc790\uac00 \ub098\uc62c\ub54c\uae4c\uc9c0\uc758 \ud14d\uc2a4\ud2b8\ub97c M\ubb38\uc790\uc5f4\uc5d0 \uc800\uc7a5\ud574\uc90d\ub2c8\ub2e4."
     ]
    }
   ],
   "metadata": {}
  }
 ]
}