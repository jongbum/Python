{
 "metadata": {
  "name": "",
  "signature": "sha256:ee412a8f9d0349e3f58417b409080c66cb366d61feff63b27b1aad70a90faf72"
 },
 "nbformat": 3,
 "nbformat_minor": 0,
 "worksheets": [
  {
   "cells": [
    {
     "cell_type": "code",
     "collapsed": false,
     "input": [
      "s = \"python\""
     ],
     "language": "python",
     "metadata": {},
     "outputs": [],
     "prompt_number": 1
    },
    {
     "cell_type": "code",
     "collapsed": false,
     "input": [
      "s[0],s[0][0],s[0][0][0]"
     ],
     "language": "python",
     "metadata": {},
     "outputs": [
      {
       "metadata": {},
       "output_type": "pyout",
       "prompt_number": 2,
       "text": [
        "('p', 'p', 'p')"
       ]
      }
     ],
     "prompt_number": 2
    },
    {
     "cell_type": "markdown",
     "metadata": {},
     "source": [
      "s[0]\uc740 1\ucc28\uc6d0 \ubc30\uc5f4\uc5d0 \uccab\ubc88\uc9f8 \uc6d0\uc18c\ub97c \ub9d0\ud558\ub294 \uac83\uc774\uace0 "
     ]
    },
    {
     "cell_type": "markdown",
     "metadata": {},
     "source": [
      "s[0][0]\ub294 2\ucc28\uc6d0 \ubc30\uc5f4\uc5d0\uc11c 1\ucc28\uc6d0 \ubc30\uc5f4\uc758 \uccab\ubc88\uc9f8 \uc6d0\uc18c\ub97c \ub9d0\ud558\ub294 \uac83\uc774\uace0 "
     ]
    },
    {
     "cell_type": "markdown",
     "metadata": {},
     "source": [
      "s[0][0][0]\ub294 3\ucc28\uc6d0 \ubc30\uc5f4\uc5d0\uc11c 1\ucc28\uc6d0 \ubc30\uc5f4\uc758 1\ucc28\uc6d0 \ubc30\uc5f4\uc758 \ucc98\ubc88\uc9f8 \uc6d0\uc18c\ub97c \ub9d0\ud558\ub294 \uac83\uc785\ub2c8\ub2e4. "
     ]
    },
    {
     "cell_type": "markdown",
     "metadata": {},
     "source": [
      "\ubaa8\ub450 \uccab\ubc88\uc9f8 \uc6d0\uc18c\ub97c \ub9d0\ud558\ub294 \uac83\uc774\ub2c8 p\ub97c \ucd9c\ub825\ud558\uac8c \ub429\ub2c8\ub2e4. "
     ]
    },
    {
     "cell_type": "code",
     "collapsed": false,
     "input": [
      "s[-100], s[100]"
     ],
     "language": "python",
     "metadata": {},
     "outputs": [
      {
       "ename": "IndexError",
       "evalue": "string index out of range",
       "output_type": "pyerr",
       "traceback": [
        "\u001b[1;31m---------------------------------------------------------------------------\u001b[0m\n\u001b[1;31mIndexError\u001b[0m                                Traceback (most recent call last)",
        "\u001b[1;32m<ipython-input-3-b4e334910beb>\u001b[0m in \u001b[0;36m<module>\u001b[1;34m()\u001b[0m\n\u001b[1;32m----> 1\u001b[1;33m \u001b[0ms\u001b[0m\u001b[1;33m[\u001b[0m\u001b[1;33m-\u001b[0m\u001b[1;36m100\u001b[0m\u001b[1;33m]\u001b[0m\u001b[1;33m,\u001b[0m \u001b[0ms\u001b[0m\u001b[1;33m[\u001b[0m\u001b[1;36m100\u001b[0m\u001b[1;33m]\u001b[0m\u001b[1;33m\u001b[0m\u001b[0m\n\u001b[0m",
        "\u001b[1;31mIndexError\u001b[0m: string index out of range"
       ]
      }
     ],
     "prompt_number": 3
    },
    {
     "cell_type": "markdown",
     "metadata": {},
     "source": [
      "s[-1]\uc774\ub77c \ud558\uba74 n\uc774 \ucd9c\ub825\ub429\ub2c8\ub2e4. -\ub294 \ub4a4\uc5d0\uc11c \ubd80\ud130 \ucd9c\ub825 \ud558\ub294 \uac83\uc778\ub370 "
     ]
    },
    {
     "cell_type": "markdown",
     "metadata": {},
     "source": [
      "\uc6d0\uc18c\uac00 6\uac1c\ub85c \uc774\ub8e8\uc5b4 \uc838\uc788\ub294\ub370 100\uc744 \uc785\ub825\ud558\uc5ec \ud06c\uae30\uac00 \ub9de\uc9c0 \uc54a\uc544 \uc5d0\ub7ec\uac00 \ub098\uc624\uac8c \ub429\ub2c8\ub2e4."
     ]
    },
    {
     "cell_type": "raw",
     "metadata": {},
     "source": [
      "\uc704\uc640 \uac19\uc774 \uc6d0\uc18c\uac00 6\uac1c\uc778\ub370 s[100]\uc744 \uc785\ub825\ud558\uc5ec \uc5d0\ub7ec\uac00 \ub098\uc624\uac8c \ub429\ub2c8\ub2e4. "
     ]
    },
    {
     "cell_type": "code",
     "collapsed": false,
     "input": [
      "s[-100,100]"
     ],
     "language": "python",
     "metadata": {},
     "outputs": [
      {
       "ename": "TypeError",
       "evalue": "string indices must be integers, not tuple",
       "output_type": "pyerr",
       "traceback": [
        "\u001b[1;31m---------------------------------------------------------------------------\u001b[0m\n\u001b[1;31mTypeError\u001b[0m                                 Traceback (most recent call last)",
        "\u001b[1;32m<ipython-input-4-bf32d1c70cf0>\u001b[0m in \u001b[0;36m<module>\u001b[1;34m()\u001b[0m\n\u001b[1;32m----> 1\u001b[1;33m \u001b[0ms\u001b[0m\u001b[1;33m[\u001b[0m\u001b[1;33m-\u001b[0m\u001b[1;36m100\u001b[0m\u001b[1;33m,\u001b[0m\u001b[1;36m100\u001b[0m\u001b[1;33m]\u001b[0m\u001b[1;33m\u001b[0m\u001b[0m\n\u001b[0m",
        "\u001b[1;31mTypeError\u001b[0m: string indices must be integers, not tuple"
       ]
      }
     ],
     "prompt_number": 4
    },
    {
     "cell_type": "markdown",
     "metadata": {},
     "source": [
      "\ud604\uc7ac s \uc758 type\uc740 str\uc778\ub370 \uc5ec\uae30\uc5d0 int\ud615\uc758 -100,100\uc744 \uc785\ub825\ud558\uc5ec \uc5d0\ub7ec\uac00 \ub098\uc624\uac8c \ub429\ub2c8\ub2e4. "
     ]
    },
    {
     "cell_type": "code",
     "collapsed": false,
     "input": [
      "s[1:-1]"
     ],
     "language": "python",
     "metadata": {},
     "outputs": [
      {
       "metadata": {},
       "output_type": "pyout",
       "prompt_number": 5,
       "text": [
        "'ytho'"
       ]
      }
     ],
     "prompt_number": 5
    },
    {
     "cell_type": "markdown",
     "metadata": {},
     "source": [
      "s[1:-1]\uc5d0\uc11c \uc55e\uc5d0 1\uc740 s[1]\uc744 \uc758\ubbf8\ud558\uc5ec python\uc5d0\uc11c y\ub97c \uc758\ubbf8\ud558\uace0 "
     ]
    },
    {
     "cell_type": "markdown",
     "metadata": {},
     "source": [
      "s[:-1]\uc740 python\uc5d0\uc11c \ub9c8\uc9c0\ub9c9 \ubd80\ubd84\uc744 \ube7c\ub294 \uac83\uc744 \uc758\ubbf8\ud569\ub2c8\ub2e4. \ub530\ub77c\uc11c "
     ]
    },
    {
     "cell_type": "markdown",
     "metadata": {},
     "source": [
      "s[1:-1]\uc740 s[1]\uc758 y\ubd80\ud130 \ub9c8\uc9c0\ub9c9 \ubd80\ubd84 n\uc744 \ube80 ython\uac00 \ucd9c\ub825 \ub418\uac8c \ub429\ub2c8\ub2e4.  "
     ]
    },
    {
     "cell_type": "code",
     "collapsed": false,
     "input": [
      "s[3:-3]"
     ],
     "language": "python",
     "metadata": {},
     "outputs": [
      {
       "metadata": {},
       "output_type": "pyout",
       "prompt_number": 6,
       "text": [
        "''"
       ]
      }
     ],
     "prompt_number": 6
    },
    {
     "cell_type": "markdown",
     "metadata": {},
     "source": [
      "s[3]\uc740 h\ub97c \uc758\ubbf8\ud558\uac8c \ub418\uace0 s[:-3]\uc740 \ub4a4\uc5d0 3\uac1c\ub97c \ube80 pyt\ub97c \uc758\ubbf8\ud569\ub2c8\ub2e4. "
     ]
    },
    {
     "cell_type": "markdown",
     "metadata": {},
     "source": [
      "\ub530\ub77c\uc11c s[3:-3]\uc740 h\ubd80\ud130 \uc2dc\uc791\ud574\uc11c \ub4a4\uc5d0 3\uac1c\ub97c \ube80 \ub098\uba38\uc9c0\ub97c \ucd9c\ub825 \ud574\uc57c\ud558\ub294\ub370 \ub4a4\uc5d0\uc11c 3\uac1c\ub97c \ube7c\uac8c\ub418\uba74 "
     ]
    },
    {
     "cell_type": "markdown",
     "metadata": {},
     "source": [
      "\ub0a8\ub294 \ubb38\uc790\uac00 \uc5c6\uae30 \ub54c\ubb38\uc5d0 \ube48\uce78\uc778 ''\ub97c \ucd9c\ub825\ud558\uac8c \ub429\ub2c8\ub2e4. "
     ]
    }
   ],
   "metadata": {}
  }
 ]
}