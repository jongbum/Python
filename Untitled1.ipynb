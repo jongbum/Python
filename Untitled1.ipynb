{
 "metadata": {
  "name": "",
  "signature": "sha256:7af750debe9e14206afc427e6e3ef92e1ec93f0eb7cf4e8962a51598b7aeed56"
 },
 "nbformat": 3,
 "nbformat_minor": 0,
 "worksheets": [
  {
   "cells": [
    {
     "cell_type": "code",
     "collapsed": false,
     "input": [
      "b=\"Hello Python World\""
     ],
     "language": "python",
     "metadata": {},
     "outputs": [],
     "prompt_number": 1
    },
    {
     "cell_type": "markdown",
     "metadata": {},
     "source": [
      "b\uc5d0 Hello Python World\ub97c \uc785\ub825\ud569\ub2c8\ub2e4."
     ]
    },
    {
     "cell_type": "code",
     "collapsed": false,
     "input": [
      "b = b[13:] + b[5] + b[6:12] + b[5] + b[:5]"
     ],
     "language": "python",
     "metadata": {},
     "outputs": [],
     "prompt_number": 2
    },
    {
     "cell_type": "markdown",
     "metadata": {},
     "source": [
      "b[13:]\uc740 13\ubc88\uc9f8 w\ubd80\ud130 \ub05d\uae4c\uc9c0\ub97c \uc758\ubbf8\ud569\ub2c8\ub2e4."
     ]
    },
    {
     "cell_type": "markdown",
     "metadata": {},
     "source": [
      "b[5]\ub294 \ub744\uc5b4\uc4f0\uae30\ub97c \uc758\ubbf8\ud569\ub2c8\ub2e4."
     ]
    },
    {
     "cell_type": "markdown",
     "metadata": {},
     "source": [
      "b[6:12]\ub294 6\ubc88\uc9f8 P\ubd80\ud130 12\ubc88\uc9f8 n\uae4c\uc9c0\ub97c \uc758\ubbf8\ud569\ub2c8\ub2e4."
     ]
    },
    {
     "cell_type": "markdown",
     "metadata": {},
     "source": [
      "b[:5]\ub294 \ucc98\uc74c\ubd80\ud130 5\ubc88\uc9f8 o\uae4c\uc9c0\ub97c \uc758\ubbf8\ud569\ub2c8\ub2e4."
     ]
    },
    {
     "cell_type": "code",
     "collapsed": false,
     "input": [
      "print b"
     ],
     "language": "python",
     "metadata": {},
     "outputs": [
      {
       "output_type": "stream",
       "stream": "stdout",
       "text": [
        "World Python Hello\n"
       ]
      }
     ],
     "prompt_number": 3
    }
   ],
   "metadata": {}
  }
 ]
}